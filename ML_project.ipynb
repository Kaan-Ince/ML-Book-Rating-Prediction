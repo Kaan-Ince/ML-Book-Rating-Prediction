{
 "cells": [
  {
   "cell_type": "code",
   "execution_count": 1,
   "id": "06e264c0",
   "metadata": {},
   "outputs": [],
   "source": [
    "import numpy as np\n",
    "import pandas as pd\n",
    "import matplotlib.pyplot as plt\n",
    "import seaborn as sns"
   ]
  },
  {
   "cell_type": "code",
   "execution_count": 2,
   "id": "0d4efc1c",
   "metadata": {},
   "outputs": [],
   "source": [
    "df = pd.read_csv(\"./books.csv\", sep=\",\", on_bad_lines=\"skip\", index_col=\"bookID\")"
   ]
  },
  {
   "cell_type": "code",
   "execution_count": 3,
   "id": "c79fbf5f",
   "metadata": {},
   "outputs": [
    {
     "data": {
      "application/vnd.microsoft.datawrangler.viewer.v0+json": {
       "columns": [
        {
         "name": "bookID",
         "rawType": "int64",
         "type": "integer"
        },
        {
         "name": "title",
         "rawType": "object",
         "type": "string"
        },
        {
         "name": "authors",
         "rawType": "object",
         "type": "string"
        },
        {
         "name": "average_rating",
         "rawType": "float64",
         "type": "float"
        },
        {
         "name": "isbn",
         "rawType": "object",
         "type": "string"
        },
        {
         "name": "isbn13",
         "rawType": "int64",
         "type": "integer"
        },
        {
         "name": "language_code",
         "rawType": "object",
         "type": "string"
        },
        {
         "name": "  num_pages",
         "rawType": "int64",
         "type": "integer"
        },
        {
         "name": "ratings_count",
         "rawType": "int64",
         "type": "integer"
        },
        {
         "name": "text_reviews_count",
         "rawType": "int64",
         "type": "integer"
        },
        {
         "name": "publication_date",
         "rawType": "object",
         "type": "string"
        },
        {
         "name": "publisher",
         "rawType": "object",
         "type": "string"
        }
       ],
       "ref": "14c5b202-cfe8-4a53-8db8-435fd8ea14ae",
       "rows": [
        [
         "1",
         "Harry Potter and the Half-Blood Prince (Harry Potter  #6)",
         "J.K. Rowling/Mary GrandPré",
         "4.57",
         "0439785960",
         "9780439785969",
         "eng",
         "652",
         "2095690",
         "27591",
         "9/16/2006",
         "Scholastic Inc."
        ],
        [
         "2",
         "Harry Potter and the Order of the Phoenix (Harry Potter  #5)",
         "J.K. Rowling/Mary GrandPré",
         "4.49",
         "0439358078",
         "9780439358071",
         "eng",
         "870",
         "2153167",
         "29221",
         "9/1/2004",
         "Scholastic Inc."
        ],
        [
         "4",
         "Harry Potter and the Chamber of Secrets (Harry Potter  #2)",
         "J.K. Rowling",
         "4.42",
         "0439554896",
         "9780439554893",
         "eng",
         "352",
         "6333",
         "244",
         "11/1/2003",
         "Scholastic"
        ],
        [
         "5",
         "Harry Potter and the Prisoner of Azkaban (Harry Potter  #3)",
         "J.K. Rowling/Mary GrandPré",
         "4.56",
         "043965548X",
         "9780439655484",
         "eng",
         "435",
         "2339585",
         "36325",
         "5/1/2004",
         "Scholastic Inc."
        ],
        [
         "8",
         "Harry Potter Boxed Set  Books 1-5 (Harry Potter  #1-5)",
         "J.K. Rowling/Mary GrandPré",
         "4.78",
         "0439682584",
         "9780439682589",
         "eng",
         "2690",
         "41428",
         "164",
         "9/13/2004",
         "Scholastic"
        ],
        [
         "9",
         "Unauthorized Harry Potter Book Seven News: \"Half-Blood Prince\" Analysis and Speculation",
         "W. Frederick Zimmerman",
         "3.74",
         "0976540606",
         "9780976540601",
         "en-US",
         "152",
         "19",
         "1",
         "4/26/2005",
         "Nimble Books"
        ],
        [
         "10",
         "Harry Potter Collection (Harry Potter  #1-6)",
         "J.K. Rowling",
         "4.73",
         "0439827604",
         "9780439827607",
         "eng",
         "3342",
         "28242",
         "808",
         "9/12/2005",
         "Scholastic"
        ],
        [
         "12",
         "The Ultimate Hitchhiker's Guide: Five Complete Novels and One Story (Hitchhiker's Guide to the Galaxy  #1-5)",
         "Douglas Adams",
         "4.38",
         "0517226952",
         "9780517226957",
         "eng",
         "815",
         "3628",
         "254",
         "11/1/2005",
         "Gramercy Books"
        ],
        [
         "13",
         "The Ultimate Hitchhiker's Guide to the Galaxy (Hitchhiker's Guide to the Galaxy  #1-5)",
         "Douglas Adams",
         "4.38",
         "0345453743",
         "9780345453747",
         "eng",
         "815",
         "249558",
         "4080",
         "4/30/2002",
         "Del Rey Books"
        ],
        [
         "14",
         "The Hitchhiker's Guide to the Galaxy (Hitchhiker's Guide to the Galaxy  #1)",
         "Douglas Adams",
         "4.22",
         "1400052920",
         "9781400052929",
         "eng",
         "215",
         "4930",
         "460",
         "8/3/2004",
         "Crown"
        ],
        [
         "16",
         "The Hitchhiker's Guide to the Galaxy (Hitchhiker's Guide to the Galaxy  #1)",
         "Douglas Adams/Stephen Fry",
         "4.22",
         "0739322206",
         "9780739322208",
         "eng",
         "6",
         "1266",
         "253",
         "3/23/2005",
         "Random House Audio"
        ],
        [
         "18",
         "The Ultimate Hitchhiker's Guide (Hitchhiker's Guide to the Galaxy  #1-5)",
         "Douglas Adams",
         "4.38",
         "0517149257",
         "9780517149256",
         "eng",
         "815",
         "2877",
         "195",
         "1/17/1996",
         "Wings Books"
        ],
        [
         "21",
         "A Short History of Nearly Everything",
         "Bill Bryson",
         "4.21",
         "076790818X",
         "9780767908184",
         "eng",
         "544",
         "248558",
         "9396",
         "9/14/2004",
         "Broadway Books"
        ],
        [
         "22",
         "Bill Bryson's African Diary",
         "Bill Bryson",
         "3.44",
         "0767915062",
         "9780767915069",
         "eng",
         "55",
         "7270",
         "499",
         "12/3/2002",
         "Broadway Books"
        ],
        [
         "23",
         "Bryson's Dictionary of Troublesome Words: A Writer's Guide to Getting It Right",
         "Bill Bryson",
         "3.87",
         "0767910435",
         "9780767910439",
         "eng",
         "256",
         "2088",
         "131",
         "9/14/2004",
         "Broadway Books"
        ],
        [
         "24",
         "In a Sunburned Country",
         "Bill Bryson",
         "4.07",
         "0767903862",
         "9780767903868",
         "eng",
         "335",
         "72451",
         "4245",
         "5/15/2001",
         "Broadway Books"
        ],
        [
         "25",
         "I'm a Stranger Here Myself: Notes on Returning to America After Twenty Years Away",
         "Bill Bryson",
         "3.9",
         "076790382X",
         "9780767903820",
         "eng",
         "304",
         "49240",
         "2211",
         "6/28/2000",
         "Broadway Books"
        ],
        [
         "26",
         "The Lost Continent: Travels in Small Town America",
         "Bill Bryson",
         "3.83",
         "0060920084",
         "9780060920081",
         "eng",
         "299",
         "45712",
         "2257",
         "8/28/1990",
         "William Morrow Paperbacks"
        ],
        [
         "27",
         "Neither Here nor There: Travels in Europe",
         "Bill Bryson",
         "3.86",
         "0380713802",
         "9780380713806",
         "eng",
         "254",
         "48701",
         "2238",
         "3/28/1993",
         "William Morrow Paperbacks"
        ],
        [
         "28",
         "Notes from a Small Island",
         "Bill Bryson",
         "3.91",
         "0380727501",
         "9780380727506",
         "eng",
         "324",
         "80609",
         "3301",
         "5/28/1997",
         "William Morrow Paperbacks"
        ],
        [
         "29",
         "The Mother Tongue: English and How It Got That Way",
         "Bill Bryson",
         "3.93",
         "0380715430",
         "9780380715435",
         "eng",
         "270",
         "28489",
         "2085",
         "9/28/1991",
         "William Morrow Paperbacks"
        ],
        [
         "30",
         "J.R.R. Tolkien 4-Book Boxed Set: The Hobbit and The Lord of the Rings",
         "J.R.R. Tolkien",
         "4.59",
         "0345538374",
         "9780345538376",
         "eng",
         "1728",
         "101233",
         "1550",
         "9/25/2012",
         "Ballantine Books"
        ],
        [
         "31",
         "The Lord of the Rings (The Lord of the Rings  #1-3)",
         "J.R.R. Tolkien",
         "4.5",
         "0618517650",
         "9780618517657",
         "eng",
         "1184",
         "1710",
         "91",
         "10/21/2004",
         "Houghton Mifflin Harcourt"
        ],
        [
         "34",
         "The Fellowship of the Ring (The Lord of the Rings  #1)",
         "J.R.R. Tolkien",
         "4.36",
         "0618346252",
         "9780618346257",
         "eng",
         "398",
         "2128944",
         "13670",
         "9/5/2003",
         "Houghton Mifflin Harcourt"
        ],
        [
         "35",
         "The Lord of the Rings (The Lord of the Rings  #1-3)",
         "J.R.R. Tolkien/Alan  Lee",
         "4.5",
         "0618260587",
         "9780618260584",
         "en-US",
         "1216",
         "1618",
         "140",
         "10/1/2002",
         "Houghton Mifflin Harcourt"
        ],
        [
         "36",
         "The Lord of the Rings: Weapons and Warfare",
         "Chris   Smith/Christopher  Lee/Richard Taylor",
         "4.53",
         "0618391002",
         "9780618391004",
         "eng",
         "218",
         "19822",
         "46",
         "11/5/2003",
         "Houghton Mifflin Harcourt"
        ],
        [
         "37",
         "The Lord of the Rings: Complete Visual Companion",
         "Jude Fisher",
         "4.5",
         "0618510826",
         "9780618510825",
         "eng",
         "224",
         "359",
         "6",
         "11/15/2004",
         "Houghton Mifflin Harcourt"
        ],
        [
         "45",
         "Agile Web Development with Rails: A Pragmatic Guide",
         "Dave Thomas/David Heinemeier Hansson/Leon Breedt/Mike Clark/Thomas  Fuchs/Andreas  Schwarz",
         "3.84",
         "097669400X",
         "9780976694007",
         "eng",
         "558",
         "1430",
         "59",
         "7/28/2005",
         "Pragmatic Bookshelf"
        ],
        [
         "50",
         "Hatchet (Brian's Saga  #1)",
         "Gary Paulsen",
         "3.72",
         "0689840926",
         "9780689840920",
         "eng",
         "208",
         "270244",
         "12017",
         "4/1/2000",
         "Atheneum Books for Young Readers: Richard Jackson Books"
        ],
        [
         "51",
         "Hatchet: A Guide for Using \"Hatchet\" in the Classroom",
         "Donna Ickes/Edward Sciranko/Keith Vasconcelles",
         "4.0",
         "1557344493",
         "9781557344496",
         "eng",
         "48",
         "36",
         "2",
         "8/28/1994",
         "Teacher Created Resources"
        ],
        [
         "53",
         "Guts: The True Stories behind Hatchet and the Brian Books",
         "Gary Paulsen",
         "3.88",
         "0385326505",
         "9780385326506",
         "eng",
         "144",
         "2067",
         "334",
         "1/23/2001",
         "Delacorte Press"
        ],
        [
         "54",
         "Molly Hatchet - 5 of the Best",
         "Molly Hatchet",
         "4.33",
         "1575606240",
         "9781575606248",
         "eng",
         "56",
         "6",
         "0",
         "6/10/2003",
         "Cherry Lane Music Company"
        ],
        [
         "55",
         "Hatchet Jobs: Writings on Contemporary Fiction",
         "Dale Peck",
         "3.45",
         "1595580271",
         "9781595580276",
         "en-US",
         "228",
         "99",
         "16",
         "11/1/2005",
         "The New Press"
        ],
        [
         "57",
         "A Changeling for All Seasons (Changeling Seasons #1)",
         "Angela Knight/Sahara Kelly/Judy Mays/Marteeka Karland/Kate Douglas/Shelby Morgen/Lacey Savage/Kate Hill/Willa Okati",
         "3.76",
         "1595962808",
         "9781595962805",
         "eng",
         "304",
         "167",
         "4",
         "11/1/2005",
         "Changeling Press"
        ],
        [
         "58",
         "Changeling (Changeling  #1)",
         "Delia Sherman",
         "3.6",
         "0670059676",
         "9780670059676",
         "eng",
         "256",
         "978",
         "111",
         "8/17/2006",
         "Viking Juvenile"
        ],
        [
         "59",
         "The Changeling Sea",
         "Patricia A. McKillip",
         "4.06",
         "0141312629",
         "9780141312620",
         "eng",
         "137",
         "4454",
         "302",
         "4/14/2003",
         "Firebird"
        ],
        [
         "61",
         "The Changeling",
         "Zilpha Keatley Snyder",
         "4.17",
         "0595321801",
         "9780595321803",
         "eng",
         "228",
         "1176",
         "96",
         "6/8/2004",
         "iUniverse"
        ],
        [
         "63",
         "The Changeling",
         "Kate Horsley",
         "3.55",
         "1590301943",
         "9781590301944",
         "eng",
         "339",
         "301",
         "43",
         "4/12/2005",
         "Shambhala"
        ],
        [
         "66",
         "The Changeling (Daughters of England  #15)",
         "Philippa Carr",
         "3.98",
         "0449146979",
         "9780449146972",
         "eng",
         "369",
         "345",
         "12",
         "8/28/1990",
         "Ivy Books"
        ],
        [
         "67",
         "The Known World",
         "Edward P. Jones",
         "3.83",
         "0061159174",
         "9780061159176",
         "eng",
         "388",
         "29686",
         "2626",
         "8/29/2006",
         "Amistad"
        ],
        [
         "68",
         "The Known World",
         "Edward P. Jones/Kevin R. Free",
         "3.83",
         "006076273X",
         "9780060762735",
         "en-US",
         "14",
         "55",
         "12",
         "6/15/2004",
         "HarperAudio"
        ],
        [
         "69",
         "The Known World",
         "Edward P. Jones",
         "3.83",
         "0060749911",
         "9780060749910",
         "eng",
         "576",
         "22",
         "3",
         "6/15/2004",
         "Harper"
        ],
        [
         "71",
         "Traders  Guns & Money: Knowns and Unknowns in the Dazzling World of Derivatives",
         "Satyajit Das",
         "3.83",
         "0273704745",
         "9780273704744",
         "eng",
         "334",
         "1456",
         "82",
         "5/15/2006",
         "FT Press"
        ],
        [
         "72",
         "Artesia: Adventures in the Known World",
         "Mark Smylie",
         "4.13",
         "1932386106",
         "9781932386103",
         "eng",
         "352",
         "52",
         "4",
         "12/14/2005",
         "Archaia"
        ],
        [
         "74",
         "The John McPhee Reader (John McPhee Reader  #1)",
         "John McPhee/William Howarth",
         "4.42",
         "0374517193",
         "9780374517199",
         "eng",
         "416",
         "562",
         "37",
         "6/1/1982",
         "Farrar  Straus and Giroux"
        ],
        [
         "75",
         "Uncommon Carriers",
         "John McPhee",
         "3.95",
         "0374280398",
         "9780374280390",
         "en-US",
         "248",
         "1630",
         "203",
         "5/16/2006",
         "Farrar Straus Giroux"
        ],
        [
         "76",
         "Heirs of General Practice",
         "John McPhee",
         "4.17",
         "0374519749",
         "9780374519742",
         "eng",
         "128",
         "268",
         "22",
         "4/1/1986",
         "Farrar  Straus and Giroux"
        ],
        [
         "77",
         "The Control of Nature",
         "John McPhee",
         "4.24",
         "0374522596",
         "9780374522599",
         "en-US",
         "288",
         "3498",
         "305",
         "9/1/1990",
         "Farrar  Straus and Giroux"
        ],
        [
         "78",
         "Annals of the Former World",
         "John McPhee",
         "4.34",
         "0374518734",
         "9780374518738",
         "eng",
         "720",
         "3115",
         "228",
         "1/6/1999",
         "Farrar  Straus and Giroux"
        ],
        [
         "79",
         "Coming Into the Country",
         "John McPhee",
         "4.22",
         "0374522871",
         "9780374522872",
         "eng",
         "448",
         "5704",
         "261",
         "4/1/1991",
         "Farrar  Straus and Giroux"
        ]
       ],
       "shape": {
        "columns": 11,
        "rows": 11123
       }
      },
      "text/html": [
       "<div>\n",
       "<style scoped>\n",
       "    .dataframe tbody tr th:only-of-type {\n",
       "        vertical-align: middle;\n",
       "    }\n",
       "\n",
       "    .dataframe tbody tr th {\n",
       "        vertical-align: top;\n",
       "    }\n",
       "\n",
       "    .dataframe thead th {\n",
       "        text-align: right;\n",
       "    }\n",
       "</style>\n",
       "<table border=\"1\" class=\"dataframe\">\n",
       "  <thead>\n",
       "    <tr style=\"text-align: right;\">\n",
       "      <th></th>\n",
       "      <th>title</th>\n",
       "      <th>authors</th>\n",
       "      <th>average_rating</th>\n",
       "      <th>isbn</th>\n",
       "      <th>isbn13</th>\n",
       "      <th>language_code</th>\n",
       "      <th>num_pages</th>\n",
       "      <th>ratings_count</th>\n",
       "      <th>text_reviews_count</th>\n",
       "      <th>publication_date</th>\n",
       "      <th>publisher</th>\n",
       "    </tr>\n",
       "    <tr>\n",
       "      <th>bookID</th>\n",
       "      <th></th>\n",
       "      <th></th>\n",
       "      <th></th>\n",
       "      <th></th>\n",
       "      <th></th>\n",
       "      <th></th>\n",
       "      <th></th>\n",
       "      <th></th>\n",
       "      <th></th>\n",
       "      <th></th>\n",
       "      <th></th>\n",
       "    </tr>\n",
       "  </thead>\n",
       "  <tbody>\n",
       "    <tr>\n",
       "      <th>1</th>\n",
       "      <td>Harry Potter and the Half-Blood Prince (Harry ...</td>\n",
       "      <td>J.K. Rowling/Mary GrandPré</td>\n",
       "      <td>4.57</td>\n",
       "      <td>0439785960</td>\n",
       "      <td>9780439785969</td>\n",
       "      <td>eng</td>\n",
       "      <td>652</td>\n",
       "      <td>2095690</td>\n",
       "      <td>27591</td>\n",
       "      <td>9/16/2006</td>\n",
       "      <td>Scholastic Inc.</td>\n",
       "    </tr>\n",
       "    <tr>\n",
       "      <th>2</th>\n",
       "      <td>Harry Potter and the Order of the Phoenix (Har...</td>\n",
       "      <td>J.K. Rowling/Mary GrandPré</td>\n",
       "      <td>4.49</td>\n",
       "      <td>0439358078</td>\n",
       "      <td>9780439358071</td>\n",
       "      <td>eng</td>\n",
       "      <td>870</td>\n",
       "      <td>2153167</td>\n",
       "      <td>29221</td>\n",
       "      <td>9/1/2004</td>\n",
       "      <td>Scholastic Inc.</td>\n",
       "    </tr>\n",
       "    <tr>\n",
       "      <th>4</th>\n",
       "      <td>Harry Potter and the Chamber of Secrets (Harry...</td>\n",
       "      <td>J.K. Rowling</td>\n",
       "      <td>4.42</td>\n",
       "      <td>0439554896</td>\n",
       "      <td>9780439554893</td>\n",
       "      <td>eng</td>\n",
       "      <td>352</td>\n",
       "      <td>6333</td>\n",
       "      <td>244</td>\n",
       "      <td>11/1/2003</td>\n",
       "      <td>Scholastic</td>\n",
       "    </tr>\n",
       "    <tr>\n",
       "      <th>5</th>\n",
       "      <td>Harry Potter and the Prisoner of Azkaban (Harr...</td>\n",
       "      <td>J.K. Rowling/Mary GrandPré</td>\n",
       "      <td>4.56</td>\n",
       "      <td>043965548X</td>\n",
       "      <td>9780439655484</td>\n",
       "      <td>eng</td>\n",
       "      <td>435</td>\n",
       "      <td>2339585</td>\n",
       "      <td>36325</td>\n",
       "      <td>5/1/2004</td>\n",
       "      <td>Scholastic Inc.</td>\n",
       "    </tr>\n",
       "    <tr>\n",
       "      <th>8</th>\n",
       "      <td>Harry Potter Boxed Set  Books 1-5 (Harry Potte...</td>\n",
       "      <td>J.K. Rowling/Mary GrandPré</td>\n",
       "      <td>4.78</td>\n",
       "      <td>0439682584</td>\n",
       "      <td>9780439682589</td>\n",
       "      <td>eng</td>\n",
       "      <td>2690</td>\n",
       "      <td>41428</td>\n",
       "      <td>164</td>\n",
       "      <td>9/13/2004</td>\n",
       "      <td>Scholastic</td>\n",
       "    </tr>\n",
       "    <tr>\n",
       "      <th>...</th>\n",
       "      <td>...</td>\n",
       "      <td>...</td>\n",
       "      <td>...</td>\n",
       "      <td>...</td>\n",
       "      <td>...</td>\n",
       "      <td>...</td>\n",
       "      <td>...</td>\n",
       "      <td>...</td>\n",
       "      <td>...</td>\n",
       "      <td>...</td>\n",
       "      <td>...</td>\n",
       "    </tr>\n",
       "    <tr>\n",
       "      <th>45631</th>\n",
       "      <td>Expelled from Eden: A William T. Vollmann Reader</td>\n",
       "      <td>William T. Vollmann/Larry McCaffery/Michael He...</td>\n",
       "      <td>4.06</td>\n",
       "      <td>1560254416</td>\n",
       "      <td>9781560254416</td>\n",
       "      <td>eng</td>\n",
       "      <td>512</td>\n",
       "      <td>156</td>\n",
       "      <td>20</td>\n",
       "      <td>12/21/2004</td>\n",
       "      <td>Da Capo Press</td>\n",
       "    </tr>\n",
       "    <tr>\n",
       "      <th>45633</th>\n",
       "      <td>You Bright and Risen Angels</td>\n",
       "      <td>William T. Vollmann</td>\n",
       "      <td>4.08</td>\n",
       "      <td>0140110879</td>\n",
       "      <td>9780140110876</td>\n",
       "      <td>eng</td>\n",
       "      <td>635</td>\n",
       "      <td>783</td>\n",
       "      <td>56</td>\n",
       "      <td>12/1/1988</td>\n",
       "      <td>Penguin Books</td>\n",
       "    </tr>\n",
       "    <tr>\n",
       "      <th>45634</th>\n",
       "      <td>The Ice-Shirt (Seven Dreams #1)</td>\n",
       "      <td>William T. Vollmann</td>\n",
       "      <td>3.96</td>\n",
       "      <td>0140131965</td>\n",
       "      <td>9780140131963</td>\n",
       "      <td>eng</td>\n",
       "      <td>415</td>\n",
       "      <td>820</td>\n",
       "      <td>95</td>\n",
       "      <td>8/1/1993</td>\n",
       "      <td>Penguin Books</td>\n",
       "    </tr>\n",
       "    <tr>\n",
       "      <th>45639</th>\n",
       "      <td>Poor People</td>\n",
       "      <td>William T. Vollmann</td>\n",
       "      <td>3.72</td>\n",
       "      <td>0060878827</td>\n",
       "      <td>9780060878825</td>\n",
       "      <td>eng</td>\n",
       "      <td>434</td>\n",
       "      <td>769</td>\n",
       "      <td>139</td>\n",
       "      <td>2/27/2007</td>\n",
       "      <td>Ecco</td>\n",
       "    </tr>\n",
       "    <tr>\n",
       "      <th>45641</th>\n",
       "      <td>Las aventuras de Tom Sawyer</td>\n",
       "      <td>Mark Twain</td>\n",
       "      <td>3.91</td>\n",
       "      <td>8497646983</td>\n",
       "      <td>9788497646987</td>\n",
       "      <td>spa</td>\n",
       "      <td>272</td>\n",
       "      <td>113</td>\n",
       "      <td>12</td>\n",
       "      <td>5/28/2006</td>\n",
       "      <td>Edimat Libros</td>\n",
       "    </tr>\n",
       "  </tbody>\n",
       "</table>\n",
       "<p>11123 rows × 11 columns</p>\n",
       "</div>"
      ],
      "text/plain": [
       "                                                    title  \\\n",
       "bookID                                                      \n",
       "1       Harry Potter and the Half-Blood Prince (Harry ...   \n",
       "2       Harry Potter and the Order of the Phoenix (Har...   \n",
       "4       Harry Potter and the Chamber of Secrets (Harry...   \n",
       "5       Harry Potter and the Prisoner of Azkaban (Harr...   \n",
       "8       Harry Potter Boxed Set  Books 1-5 (Harry Potte...   \n",
       "...                                                   ...   \n",
       "45631    Expelled from Eden: A William T. Vollmann Reader   \n",
       "45633                         You Bright and Risen Angels   \n",
       "45634                     The Ice-Shirt (Seven Dreams #1)   \n",
       "45639                                         Poor People   \n",
       "45641                         Las aventuras de Tom Sawyer   \n",
       "\n",
       "                                                  authors  average_rating  \\\n",
       "bookID                                                                      \n",
       "1                              J.K. Rowling/Mary GrandPré            4.57   \n",
       "2                              J.K. Rowling/Mary GrandPré            4.49   \n",
       "4                                            J.K. Rowling            4.42   \n",
       "5                              J.K. Rowling/Mary GrandPré            4.56   \n",
       "8                              J.K. Rowling/Mary GrandPré            4.78   \n",
       "...                                                   ...             ...   \n",
       "45631   William T. Vollmann/Larry McCaffery/Michael He...            4.06   \n",
       "45633                                 William T. Vollmann            4.08   \n",
       "45634                                 William T. Vollmann            3.96   \n",
       "45639                                 William T. Vollmann            3.72   \n",
       "45641                                          Mark Twain            3.91   \n",
       "\n",
       "              isbn         isbn13 language_code    num_pages  ratings_count  \\\n",
       "bookID                                                                        \n",
       "1       0439785960  9780439785969           eng          652        2095690   \n",
       "2       0439358078  9780439358071           eng          870        2153167   \n",
       "4       0439554896  9780439554893           eng          352           6333   \n",
       "5       043965548X  9780439655484           eng          435        2339585   \n",
       "8       0439682584  9780439682589           eng         2690          41428   \n",
       "...            ...            ...           ...          ...            ...   \n",
       "45631   1560254416  9781560254416           eng          512            156   \n",
       "45633   0140110879  9780140110876           eng          635            783   \n",
       "45634   0140131965  9780140131963           eng          415            820   \n",
       "45639   0060878827  9780060878825           eng          434            769   \n",
       "45641   8497646983  9788497646987           spa          272            113   \n",
       "\n",
       "        text_reviews_count publication_date        publisher  \n",
       "bookID                                                        \n",
       "1                    27591        9/16/2006  Scholastic Inc.  \n",
       "2                    29221         9/1/2004  Scholastic Inc.  \n",
       "4                      244        11/1/2003       Scholastic  \n",
       "5                    36325         5/1/2004  Scholastic Inc.  \n",
       "8                      164        9/13/2004       Scholastic  \n",
       "...                    ...              ...              ...  \n",
       "45631                   20       12/21/2004    Da Capo Press  \n",
       "45633                   56        12/1/1988    Penguin Books  \n",
       "45634                   95         8/1/1993    Penguin Books  \n",
       "45639                  139        2/27/2007             Ecco  \n",
       "45641                   12        5/28/2006    Edimat Libros  \n",
       "\n",
       "[11123 rows x 11 columns]"
      ]
     },
     "execution_count": 3,
     "metadata": {},
     "output_type": "execute_result"
    }
   ],
   "source": [
    "df"
   ]
  },
  {
   "cell_type": "markdown",
   "id": "a236376c",
   "metadata": {},
   "source": [
    "## 1. Data Preparation Stage"
   ]
  },
  {
   "cell_type": "code",
   "execution_count": 4,
   "id": "eaeb1237",
   "metadata": {},
   "outputs": [
    {
     "name": "stdout",
     "output_type": "stream",
     "text": [
      "<class 'pandas.core.frame.DataFrame'>\n",
      "Index: 11123 entries, 1 to 45641\n",
      "Data columns (total 11 columns):\n",
      " #   Column              Non-Null Count  Dtype  \n",
      "---  ------              --------------  -----  \n",
      " 0   title               11123 non-null  object \n",
      " 1   authors             11123 non-null  object \n",
      " 2   average_rating      11123 non-null  float64\n",
      " 3   isbn                11123 non-null  object \n",
      " 4   isbn13              11123 non-null  int64  \n",
      " 5   language_code       11123 non-null  object \n",
      " 6     num_pages         11123 non-null  int64  \n",
      " 7   ratings_count       11123 non-null  int64  \n",
      " 8   text_reviews_count  11123 non-null  int64  \n",
      " 9   publication_date    11123 non-null  object \n",
      " 10  publisher           11123 non-null  object \n",
      "dtypes: float64(1), int64(4), object(6)\n",
      "memory usage: 1.0+ MB\n"
     ]
    }
   ],
   "source": [
    "df.info()"
   ]
  },
  {
   "cell_type": "code",
   "execution_count": 5,
   "id": "86ebecc0",
   "metadata": {},
   "outputs": [],
   "source": [
    "df.rename({\"  num_pages\": \"num_pages\"}, axis=1, inplace=True)"
   ]
  },
  {
   "cell_type": "code",
   "execution_count": 6,
   "id": "e16d0ce2",
   "metadata": {},
   "outputs": [
    {
     "data": {
      "application/vnd.microsoft.datawrangler.viewer.v0+json": {
       "columns": [
        {
         "name": "index",
         "rawType": "object",
         "type": "string"
        },
        {
         "name": "0",
         "rawType": "int64",
         "type": "integer"
        }
       ],
       "ref": "6d9ccabc-5225-48db-a3a9-7eb6bfbd6442",
       "rows": [
        [
         "title",
         "10348"
        ],
        [
         "authors",
         "6639"
        ],
        [
         "average_rating",
         "209"
        ],
        [
         "isbn",
         "11123"
        ],
        [
         "isbn13",
         "11123"
        ],
        [
         "language_code",
         "27"
        ],
        [
         "num_pages",
         "997"
        ],
        [
         "ratings_count",
         "5294"
        ],
        [
         "text_reviews_count",
         "1822"
        ],
        [
         "publication_date",
         "3679"
        ],
        [
         "publisher",
         "2290"
        ]
       ],
       "shape": {
        "columns": 1,
        "rows": 11
       }
      },
      "text/plain": [
       "title                 10348\n",
       "authors                6639\n",
       "average_rating          209\n",
       "isbn                  11123\n",
       "isbn13                11123\n",
       "language_code            27\n",
       "num_pages               997\n",
       "ratings_count          5294\n",
       "text_reviews_count     1822\n",
       "publication_date       3679\n",
       "publisher              2290\n",
       "dtype: int64"
      ]
     },
     "execution_count": 6,
     "metadata": {},
     "output_type": "execute_result"
    }
   ],
   "source": [
    "df.nunique()"
   ]
  },
  {
   "cell_type": "markdown",
   "id": "6750bf48",
   "metadata": {},
   "source": [
    "#### !!! Above result gives us 10348 unique book titles, while the dataset includes 11123 books in total !!!\n",
    "This is addressed and taken into account during the Fine-Tuning stage."
   ]
  },
  {
   "cell_type": "code",
   "execution_count": 7,
   "id": "ab81b408",
   "metadata": {},
   "outputs": [
    {
     "data": {
      "application/vnd.microsoft.datawrangler.viewer.v0+json": {
       "columns": [
        {
         "name": "index",
         "rawType": "object",
         "type": "string"
        },
        {
         "name": "average_rating",
         "rawType": "float64",
         "type": "float"
        },
        {
         "name": "isbn13",
         "rawType": "float64",
         "type": "float"
        },
        {
         "name": "num_pages",
         "rawType": "float64",
         "type": "float"
        },
        {
         "name": "ratings_count",
         "rawType": "float64",
         "type": "float"
        },
        {
         "name": "text_reviews_count",
         "rawType": "float64",
         "type": "float"
        }
       ],
       "ref": "1d1d8962-9ed3-4d7a-93da-226523d62be8",
       "rows": [
        [
         "count",
         "11123.0",
         "11123.0",
         "11123.0",
         "11123.0",
         "11123.0"
        ],
        [
         "mean",
         "3.9340753393868564",
         "9759880247639.154",
         "336.4055560550211",
         "17942.848062573048",
         "542.048098534568"
        ],
        [
         "std",
         "0.3504853116512785",
         "442975846058.3528",
         "241.15262644400372",
         "112499.15347087417",
         "2576.6195894341045"
        ],
        [
         "min",
         "0.0",
         "8987059752.0",
         "0.0",
         "0.0",
         "0.0"
        ],
        [
         "25%",
         "3.77",
         "9780345453803.5",
         "192.0",
         "104.0",
         "9.0"
        ],
        [
         "50%",
         "3.96",
         "9780582461536.0",
         "299.0",
         "745.0",
         "47.0"
        ],
        [
         "75%",
         "4.14",
         "9780872208045.5",
         "416.0",
         "5000.5",
         "238.0"
        ],
        [
         "max",
         "5.0",
         "9790007672386.0",
         "6576.0",
         "4597666.0",
         "94265.0"
        ]
       ],
       "shape": {
        "columns": 5,
        "rows": 8
       }
      },
      "text/html": [
       "<div>\n",
       "<style scoped>\n",
       "    .dataframe tbody tr th:only-of-type {\n",
       "        vertical-align: middle;\n",
       "    }\n",
       "\n",
       "    .dataframe tbody tr th {\n",
       "        vertical-align: top;\n",
       "    }\n",
       "\n",
       "    .dataframe thead th {\n",
       "        text-align: right;\n",
       "    }\n",
       "</style>\n",
       "<table border=\"1\" class=\"dataframe\">\n",
       "  <thead>\n",
       "    <tr style=\"text-align: right;\">\n",
       "      <th></th>\n",
       "      <th>average_rating</th>\n",
       "      <th>isbn13</th>\n",
       "      <th>num_pages</th>\n",
       "      <th>ratings_count</th>\n",
       "      <th>text_reviews_count</th>\n",
       "    </tr>\n",
       "  </thead>\n",
       "  <tbody>\n",
       "    <tr>\n",
       "      <th>count</th>\n",
       "      <td>11123.000000</td>\n",
       "      <td>1.112300e+04</td>\n",
       "      <td>11123.000000</td>\n",
       "      <td>1.112300e+04</td>\n",
       "      <td>11123.000000</td>\n",
       "    </tr>\n",
       "    <tr>\n",
       "      <th>mean</th>\n",
       "      <td>3.934075</td>\n",
       "      <td>9.759880e+12</td>\n",
       "      <td>336.405556</td>\n",
       "      <td>1.794285e+04</td>\n",
       "      <td>542.048099</td>\n",
       "    </tr>\n",
       "    <tr>\n",
       "      <th>std</th>\n",
       "      <td>0.350485</td>\n",
       "      <td>4.429758e+11</td>\n",
       "      <td>241.152626</td>\n",
       "      <td>1.124992e+05</td>\n",
       "      <td>2576.619589</td>\n",
       "    </tr>\n",
       "    <tr>\n",
       "      <th>min</th>\n",
       "      <td>0.000000</td>\n",
       "      <td>8.987060e+09</td>\n",
       "      <td>0.000000</td>\n",
       "      <td>0.000000e+00</td>\n",
       "      <td>0.000000</td>\n",
       "    </tr>\n",
       "    <tr>\n",
       "      <th>25%</th>\n",
       "      <td>3.770000</td>\n",
       "      <td>9.780345e+12</td>\n",
       "      <td>192.000000</td>\n",
       "      <td>1.040000e+02</td>\n",
       "      <td>9.000000</td>\n",
       "    </tr>\n",
       "    <tr>\n",
       "      <th>50%</th>\n",
       "      <td>3.960000</td>\n",
       "      <td>9.780582e+12</td>\n",
       "      <td>299.000000</td>\n",
       "      <td>7.450000e+02</td>\n",
       "      <td>47.000000</td>\n",
       "    </tr>\n",
       "    <tr>\n",
       "      <th>75%</th>\n",
       "      <td>4.140000</td>\n",
       "      <td>9.780872e+12</td>\n",
       "      <td>416.000000</td>\n",
       "      <td>5.000500e+03</td>\n",
       "      <td>238.000000</td>\n",
       "    </tr>\n",
       "    <tr>\n",
       "      <th>max</th>\n",
       "      <td>5.000000</td>\n",
       "      <td>9.790008e+12</td>\n",
       "      <td>6576.000000</td>\n",
       "      <td>4.597666e+06</td>\n",
       "      <td>94265.000000</td>\n",
       "    </tr>\n",
       "  </tbody>\n",
       "</table>\n",
       "</div>"
      ],
      "text/plain": [
       "       average_rating        isbn13     num_pages  ratings_count  \\\n",
       "count    11123.000000  1.112300e+04  11123.000000   1.112300e+04   \n",
       "mean         3.934075  9.759880e+12    336.405556   1.794285e+04   \n",
       "std          0.350485  4.429758e+11    241.152626   1.124992e+05   \n",
       "min          0.000000  8.987060e+09      0.000000   0.000000e+00   \n",
       "25%          3.770000  9.780345e+12    192.000000   1.040000e+02   \n",
       "50%          3.960000  9.780582e+12    299.000000   7.450000e+02   \n",
       "75%          4.140000  9.780872e+12    416.000000   5.000500e+03   \n",
       "max          5.000000  9.790008e+12   6576.000000   4.597666e+06   \n",
       "\n",
       "       text_reviews_count  \n",
       "count        11123.000000  \n",
       "mean           542.048099  \n",
       "std           2576.619589  \n",
       "min              0.000000  \n",
       "25%              9.000000  \n",
       "50%             47.000000  \n",
       "75%            238.000000  \n",
       "max          94265.000000  "
      ]
     },
     "execution_count": 7,
     "metadata": {},
     "output_type": "execute_result"
    }
   ],
   "source": [
    "df.describe()"
   ]
  },
  {
   "cell_type": "code",
   "execution_count": 8,
   "id": "6ec91dac",
   "metadata": {},
   "outputs": [],
   "source": [
    "df[\"publication_date\"] = pd.to_datetime(df[\"publication_date\"], format=\"%m/%d/%Y\", errors=\"coerce\")"
   ]
  },
  {
   "cell_type": "code",
   "execution_count": 9,
   "id": "ac7359c5",
   "metadata": {},
   "outputs": [
    {
     "data": {
      "application/vnd.microsoft.datawrangler.viewer.v0+json": {
       "columns": [
        {
         "name": "index",
         "rawType": "object",
         "type": "string"
        },
        {
         "name": "0",
         "rawType": "int64",
         "type": "integer"
        }
       ],
       "ref": "9dfcb8f4-c0a6-4111-af36-c1b111721d28",
       "rows": [
        [
         "title",
         "0"
        ],
        [
         "authors",
         "0"
        ],
        [
         "average_rating",
         "0"
        ],
        [
         "isbn",
         "0"
        ],
        [
         "isbn13",
         "0"
        ],
        [
         "language_code",
         "0"
        ],
        [
         "num_pages",
         "0"
        ],
        [
         "ratings_count",
         "0"
        ],
        [
         "text_reviews_count",
         "0"
        ],
        [
         "publication_date",
         "2"
        ],
        [
         "publisher",
         "0"
        ]
       ],
       "shape": {
        "columns": 1,
        "rows": 11
       }
      },
      "text/plain": [
       "title                 0\n",
       "authors               0\n",
       "average_rating        0\n",
       "isbn                  0\n",
       "isbn13                0\n",
       "language_code         0\n",
       "num_pages             0\n",
       "ratings_count         0\n",
       "text_reviews_count    0\n",
       "publication_date      2\n",
       "publisher             0\n",
       "dtype: int64"
      ]
     },
     "execution_count": 9,
     "metadata": {},
     "output_type": "execute_result"
    }
   ],
   "source": [
    "df.isna().sum()"
   ]
  },
  {
   "cell_type": "markdown",
   "id": "36b2eda8",
   "metadata": {},
   "source": [
    "We immediately remove the new null values caused by the datetime transformation."
   ]
  },
  {
   "cell_type": "code",
   "execution_count": 10,
   "id": "03ce27b0",
   "metadata": {},
   "outputs": [],
   "source": [
    "df = df.dropna()"
   ]
  },
  {
   "cell_type": "code",
   "execution_count": 11,
   "id": "dac9e0c0",
   "metadata": {},
   "outputs": [
    {
     "data": {
      "application/vnd.microsoft.datawrangler.viewer.v0+json": {
       "columns": [
        {
         "name": "index",
         "rawType": "object",
         "type": "string"
        },
        {
         "name": "0",
         "rawType": "int64",
         "type": "integer"
        }
       ],
       "ref": "c5eec361-19ab-4401-a815-55e91322ed12",
       "rows": [
        [
         "title",
         "0"
        ],
        [
         "authors",
         "0"
        ],
        [
         "average_rating",
         "0"
        ],
        [
         "isbn",
         "0"
        ],
        [
         "isbn13",
         "0"
        ],
        [
         "language_code",
         "0"
        ],
        [
         "num_pages",
         "0"
        ],
        [
         "ratings_count",
         "0"
        ],
        [
         "text_reviews_count",
         "0"
        ],
        [
         "publication_date",
         "0"
        ],
        [
         "publisher",
         "0"
        ]
       ],
       "shape": {
        "columns": 1,
        "rows": 11
       }
      },
      "text/plain": [
       "title                 0\n",
       "authors               0\n",
       "average_rating        0\n",
       "isbn                  0\n",
       "isbn13                0\n",
       "language_code         0\n",
       "num_pages             0\n",
       "ratings_count         0\n",
       "text_reviews_count    0\n",
       "publication_date      0\n",
       "publisher             0\n",
       "dtype: int64"
      ]
     },
     "execution_count": 11,
     "metadata": {},
     "output_type": "execute_result"
    }
   ],
   "source": [
    "df.isna().sum()"
   ]
  },
  {
   "cell_type": "markdown",
   "id": "139f3c7a",
   "metadata": {},
   "source": [
    "We can group the regional (and \"enm\" as Middle English) English language codes as a whole under \"eng\"."
   ]
  },
  {
   "cell_type": "code",
   "execution_count": 12,
   "id": "54ab1f64",
   "metadata": {},
   "outputs": [
    {
     "data": {
      "text/plain": [
       "array(['eng', 'en-US', 'fre', 'spa', 'en-GB', 'mul', 'grc', 'enm',\n",
       "       'en-CA', 'ger', 'jpn', 'ara', 'nl', 'zho', 'lat', 'por', 'srp',\n",
       "       'ita', 'rus', 'msa', 'glg', 'wel', 'swe', 'nor', 'tur', 'gla',\n",
       "       'ale'], dtype=object)"
      ]
     },
     "execution_count": 12,
     "metadata": {},
     "output_type": "execute_result"
    }
   ],
   "source": [
    "df.language_code.unique()"
   ]
  },
  {
   "cell_type": "code",
   "execution_count": 13,
   "id": "9c81ec78",
   "metadata": {},
   "outputs": [
    {
     "name": "stderr",
     "output_type": "stream",
     "text": [
      "C:\\Users\\Kaan\\AppData\\Local\\Temp\\ipykernel_27416\\3119981532.py:1: SettingWithCopyWarning: \n",
      "A value is trying to be set on a copy of a slice from a DataFrame.\n",
      "Try using .loc[row_indexer,col_indexer] = value instead\n",
      "\n",
      "See the caveats in the documentation: https://pandas.pydata.org/pandas-docs/stable/user_guide/indexing.html#returning-a-view-versus-a-copy\n",
      "  df[\"language_code\"] = df[\"language_code\"].replace(['en-US', 'en-GB', 'en-CA', 'enm'], \"eng\")\n"
     ]
    }
   ],
   "source": [
    "df[\"language_code\"] = df[\"language_code\"].replace(['en-US', 'en-GB', 'en-CA', 'enm'], \"eng\")"
   ]
  },
  {
   "cell_type": "code",
   "execution_count": 14,
   "id": "9c8416c4",
   "metadata": {},
   "outputs": [
    {
     "data": {
      "text/plain": [
       "array(['eng', 'fre', 'spa', 'mul', 'grc', 'ger', 'jpn', 'ara', 'nl',\n",
       "       'zho', 'lat', 'por', 'srp', 'ita', 'rus', 'msa', 'glg', 'wel',\n",
       "       'swe', 'nor', 'tur', 'gla', 'ale'], dtype=object)"
      ]
     },
     "execution_count": 14,
     "metadata": {},
     "output_type": "execute_result"
    }
   ],
   "source": [
    "df.language_code.unique()"
   ]
  },
  {
   "cell_type": "code",
   "execution_count": 15,
   "id": "1acece57",
   "metadata": {},
   "outputs": [
    {
     "data": {
      "application/vnd.microsoft.datawrangler.viewer.v0+json": {
       "columns": [
        {
         "name": "language_code",
         "rawType": "object",
         "type": "string"
        },
        {
         "name": "count",
         "rawType": "int64",
         "type": "integer"
        }
       ],
       "ref": "0692ec56-9427-4834-a1c0-3248a7cc7453",
       "rows": [
        [
         "eng",
         "10539"
        ],
        [
         "spa",
         "218"
        ],
        [
         "fre",
         "143"
        ],
        [
         "ger",
         "99"
        ],
        [
         "jpn",
         "46"
        ],
        [
         "mul",
         "19"
        ],
        [
         "zho",
         "14"
        ],
        [
         "grc",
         "11"
        ],
        [
         "por",
         "10"
        ],
        [
         "ita",
         "5"
        ],
        [
         "lat",
         "3"
        ],
        [
         "rus",
         "2"
        ],
        [
         "swe",
         "2"
        ],
        [
         "ara",
         "1"
        ],
        [
         "nl",
         "1"
        ],
        [
         "srp",
         "1"
        ],
        [
         "msa",
         "1"
        ],
        [
         "glg",
         "1"
        ],
        [
         "wel",
         "1"
        ],
        [
         "nor",
         "1"
        ],
        [
         "tur",
         "1"
        ],
        [
         "gla",
         "1"
        ],
        [
         "ale",
         "1"
        ]
       ],
       "shape": {
        "columns": 1,
        "rows": 23
       }
      },
      "text/plain": [
       "language_code\n",
       "eng    10539\n",
       "spa      218\n",
       "fre      143\n",
       "ger       99\n",
       "jpn       46\n",
       "mul       19\n",
       "zho       14\n",
       "grc       11\n",
       "por       10\n",
       "ita        5\n",
       "lat        3\n",
       "rus        2\n",
       "swe        2\n",
       "ara        1\n",
       "nl         1\n",
       "srp        1\n",
       "msa        1\n",
       "glg        1\n",
       "wel        1\n",
       "nor        1\n",
       "tur        1\n",
       "gla        1\n",
       "ale        1\n",
       "Name: count, dtype: int64"
      ]
     },
     "execution_count": 15,
     "metadata": {},
     "output_type": "execute_result"
    }
   ],
   "source": [
    "df.language_code.value_counts()"
   ]
  },
  {
   "cell_type": "markdown",
   "id": "95fbb64d",
   "metadata": {},
   "source": [
    "There are books with zero number of pages. Below, we replace these zero values with the mean page numbers with respect to the language that the book is in."
   ]
  },
  {
   "cell_type": "code",
   "execution_count": 16,
   "id": "0684d60a",
   "metadata": {},
   "outputs": [
    {
     "data": {
      "application/vnd.microsoft.datawrangler.viewer.v0+json": {
       "columns": [
        {
         "name": "bookID",
         "rawType": "int64",
         "type": "integer"
        },
        {
         "name": "title",
         "rawType": "object",
         "type": "string"
        },
        {
         "name": "authors",
         "rawType": "object",
         "type": "string"
        },
        {
         "name": "average_rating",
         "rawType": "float64",
         "type": "float"
        },
        {
         "name": "isbn",
         "rawType": "object",
         "type": "string"
        },
        {
         "name": "isbn13",
         "rawType": "int64",
         "type": "integer"
        },
        {
         "name": "language_code",
         "rawType": "object",
         "type": "string"
        },
        {
         "name": "num_pages",
         "rawType": "int64",
         "type": "integer"
        },
        {
         "name": "ratings_count",
         "rawType": "int64",
         "type": "integer"
        },
        {
         "name": "text_reviews_count",
         "rawType": "int64",
         "type": "integer"
        },
        {
         "name": "publication_date",
         "rawType": "datetime64[ns]",
         "type": "datetime"
        },
        {
         "name": "publisher",
         "rawType": "object",
         "type": "string"
        }
       ],
       "ref": "e3277005-3529-42e1-b071-c1b43c673035",
       "rows": [
        [
         "955",
         "The 5 Love Languages / The 5 Love Languages Journal",
         "Gary Chapman",
         "4.7",
         "0802415318",
         "9780802415318",
         "eng",
         "0",
         "22",
         "4",
         "2005-01-01 00:00:00",
         "Moody Publishers"
        ],
        [
         "2835",
         "The Tragedy of Pudd'nhead Wilson",
         "Mark Twain/Michael Prichard",
         "3.79",
         "140015068X",
         "9781400150687",
         "eng",
         "0",
         "3",
         "0",
         "2003-01-01 00:00:00",
         "Tantor Media"
        ],
        [
         "3593",
         "Murder by Moonlight & Other Mysteries (New Adventures of Sherlock Holmes 19-24)",
         "NOT A BOOK",
         "4.0",
         "0743564677",
         "9780743564670",
         "eng",
         "0",
         "7",
         "2",
         "2006-10-03 00:00:00",
         "Simon  Schuster Audio"
        ],
        [
         "3599",
         "The Unfortunate Tobacconist & Other Mysteries (Sherlock Holmes 1-6)",
         "NOT A BOOK",
         "3.5",
         "074353395X",
         "9780743533959",
         "eng",
         "0",
         "12",
         "1",
         "2003-10-01 00:00:00",
         "Simon & Schuster Audio"
        ],
        [
         "4249",
         "The Da Vinci Code (Robert Langdon  #2)",
         "Dan Brown/Paul Michael",
         "3.84",
         "0739339788",
         "9780739339787",
         "eng",
         "0",
         "91",
         "16",
         "2006-03-28 00:00:00",
         "Random House Audio"
        ],
        [
         "5362",
         "The Summons / The Brethren",
         "John Grisham/Michael Beck/Frank  Muller",
         "3.99",
         "0739342770",
         "9780739342770",
         "eng",
         "0",
         "241",
         "9",
         "2006-10-10 00:00:00",
         "Random House Audio"
        ],
        [
         "6542",
         "The Patricia Cornwell CD Audio Treasury: All That Remains / Cruel & Unusual (Kay Scarpetta  #3  #4)",
         "Patricia Cornwell/Kate Burton",
         "4.16",
         "0060791217",
         "9780060791216",
         "eng",
         "0",
         "202",
         "1",
         "2005-07-26 00:00:00",
         "HarperAudio"
        ],
        [
         "6953",
         "Like Water for Chocolate",
         "Laura Esquivel/Yareli Arizmendi",
         "3.95",
         "0739334190",
         "9780739334195",
         "eng",
         "0",
         "121",
         "33",
         "2006-05-02 00:00:00",
         "Random House Audio"
        ],
        [
         "7598",
         "A Study Guide to Gabriel Garcia Marquez' One Hundred Years of Solitude",
         "Gabriel García Márquez/Brenda K. Marshall/F. Murray Abraham",
         "4.11",
         "1570421129",
         "9781570421129",
         "eng",
         "0",
         "75",
         "2",
         "2006-04-01 00:00:00",
         "Warner Adult"
        ],
        [
         "7674",
         "The Michael Crichton Collection: Airframe / The Lost World / Timeline",
         "Michael Crichton/Stephen Lang/Anthony Heald/Blair Brown",
         "4.16",
         "0739340336",
         "9780739340332",
         "eng",
         "0",
         "267",
         "7",
         "2006-08-29 00:00:00",
         "Random House Audio"
        ],
        [
         "7737",
         "Gulliver's Travels",
         "Jonathan Swift/David Case",
         "3.57",
         "1400102723",
         "9781400102723",
         "eng",
         "0",
         "4",
         "1",
         "2006-10-01 00:00:00",
         "Tantor Media"
        ],
        [
         "8889",
         "Return to the Planet of the Apes #2: Escape from Terror Lagoon",
         "William Arrow",
         "3.0",
         "0345251679",
         "9780345251671",
         "eng",
         "0",
         "10",
         "2",
         "1976-04-12 00:00:00",
         "Ballantine Books"
        ],
        [
         "8916",
         "The Complete Science Fiction Treasury of H.G. Wells",
         "H.G. Wells",
         "4.14",
         "0517052253",
         "9780517052259",
         "eng",
         "0",
         "45",
         "1",
         "1987-06-24 00:00:00",
         "Random House Value Publishing"
        ],
        [
         "9832",
         "Blind Willow  Sleeping Woman: 24 Stories",
         "Haruki Murakami/Ellen Archer/Patrick Lawlor",
         "3.84",
         "1400102952",
         "9781400102952",
         "eng",
         "0",
         "28",
         "3",
         "2006-10-15 00:00:00",
         "Tantor Media"
        ],
        [
         "9981",
         "Der Prozess",
         "Franz Kafka",
         "3.98",
         "0805232117",
         "9780805232110",
         "ger",
         "0",
         "2",
         "0",
         "1988-05-05 00:00:00",
         "Schocken"
        ],
        [
         "10075",
         "Clockwork (Cover to Cover)",
         "Philip Pullman",
         "3.87",
         "185549695X",
         "9781855496958",
         "eng",
         "0",
         "24",
         "1",
         "2002-07-29 00:00:00",
         "BBC Audiobooks"
        ],
        [
         "10215",
         "The Far Pavilions",
         "M.M. Kaye",
         "4.21",
         "0517333414",
         "9780517333419",
         "eng",
         "0",
         "19",
         "4",
         "1988-12-12 00:00:00",
         "Random House Value Publishing"
        ],
        [
         "10599",
         "Gray Matter and Other Stories from Night Shift",
         "Stephen King/John  Glover",
         "3.93",
         "055347183X",
         "9780553471830",
         "eng",
         "0",
         "156",
         "9",
         "1993-08-01 00:00:00",
         "Random House Audio"
        ],
        [
         "12683",
         "The Shining",
         "Stephen King/Campbell Scott",
         "4.22",
         "0743536991",
         "9780743536998",
         "eng",
         "0",
         "13",
         "0",
         "2005-08-02 00:00:00",
         "Simon & Schuster Audio"
        ],
        [
         "13106",
         "The Celestine Prophecy",
         "James Redfield/Lou Diamond Phillips",
         "3.64",
         "1594831955",
         "9781594831959",
         "eng",
         "0",
         "64",
         "10",
         "2006-02-16 00:00:00",
         "Grand Central Publishing"
        ],
        [
         "13504",
         "A Clash of Kings (A Song of Ice and Fire  #2)",
         "George R.R. Martin/Roy Dotrice",
         "4.41",
         "073930870X",
         "9780739308707",
         "eng",
         "0",
         "113",
         "12",
         "2004-02-17 00:00:00",
         "Random House Audio"
        ],
        [
         "13842",
         "The Botany of Desire: A Plant's-Eye View of the World",
         "Michael Pollan/Scott Brick",
         "4.06",
         "1596590939",
         "9781596590939",
         "eng",
         "0",
         "117",
         "36",
         "2007-05-21 00:00:00",
         "Your Coach Digital"
        ],
        [
         "15691",
         "Caligula and Three Other Plays",
         "Albert Camus",
         "4.04",
         "039440520X",
         "9780394405209",
         "fre",
         "0",
         "17",
         "3",
         "1966-05-01 00:00:00",
         "Knopf"
        ],
        [
         "16312",
         "One  Two  Buckle My Shoe (Hercule Poirot  #23)",
         "Agatha Christie/Hugh Fraser",
         "3.76",
         "1572703857",
         "9781572703858",
         "eng",
         "0",
         "14388",
         "411",
         "2004-03-16 00:00:00",
         "HarperCollins Publishers"
        ],
        [
         "16313",
         "A Caribbean Mystery",
         "Agatha Christie/Rosalind Ayres",
         "3.8",
         "1572705493",
         "9781572705494",
         "eng",
         "0",
         "49",
         "10",
         "2006-10-09 00:00:00",
         "Audiogo"
        ],
        [
         "16334",
         "The Listerdale Mystery And Eleven Other Stories",
         "Agatha Christie/Hugh Fraser",
         "3.56",
         "1572704977",
         "9781572704978",
         "eng",
         "0",
         "1824",
         "89",
         "2006-01-11 00:00:00",
         "AudioGO"
        ],
        [
         "17276",
         "The Feynman Lectures on Physics Vols 3-4",
         "Richard P. Feynman",
         "4.71",
         "0738209252",
         "9780738209258",
         "eng",
         "0",
         "21",
         "0",
         "2004-05-12 00:00:00",
         "Basic Books"
        ],
        [
         "17277",
         "The Feynman Lectures on Physics Vols 7-8",
         "Richard P. Feynman",
         "4.8",
         "0738209279",
         "9780738209272",
         "eng",
         "0",
         "20",
         "0",
         "2006-01-03 00:00:00",
         "Basic Books"
        ],
        [
         "17766",
         "Master and Commander (Aubrey/Maturin Book 1)",
         "Patrick O'Brian",
         "4.1",
         "073931565X",
         "9780739315651",
         "eng",
         "0",
         "1",
         "0",
         "2004-03-09 00:00:00",
         "Random House Audio"
        ],
        [
         "17983",
         "The Reverse of the Medal (Aubrey/Maturin  #11)",
         "Patrick O'Brian/Simon Vance",
         "4.41",
         "0786178183",
         "9780786178186",
         "eng",
         "0",
         "3598",
         "93",
         "2006-02-01 00:00:00",
         "Blackstone Audiobooks"
        ],
        [
         "19081",
         "Madame Bovary",
         "Gustave Flaubert/Donada  Peters",
         "3.67",
         "1400132746",
         "9781400132744",
         "eng",
         "0",
         "3",
         "0",
         "2006-10-01 00:00:00",
         "Tantor Media"
        ],
        [
         "19135",
         "'Salem's Lot",
         "Stephen King/Ron McLarty",
         "4.02",
         "0743536959",
         "9780743536950",
         "eng",
         "0",
         "56",
         "5",
         "2004-01-19 00:00:00",
         "Simon & Schuster Audio"
        ],
        [
         "20097",
         "The Sea",
         "John Banville/John      Lee",
         "3.51",
         "0739333771",
         "9780739333778",
         "eng",
         "0",
         "42",
         "12",
         "2006-08-15 00:00:00",
         "Random House Audio"
        ],
        [
         "21352",
         "Icebound",
         "David Axton/Dean Koontz/Paul Michael",
         "3.76",
         "0739341413",
         "9780739341414",
         "eng",
         "0",
         "46",
         "12",
         "2007-03-06 00:00:00",
         "Random House Audio"
        ],
        [
         "21365",
         "From the Corner of His Eye",
         "Dean Koontz/Stephen Lang",
         "4.03",
         "0553502697",
         "9780553502695",
         "eng",
         "0",
         "29",
         "3",
         "2000-12-26 00:00:00",
         "Random House Audio Publishing Group"
        ],
        [
         "21402",
         "Pompeii",
         "Robert   Harris/Michael Cumpsty",
         "3.82",
         "0739341774",
         "9780739341773",
         "eng",
         "0",
         "7",
         "1",
         "2006-09-05 00:00:00",
         "Random House Audio"
        ],
        [
         "21550",
         "Hundred-Dollar Baby (Spenser  #34)",
         "Robert B. Parker/Joe Mantegna",
         "3.82",
         "0739318659",
         "9780739318652",
         "eng",
         "0",
         "57",
         "11",
         "2006-10-24 00:00:00",
         "Random House Audio"
        ],
        [
         "21552",
         "The Spenser Collection: Volume I (Spenser  #27-28)",
         "Robert B. Parker/Joe Mantegna",
         "4.26",
         "0739340190",
         "9780739340196",
         "eng",
         "0",
         "77",
         "3",
         "2006-05-30 00:00:00",
         "RH Audio"
        ],
        [
         "21553",
         "School Days (Spenser  #33)",
         "Robert B. Parker/Joe Mantegna",
         "3.87",
         "0739318616",
         "9780739318614",
         "eng",
         "0",
         "24",
         "3",
         "2005-09-27 00:00:00",
         "Random House Audio Publishing Group"
        ],
        [
         "21557",
         "Potshot (Spenser  #28)",
         "Robert B. Parker/Joe Mantegna",
         "3.89",
         "0553702467",
         "9780553702460",
         "eng",
         "0",
         "2",
         "0",
         "2003-04-01 00:00:00",
         "RH Audio Price-less"
        ],
        [
         "21665",
         "The Best American Mystery Stories 2004",
         "Nelson DeMille/Otto Penzler",
         "3.55",
         "0618497420",
         "9780618497423",
         "eng",
         "0",
         "3",
         "0",
         "2004-10-14 00:00:00",
         "Mariner Books"
        ],
        [
         "21928",
         "Time To Hunt (Bob Lee Swagger  #3)",
         "Stephen Hunter/Beau Bridges",
         "4.26",
         "055345580X",
         "9780553455809",
         "eng",
         "0",
         "11",
         "1",
         "1998-05-18 00:00:00",
         "Random House Audio"
        ],
        [
         "21931",
         "The Day Before Midnight",
         "Stephen Hunter/Philip Bosco",
         "4.01",
         "0553452118",
         "9780553452112",
         "eng",
         "0",
         "1",
         "0",
         "1989-12-01 00:00:00",
         "Random House Audio"
        ],
        [
         "21932",
         "Hot Springs (Earl Swagger  #1)",
         "Stephen Hunter/Jay O. Sanders",
         "4.13",
         "0743500261",
         "9780743500265",
         "eng",
         "0",
         "3",
         "0",
         "2000-06-01 00:00:00",
         "Simon & Schuster Audio"
        ],
        [
         "21933",
         "Point Of Impact (Bob Lee Swagger  #1)",
         "Stephen Hunter/Beau Bridges",
         "4.27",
         "0739344242",
         "9780739344248",
         "eng",
         "0",
         "15",
         "1",
         "2007-01-09 00:00:00",
         "RH Audio"
        ],
        [
         "21934",
         "Dirty White Boys",
         "Stephen Hunter/Will Patten",
         "4.05",
         "1570421927",
         "9781570421921",
         "eng",
         "0",
         "1",
         "1",
         "2006-05-01 00:00:00",
         "Hachette Audio"
        ],
        [
         "21969",
         "The Book of the Dead  (Pendergast  #7; Diogenes  #3)",
         "Douglas Preston/Lincoln Child/Scott Brick",
         "4.13",
         "1594832285",
         "9781594832284",
         "eng",
         "0",
         "112",
         "16",
         "2006-05-30 00:00:00",
         "Grand Central Publishing"
        ],
        [
         "21974",
         "The Wheel of Darkness (Pendergast  #8)",
         "Douglas Preston/Lincoln Child",
         "3.93",
         "1594839417",
         "9781594839412",
         "eng",
         "0",
         "41",
         "9",
         "2007-08-28 00:00:00",
         "Grand Central Publishing"
        ],
        [
         "21991",
         "Waterworks",
         "E.L. Doctorow/Sam Waterston",
         "3.44",
         "0679433724",
         "9780679433729",
         "eng",
         "0",
         "16",
         "2",
         "1994-05-31 00:00:00",
         "Random House Audio"
        ],
        [
         "22077",
         "The Michael Crichton Collection: Jurassic Park / The Lost World / The Andromeda Strain",
         "Michael Crichton/Chris Noth/Anthony Heald",
         "4.29",
         "0375415807",
         "9780375415807",
         "eng",
         "0",
         "107",
         "3",
         "2000-06-09 00:00:00",
         "Random House Audio"
        ]
       ],
       "shape": {
        "columns": 11,
        "rows": 76
       }
      },
      "text/html": [
       "<div>\n",
       "<style scoped>\n",
       "    .dataframe tbody tr th:only-of-type {\n",
       "        vertical-align: middle;\n",
       "    }\n",
       "\n",
       "    .dataframe tbody tr th {\n",
       "        vertical-align: top;\n",
       "    }\n",
       "\n",
       "    .dataframe thead th {\n",
       "        text-align: right;\n",
       "    }\n",
       "</style>\n",
       "<table border=\"1\" class=\"dataframe\">\n",
       "  <thead>\n",
       "    <tr style=\"text-align: right;\">\n",
       "      <th></th>\n",
       "      <th>title</th>\n",
       "      <th>authors</th>\n",
       "      <th>average_rating</th>\n",
       "      <th>isbn</th>\n",
       "      <th>isbn13</th>\n",
       "      <th>language_code</th>\n",
       "      <th>num_pages</th>\n",
       "      <th>ratings_count</th>\n",
       "      <th>text_reviews_count</th>\n",
       "      <th>publication_date</th>\n",
       "      <th>publisher</th>\n",
       "    </tr>\n",
       "    <tr>\n",
       "      <th>bookID</th>\n",
       "      <th></th>\n",
       "      <th></th>\n",
       "      <th></th>\n",
       "      <th></th>\n",
       "      <th></th>\n",
       "      <th></th>\n",
       "      <th></th>\n",
       "      <th></th>\n",
       "      <th></th>\n",
       "      <th></th>\n",
       "      <th></th>\n",
       "    </tr>\n",
       "  </thead>\n",
       "  <tbody>\n",
       "    <tr>\n",
       "      <th>955</th>\n",
       "      <td>The 5 Love Languages / The 5 Love Languages Jo...</td>\n",
       "      <td>Gary Chapman</td>\n",
       "      <td>4.70</td>\n",
       "      <td>0802415318</td>\n",
       "      <td>9780802415318</td>\n",
       "      <td>eng</td>\n",
       "      <td>0</td>\n",
       "      <td>22</td>\n",
       "      <td>4</td>\n",
       "      <td>2005-01-01</td>\n",
       "      <td>Moody Publishers</td>\n",
       "    </tr>\n",
       "    <tr>\n",
       "      <th>2835</th>\n",
       "      <td>The Tragedy of Pudd'nhead Wilson</td>\n",
       "      <td>Mark Twain/Michael Prichard</td>\n",
       "      <td>3.79</td>\n",
       "      <td>140015068X</td>\n",
       "      <td>9781400150687</td>\n",
       "      <td>eng</td>\n",
       "      <td>0</td>\n",
       "      <td>3</td>\n",
       "      <td>0</td>\n",
       "      <td>2003-01-01</td>\n",
       "      <td>Tantor Media</td>\n",
       "    </tr>\n",
       "    <tr>\n",
       "      <th>3593</th>\n",
       "      <td>Murder by Moonlight &amp; Other Mysteries (New Adv...</td>\n",
       "      <td>NOT A BOOK</td>\n",
       "      <td>4.00</td>\n",
       "      <td>0743564677</td>\n",
       "      <td>9780743564670</td>\n",
       "      <td>eng</td>\n",
       "      <td>0</td>\n",
       "      <td>7</td>\n",
       "      <td>2</td>\n",
       "      <td>2006-10-03</td>\n",
       "      <td>Simon  Schuster Audio</td>\n",
       "    </tr>\n",
       "    <tr>\n",
       "      <th>3599</th>\n",
       "      <td>The Unfortunate Tobacconist &amp; Other Mysteries ...</td>\n",
       "      <td>NOT A BOOK</td>\n",
       "      <td>3.50</td>\n",
       "      <td>074353395X</td>\n",
       "      <td>9780743533959</td>\n",
       "      <td>eng</td>\n",
       "      <td>0</td>\n",
       "      <td>12</td>\n",
       "      <td>1</td>\n",
       "      <td>2003-10-01</td>\n",
       "      <td>Simon &amp; Schuster Audio</td>\n",
       "    </tr>\n",
       "    <tr>\n",
       "      <th>4249</th>\n",
       "      <td>The Da Vinci Code (Robert Langdon  #2)</td>\n",
       "      <td>Dan Brown/Paul Michael</td>\n",
       "      <td>3.84</td>\n",
       "      <td>0739339788</td>\n",
       "      <td>9780739339787</td>\n",
       "      <td>eng</td>\n",
       "      <td>0</td>\n",
       "      <td>91</td>\n",
       "      <td>16</td>\n",
       "      <td>2006-03-28</td>\n",
       "      <td>Random House Audio</td>\n",
       "    </tr>\n",
       "    <tr>\n",
       "      <th>...</th>\n",
       "      <td>...</td>\n",
       "      <td>...</td>\n",
       "      <td>...</td>\n",
       "      <td>...</td>\n",
       "      <td>...</td>\n",
       "      <td>...</td>\n",
       "      <td>...</td>\n",
       "      <td>...</td>\n",
       "      <td>...</td>\n",
       "      <td>...</td>\n",
       "      <td>...</td>\n",
       "    </tr>\n",
       "    <tr>\n",
       "      <th>40378</th>\n",
       "      <td>The Chessmen of Mars (Barsoom #5)</td>\n",
       "      <td>Edgar Rice Burroughs/John Bolen</td>\n",
       "      <td>3.83</td>\n",
       "      <td>1400130212</td>\n",
       "      <td>9781400130214</td>\n",
       "      <td>eng</td>\n",
       "      <td>0</td>\n",
       "      <td>5147</td>\n",
       "      <td>157</td>\n",
       "      <td>2005-01-01</td>\n",
       "      <td>Tantor Media</td>\n",
       "    </tr>\n",
       "    <tr>\n",
       "      <th>41273</th>\n",
       "      <td>Fine Lines (One-Eyed Mack  #6)</td>\n",
       "      <td>Jim Lehrer</td>\n",
       "      <td>3.23</td>\n",
       "      <td>0517164353</td>\n",
       "      <td>9780517164358</td>\n",
       "      <td>eng</td>\n",
       "      <td>0</td>\n",
       "      <td>17</td>\n",
       "      <td>4</td>\n",
       "      <td>1995-11-19</td>\n",
       "      <td>Random House Value Publishing</td>\n",
       "    </tr>\n",
       "    <tr>\n",
       "      <th>43343</th>\n",
       "      <td>Stowaway and Milk Run: Two Unabridged Stories ...</td>\n",
       "      <td>Mary Higgins Clark/Jan Maxwell</td>\n",
       "      <td>3.49</td>\n",
       "      <td>0671046241</td>\n",
       "      <td>9780671046248</td>\n",
       "      <td>eng</td>\n",
       "      <td>0</td>\n",
       "      <td>64</td>\n",
       "      <td>2</td>\n",
       "      <td>1999-12-01</td>\n",
       "      <td>Simon &amp; Schuster Audio</td>\n",
       "    </tr>\n",
       "    <tr>\n",
       "      <th>44748</th>\n",
       "      <td>The Mask of the Enchantress</td>\n",
       "      <td>Victoria Holt</td>\n",
       "      <td>3.85</td>\n",
       "      <td>0449210847</td>\n",
       "      <td>9780449210840</td>\n",
       "      <td>eng</td>\n",
       "      <td>0</td>\n",
       "      <td>21</td>\n",
       "      <td>1</td>\n",
       "      <td>1981-10-12</td>\n",
       "      <td>Ivy Books</td>\n",
       "    </tr>\n",
       "    <tr>\n",
       "      <th>45472</th>\n",
       "      <td>Treasury of American Tall Tales: Volume 1: Dav...</td>\n",
       "      <td>David Bromberg/Jay Ungar/Molly Mason/Garrison ...</td>\n",
       "      <td>3.86</td>\n",
       "      <td>0739336509</td>\n",
       "      <td>9780739336502</td>\n",
       "      <td>eng</td>\n",
       "      <td>0</td>\n",
       "      <td>36</td>\n",
       "      <td>9</td>\n",
       "      <td>2006-08-22</td>\n",
       "      <td>Listening Library (Audio)</td>\n",
       "    </tr>\n",
       "  </tbody>\n",
       "</table>\n",
       "<p>76 rows × 11 columns</p>\n",
       "</div>"
      ],
      "text/plain": [
       "                                                    title  \\\n",
       "bookID                                                      \n",
       "955     The 5 Love Languages / The 5 Love Languages Jo...   \n",
       "2835                     The Tragedy of Pudd'nhead Wilson   \n",
       "3593    Murder by Moonlight & Other Mysteries (New Adv...   \n",
       "3599    The Unfortunate Tobacconist & Other Mysteries ...   \n",
       "4249               The Da Vinci Code (Robert Langdon  #2)   \n",
       "...                                                   ...   \n",
       "40378                   The Chessmen of Mars (Barsoom #5)   \n",
       "41273                      Fine Lines (One-Eyed Mack  #6)   \n",
       "43343   Stowaway and Milk Run: Two Unabridged Stories ...   \n",
       "44748                         The Mask of the Enchantress   \n",
       "45472   Treasury of American Tall Tales: Volume 1: Dav...   \n",
       "\n",
       "                                                  authors  average_rating  \\\n",
       "bookID                                                                      \n",
       "955                                          Gary Chapman            4.70   \n",
       "2835                          Mark Twain/Michael Prichard            3.79   \n",
       "3593                                           NOT A BOOK            4.00   \n",
       "3599                                           NOT A BOOK            3.50   \n",
       "4249                               Dan Brown/Paul Michael            3.84   \n",
       "...                                                   ...             ...   \n",
       "40378                     Edgar Rice Burroughs/John Bolen            3.83   \n",
       "41273                                          Jim Lehrer            3.23   \n",
       "43343                      Mary Higgins Clark/Jan Maxwell            3.49   \n",
       "44748                                       Victoria Holt            3.85   \n",
       "45472   David Bromberg/Jay Ungar/Molly Mason/Garrison ...            3.86   \n",
       "\n",
       "              isbn         isbn13 language_code  num_pages  ratings_count  \\\n",
       "bookID                                                                      \n",
       "955     0802415318  9780802415318           eng          0             22   \n",
       "2835    140015068X  9781400150687           eng          0              3   \n",
       "3593    0743564677  9780743564670           eng          0              7   \n",
       "3599    074353395X  9780743533959           eng          0             12   \n",
       "4249    0739339788  9780739339787           eng          0             91   \n",
       "...            ...            ...           ...        ...            ...   \n",
       "40378   1400130212  9781400130214           eng          0           5147   \n",
       "41273   0517164353  9780517164358           eng          0             17   \n",
       "43343   0671046241  9780671046248           eng          0             64   \n",
       "44748   0449210847  9780449210840           eng          0             21   \n",
       "45472   0739336509  9780739336502           eng          0             36   \n",
       "\n",
       "        text_reviews_count publication_date                      publisher  \n",
       "bookID                                                                      \n",
       "955                      4       2005-01-01               Moody Publishers  \n",
       "2835                     0       2003-01-01                   Tantor Media  \n",
       "3593                     2       2006-10-03          Simon  Schuster Audio  \n",
       "3599                     1       2003-10-01         Simon & Schuster Audio  \n",
       "4249                    16       2006-03-28             Random House Audio  \n",
       "...                    ...              ...                            ...  \n",
       "40378                  157       2005-01-01                   Tantor Media  \n",
       "41273                    4       1995-11-19  Random House Value Publishing  \n",
       "43343                    2       1999-12-01         Simon & Schuster Audio  \n",
       "44748                    1       1981-10-12                      Ivy Books  \n",
       "45472                    9       2006-08-22      Listening Library (Audio)  \n",
       "\n",
       "[76 rows x 11 columns]"
      ]
     },
     "execution_count": 16,
     "metadata": {},
     "output_type": "execute_result"
    }
   ],
   "source": [
    "df.loc[df[\"num_pages\"] == 0]"
   ]
  },
  {
   "cell_type": "markdown",
   "id": "b396d18f",
   "metadata": {},
   "source": [
    "There 76 such books. Considering the size of our dataset, it should be safe to drop these rows without significantly affecting model performance."
   ]
  },
  {
   "cell_type": "code",
   "execution_count": 17,
   "id": "6d1950c4",
   "metadata": {},
   "outputs": [],
   "source": [
    "df = df.drop(df[df[\"num_pages\"] == 0].index)"
   ]
  },
  {
   "cell_type": "markdown",
   "id": "98a6fad7",
   "metadata": {},
   "source": [
    "We now drop the rows with the entry \"NOT A BOOK\" in the Authors column."
   ]
  },
  {
   "cell_type": "code",
   "execution_count": 18,
   "id": "136254a2",
   "metadata": {},
   "outputs": [
    {
     "data": {
      "application/vnd.microsoft.datawrangler.viewer.v0+json": {
       "columns": [
        {
         "name": "bookID",
         "rawType": "int64",
         "type": "integer"
        },
        {
         "name": "title",
         "rawType": "object",
         "type": "string"
        },
        {
         "name": "authors",
         "rawType": "object",
         "type": "string"
        },
        {
         "name": "average_rating",
         "rawType": "float64",
         "type": "float"
        },
        {
         "name": "isbn",
         "rawType": "object",
         "type": "string"
        },
        {
         "name": "isbn13",
         "rawType": "int64",
         "type": "integer"
        },
        {
         "name": "language_code",
         "rawType": "object",
         "type": "string"
        },
        {
         "name": "num_pages",
         "rawType": "int64",
         "type": "integer"
        },
        {
         "name": "ratings_count",
         "rawType": "int64",
         "type": "integer"
        },
        {
         "name": "text_reviews_count",
         "rawType": "int64",
         "type": "integer"
        },
        {
         "name": "publication_date",
         "rawType": "datetime64[ns]",
         "type": "datetime"
        },
        {
         "name": "publisher",
         "rawType": "object",
         "type": "string"
        }
       ],
       "ref": "b3cedbc4-bcb4-431b-ac15-5ada64051032",
       "rows": [
        [
         "19786",
         "The Goon Show  Volume 4: My Knees Have Fallen Off!",
         "NOT A BOOK",
         "5.0",
         "0563388692",
         "9780563388692",
         "eng",
         "2",
         "3",
         "0",
         "1996-04-01 00:00:00",
         "BBC Physical Audio"
        ],
        [
         "19787",
         "The Goon Show: Moriarty Where Are You?",
         "NOT A BOOK",
         "4.43",
         "0563388544",
         "9780563388548",
         "eng",
         "2",
         "0",
         "0",
         "2005-03-30 00:00:00",
         "BBC Physical Audio"
        ],
        [
         "19788",
         "The Goon Show  Volume 11: He's Fallen in the Water!",
         "NOT A BOOK",
         "5.0",
         "0563388323",
         "9780563388326",
         "eng",
         "2",
         "2",
         "0",
         "1995-10-02 00:00:00",
         "BBC Physical Audio"
        ]
       ],
       "shape": {
        "columns": 11,
        "rows": 3
       }
      },
      "text/html": [
       "<div>\n",
       "<style scoped>\n",
       "    .dataframe tbody tr th:only-of-type {\n",
       "        vertical-align: middle;\n",
       "    }\n",
       "\n",
       "    .dataframe tbody tr th {\n",
       "        vertical-align: top;\n",
       "    }\n",
       "\n",
       "    .dataframe thead th {\n",
       "        text-align: right;\n",
       "    }\n",
       "</style>\n",
       "<table border=\"1\" class=\"dataframe\">\n",
       "  <thead>\n",
       "    <tr style=\"text-align: right;\">\n",
       "      <th></th>\n",
       "      <th>title</th>\n",
       "      <th>authors</th>\n",
       "      <th>average_rating</th>\n",
       "      <th>isbn</th>\n",
       "      <th>isbn13</th>\n",
       "      <th>language_code</th>\n",
       "      <th>num_pages</th>\n",
       "      <th>ratings_count</th>\n",
       "      <th>text_reviews_count</th>\n",
       "      <th>publication_date</th>\n",
       "      <th>publisher</th>\n",
       "    </tr>\n",
       "    <tr>\n",
       "      <th>bookID</th>\n",
       "      <th></th>\n",
       "      <th></th>\n",
       "      <th></th>\n",
       "      <th></th>\n",
       "      <th></th>\n",
       "      <th></th>\n",
       "      <th></th>\n",
       "      <th></th>\n",
       "      <th></th>\n",
       "      <th></th>\n",
       "      <th></th>\n",
       "    </tr>\n",
       "  </thead>\n",
       "  <tbody>\n",
       "    <tr>\n",
       "      <th>19786</th>\n",
       "      <td>The Goon Show  Volume 4: My Knees Have Fallen ...</td>\n",
       "      <td>NOT A BOOK</td>\n",
       "      <td>5.00</td>\n",
       "      <td>0563388692</td>\n",
       "      <td>9780563388692</td>\n",
       "      <td>eng</td>\n",
       "      <td>2</td>\n",
       "      <td>3</td>\n",
       "      <td>0</td>\n",
       "      <td>1996-04-01</td>\n",
       "      <td>BBC Physical Audio</td>\n",
       "    </tr>\n",
       "    <tr>\n",
       "      <th>19787</th>\n",
       "      <td>The Goon Show: Moriarty Where Are You?</td>\n",
       "      <td>NOT A BOOK</td>\n",
       "      <td>4.43</td>\n",
       "      <td>0563388544</td>\n",
       "      <td>9780563388548</td>\n",
       "      <td>eng</td>\n",
       "      <td>2</td>\n",
       "      <td>0</td>\n",
       "      <td>0</td>\n",
       "      <td>2005-03-30</td>\n",
       "      <td>BBC Physical Audio</td>\n",
       "    </tr>\n",
       "    <tr>\n",
       "      <th>19788</th>\n",
       "      <td>The Goon Show  Volume 11: He's Fallen in the W...</td>\n",
       "      <td>NOT A BOOK</td>\n",
       "      <td>5.00</td>\n",
       "      <td>0563388323</td>\n",
       "      <td>9780563388326</td>\n",
       "      <td>eng</td>\n",
       "      <td>2</td>\n",
       "      <td>2</td>\n",
       "      <td>0</td>\n",
       "      <td>1995-10-02</td>\n",
       "      <td>BBC Physical Audio</td>\n",
       "    </tr>\n",
       "  </tbody>\n",
       "</table>\n",
       "</div>"
      ],
      "text/plain": [
       "                                                    title     authors  \\\n",
       "bookID                                                                  \n",
       "19786   The Goon Show  Volume 4: My Knees Have Fallen ...  NOT A BOOK   \n",
       "19787              The Goon Show: Moriarty Where Are You?  NOT A BOOK   \n",
       "19788   The Goon Show  Volume 11: He's Fallen in the W...  NOT A BOOK   \n",
       "\n",
       "        average_rating        isbn         isbn13 language_code  num_pages  \\\n",
       "bookID                                                                       \n",
       "19786             5.00  0563388692  9780563388692           eng          2   \n",
       "19787             4.43  0563388544  9780563388548           eng          2   \n",
       "19788             5.00  0563388323  9780563388326           eng          2   \n",
       "\n",
       "        ratings_count  text_reviews_count publication_date           publisher  \n",
       "bookID                                                                          \n",
       "19786               3                   0       1996-04-01  BBC Physical Audio  \n",
       "19787               0                   0       2005-03-30  BBC Physical Audio  \n",
       "19788               2                   0       1995-10-02  BBC Physical Audio  "
      ]
     },
     "execution_count": 18,
     "metadata": {},
     "output_type": "execute_result"
    }
   ],
   "source": [
    "df.loc[df[\"authors\"] == \"NOT A BOOK\"]"
   ]
  },
  {
   "cell_type": "code",
   "execution_count": 19,
   "id": "14ddd20b",
   "metadata": {},
   "outputs": [],
   "source": [
    "df = df.drop(df[df[\"authors\"] == \"NOT A BOOK\"].index)"
   ]
  },
  {
   "cell_type": "code",
   "execution_count": 20,
   "id": "4f55f37b",
   "metadata": {},
   "outputs": [
    {
     "name": "stdout",
     "output_type": "stream",
     "text": [
      "<class 'pandas.core.frame.DataFrame'>\n",
      "Index: 11042 entries, 1 to 45641\n",
      "Data columns (total 11 columns):\n",
      " #   Column              Non-Null Count  Dtype         \n",
      "---  ------              --------------  -----         \n",
      " 0   title               11042 non-null  object        \n",
      " 1   authors             11042 non-null  object        \n",
      " 2   average_rating      11042 non-null  float64       \n",
      " 3   isbn                11042 non-null  object        \n",
      " 4   isbn13              11042 non-null  int64         \n",
      " 5   language_code       11042 non-null  object        \n",
      " 6   num_pages           11042 non-null  int64         \n",
      " 7   ratings_count       11042 non-null  int64         \n",
      " 8   text_reviews_count  11042 non-null  int64         \n",
      " 9   publication_date    11042 non-null  datetime64[ns]\n",
      " 10  publisher           11042 non-null  object        \n",
      "dtypes: datetime64[ns](1), float64(1), int64(4), object(5)\n",
      "memory usage: 1.0+ MB\n"
     ]
    }
   ],
   "source": [
    "df.info()"
   ]
  },
  {
   "cell_type": "markdown",
   "id": "b31fe062",
   "metadata": {},
   "source": [
    "## 2. EDA Stage"
   ]
  },
  {
   "cell_type": "code",
   "execution_count": 21,
   "id": "783d0577",
   "metadata": {},
   "outputs": [
    {
     "data": {
      "text/plain": [
       "<function matplotlib.pyplot.show(close=None, block=None)>"
      ]
     },
     "execution_count": 21,
     "metadata": {},
     "output_type": "execute_result"
    },
    {
     "data": {
      "image/png": "[encoded data removed]",
      "text/plain": [
       "<Figure size 1000x500 with 1 Axes>"
      ]
     },
     "metadata": {},
     "output_type": "display_data"
    }
   ],
   "source": [
    "plt.figure(figsize=(10,5))\n",
    "plt.scatter(df.average_rating, df.ratings_count)\n",
    "plt.title(\"Rating vs Rating Count\")\n",
    "plt.xlabel(\"Rating\")\n",
    "plt.ylabel(\"Rating Count\")\n",
    "plt.show"
   ]
  },
  {
   "cell_type": "code",
   "execution_count": 22,
   "id": "d9bfeef9",
   "metadata": {},
   "outputs": [
    {
     "data": {
      "text/plain": [
       "<function matplotlib.pyplot.show(close=None, block=None)>"
      ]
     },
     "execution_count": 22,
     "metadata": {},
     "output_type": "execute_result"
    },
    {
     "data": {
      "image/png": "[encoded data removed]",
      "text/plain": [
       "<Figure size 1000x500 with 1 Axes>"
      ]
     },
     "metadata": {},
     "output_type": "display_data"
    }
   ],
   "source": [
    "plt.figure(figsize=(10,5))\n",
    "plt.scatter(df.average_rating, df.text_reviews_count)\n",
    "plt.title(\"Rating vs Text Review Count\")\n",
    "plt.xlabel(\"Rating\")\n",
    "plt.ylabel(\"Text Review Count\")\n",
    "plt.show"
   ]
  },
  {
   "cell_type": "code",
   "execution_count": 23,
   "id": "d5892849",
   "metadata": {},
   "outputs": [
    {
     "data": {
      "image/png": "[encoded data removed]",
      "text/plain": [
       "<Figure size 640x480 with 1 Axes>"
      ]
     },
     "metadata": {},
     "output_type": "display_data"
    }
   ],
   "source": [
    "plt.pie(df.language_code.value_counts().nlargest(5),labels=df.language_code.value_counts().nlargest(5).index,autopct='%1.2f%%')\n",
    "plt.show()"
   ]
  },
  {
   "cell_type": "code",
   "execution_count": 24,
   "id": "c9b3f0fe",
   "metadata": {},
   "outputs": [
    {
     "data": {
      "text/plain": [
       "<Axes: xlabel='average_rating', ylabel='Count'>"
      ]
     },
     "execution_count": 24,
     "metadata": {},
     "output_type": "execute_result"
    },
    {
     "data": {
      "image/png": "[encoded data removed]",
      "text/plain": [
       "<Figure size 640x480 with 1 Axes>"
      ]
     },
     "metadata": {},
     "output_type": "display_data"
    }
   ],
   "source": [
    "sns.histplot(df.average_rating, kde=True)"
   ]
  },
  {
   "cell_type": "code",
   "execution_count": 25,
   "id": "2916af30",
   "metadata": {},
   "outputs": [
    {
     "data": {
      "text/plain": [
       "<Axes: xlabel='ratings_count', ylabel='Count'>"
      ]
     },
     "execution_count": 25,
     "metadata": {},
     "output_type": "execute_result"
    },
    {
     "data": {
      "image/png": "[encoded data removed]",
      "text/plain": [
       "<Figure size 640x480 with 1 Axes>"
      ]
     },
     "metadata": {},
     "output_type": "display_data"
    }
   ],
   "source": [
    "sns.histplot(df.ratings_count, kde=True)"
   ]
  },
  {
   "cell_type": "code",
   "execution_count": 26,
   "id": "711fb373",
   "metadata": {},
   "outputs": [
    {
     "data": {
      "text/plain": [
       "<Axes: xlabel='text_reviews_count', ylabel='Count'>"
      ]
     },
     "execution_count": 26,
     "metadata": {},
     "output_type": "execute_result"
    },
    {
     "data": {
      "image/png": "[encoded data removed]",
      "text/plain": [
       "<Figure size 640x480 with 1 Axes>"
      ]
     },
     "metadata": {},
     "output_type": "display_data"
    }
   ],
   "source": [
    "sns.histplot(df.text_reviews_count, kde=True)"
   ]
  },
  {
   "cell_type": "markdown",
   "id": "83e17ebf",
   "metadata": {},
   "source": [
    "Below are some visualizations of top 10 books with respect to different criteria."
   ]
  },
  {
   "cell_type": "code",
   "execution_count": 27,
   "id": "b22cdc6e",
   "metadata": {},
   "outputs": [],
   "source": [
    "top10_books = df.sort_values(by=\"average_rating\", ascending=False).head(10)"
   ]
  },
  {
   "cell_type": "code",
   "execution_count": 28,
   "id": "7b84768b",
   "metadata": {},
   "outputs": [
    {
     "name": "stderr",
     "output_type": "stream",
     "text": [
      "C:\\Users\\Kaan\\AppData\\Local\\Temp\\ipykernel_27416\\1679873439.py:2: FutureWarning: \n",
      "\n",
      "Passing `palette` without assigning `hue` is deprecated and will be removed in v0.14.0. Assign the `y` variable to `hue` and set `legend=False` for the same effect.\n",
      "\n",
      "  sns.barplot(x=\"average_rating\", y=\"title\", data=top10_books, palette=\"mako\")\n"
     ]
    },
    {
     "data": {
      "image/png": "[encoded data removed]",
      "text/plain": [
       "<Figure size 1200x600 with 1 Axes>"
      ]
     },
     "metadata": {},
     "output_type": "display_data"
    }
   ],
   "source": [
    "plt.figure(figsize=(12, 6))\n",
    "sns.barplot(x=\"average_rating\", y=\"title\", data=top10_books, palette=\"mako\")\n",
    "plt.xlabel(\"Average Rating\")\n",
    "plt.ylabel(\"Book Title\")\n",
    "plt.title(\"Top 10 Books With Highest Average Rating\")\n",
    "plt.xlim(0, 5)\n",
    "plt.show()"
   ]
  },
  {
   "cell_type": "code",
   "execution_count": 29,
   "id": "64d79436",
   "metadata": {},
   "outputs": [],
   "source": [
    "top10_ratingcount = df.sort_values(by=\"ratings_count\", ascending=False).head(10)"
   ]
  },
  {
   "cell_type": "code",
   "execution_count": 30,
   "id": "e7995efa",
   "metadata": {},
   "outputs": [
    {
     "name": "stderr",
     "output_type": "stream",
     "text": [
      "C:\\Users\\Kaan\\AppData\\Local\\Temp\\ipykernel_27416\\3418964319.py:2: FutureWarning: \n",
      "\n",
      "Passing `palette` without assigning `hue` is deprecated and will be removed in v0.14.0. Assign the `y` variable to `hue` and set `legend=False` for the same effect.\n",
      "\n",
      "  sns.barplot(x=\"ratings_count\", y=\"title\", data=top10_ratingcount, palette=\"crest\")\n"
     ]
    },
    {
     "data": {
      "image/png": "[encoded data removed]",
      "text/plain": [
       "<Figure size 1200x600 with 1 Axes>"
      ]
     },
     "metadata": {},
     "output_type": "display_data"
    }
   ],
   "source": [
    "plt.figure(figsize=(12, 6))\n",
    "sns.barplot(x=\"ratings_count\", y=\"title\", data=top10_ratingcount, palette=\"crest\")\n",
    "plt.xlabel(\"Rating Count\")\n",
    "plt.ylabel(\"Book Title\")\n",
    "plt.title(\"Top 10 Books with Highest Rating Count\")\n",
    "plt.show()"
   ]
  },
  {
   "cell_type": "code",
   "execution_count": 31,
   "id": "aa4475cb",
   "metadata": {},
   "outputs": [],
   "source": [
    "top10_textreviewcount = df.sort_values(by=\"text_reviews_count\", ascending=False).head(10)"
   ]
  },
  {
   "cell_type": "code",
   "execution_count": 32,
   "id": "1e541052",
   "metadata": {},
   "outputs": [
    {
     "name": "stderr",
     "output_type": "stream",
     "text": [
      "C:\\Users\\Kaan\\AppData\\Local\\Temp\\ipykernel_27416\\2751164383.py:2: FutureWarning: \n",
      "\n",
      "Passing `palette` without assigning `hue` is deprecated and will be removed in v0.14.0. Assign the `y` variable to `hue` and set `legend=False` for the same effect.\n",
      "\n",
      "  sns.barplot(x=\"text_reviews_count\", y=\"title\", data=top10_textreviewcount, palette=\"viridis\")\n"
     ]
    },
    {
     "data": {
      "image/png": "[encoded data removed]",
      "text/plain": [
       "<Figure size 1200x600 with 1 Axes>"
      ]
     },
     "metadata": {},
     "output_type": "display_data"
    }
   ],
   "source": [
    "plt.figure(figsize=(12, 6))\n",
    "sns.barplot(x=\"text_reviews_count\", y=\"title\", data=top10_textreviewcount, palette=\"viridis\")\n",
    "plt.xlabel(\"Text Review Count\")\n",
    "plt.ylabel(\"Book Title\")\n",
    "plt.title(\"Top 10 Books with Highest Text Review Count\")\n",
    "plt.show()"
   ]
  },
  {
   "cell_type": "code",
   "execution_count": 33,
   "id": "619ac726",
   "metadata": {},
   "outputs": [],
   "source": [
    "top10_longest = df.sort_values(by=\"num_pages\", ascending=False).head(10)"
   ]
  },
  {
   "cell_type": "code",
   "execution_count": 34,
   "id": "9b2f912c",
   "metadata": {},
   "outputs": [
    {
     "name": "stderr",
     "output_type": "stream",
     "text": [
      "C:\\Users\\Kaan\\AppData\\Local\\Temp\\ipykernel_27416\\3355890543.py:2: FutureWarning: \n",
      "\n",
      "Passing `palette` without assigning `hue` is deprecated and will be removed in v0.14.0. Assign the `y` variable to `hue` and set `legend=False` for the same effect.\n",
      "\n",
      "  sns.barplot(x=\"num_pages\", y=\"title\", data=top10_longest, palette=\"flare\")\n"
     ]
    },
    {
     "data": {
      "image/png": "[encoded data removed]",
      "text/plain": [
       "<Figure size 1200x600 with 1 Axes>"
      ]
     },
     "metadata": {},
     "output_type": "display_data"
    }
   ],
   "source": [
    "plt.figure(figsize=(12, 6))\n",
    "sns.barplot(x=\"num_pages\", y=\"title\", data=top10_longest, palette=\"flare\")\n",
    "plt.xlabel(\"Page Number\")\n",
    "plt.ylabel(\"Book Title\")\n",
    "plt.title(\"Top 10 Longest Books\")\n",
    "plt.show()"
   ]
  },
  {
   "cell_type": "markdown",
   "id": "0c4626a3",
   "metadata": {},
   "source": [
    "## 3. Feature Engineering Stage"
   ]
  },
  {
   "cell_type": "markdown",
   "id": "ba8272e6",
   "metadata": {},
   "source": [
    "We first need to transform the language column data to numeric."
   ]
  },
  {
   "cell_type": "code",
   "execution_count": 35,
   "id": "bae3306e",
   "metadata": {},
   "outputs": [],
   "source": [
    "df[\"language_code\"] = pd.factorize(df[\"language_code\"])[0]"
   ]
  },
  {
   "cell_type": "markdown",
   "id": "701d07c6",
   "metadata": {},
   "source": [
    "In order to transform the publication date column to numeric values, we can extract the year of a book's publication (also since it is the most relevant to us)."
   ]
  },
  {
   "cell_type": "code",
   "execution_count": 36,
   "id": "a87fdf52",
   "metadata": {},
   "outputs": [],
   "source": [
    "df[\"publication_date\"] = pd.to_datetime(df[\"publication_date\"]).dt.year"
   ]
  },
  {
   "cell_type": "code",
   "execution_count": 37,
   "id": "dcfd20d4",
   "metadata": {},
   "outputs": [],
   "source": [
    "df_processed = df.drop(columns=[\"title\", \"authors\", \"isbn\", \"isbn13\", \"publisher\"])"
   ]
  },
  {
   "cell_type": "code",
   "execution_count": 38,
   "id": "a592ef37",
   "metadata": {},
   "outputs": [
    {
     "data": {
      "application/vnd.microsoft.datawrangler.viewer.v0+json": {
       "columns": [
        {
         "name": "bookID",
         "rawType": "int64",
         "type": "integer"
        },
        {
         "name": "average_rating",
         "rawType": "float64",
         "type": "float"
        },
        {
         "name": "language_code",
         "rawType": "int64",
         "type": "integer"
        },
        {
         "name": "num_pages",
         "rawType": "int64",
         "type": "integer"
        },
        {
         "name": "ratings_count",
         "rawType": "int64",
         "type": "integer"
        },
        {
         "name": "text_reviews_count",
         "rawType": "int64",
         "type": "integer"
        },
        {
         "name": "publication_date",
         "rawType": "int32",
         "type": "integer"
        }
       ],
       "ref": "acb36ec1-2f67-488e-be5c-517688e175c7",
       "rows": [
        [
         "1",
         "4.57",
         "0",
         "652",
         "2095690",
         "27591",
         "2006"
        ],
        [
         "2",
         "4.49",
         "0",
         "870",
         "2153167",
         "29221",
         "2004"
        ],
        [
         "4",
         "4.42",
         "0",
         "352",
         "6333",
         "244",
         "2003"
        ],
        [
         "5",
         "4.56",
         "0",
         "435",
         "2339585",
         "36325",
         "2004"
        ],
        [
         "8",
         "4.78",
         "0",
         "2690",
         "41428",
         "164",
         "2004"
        ],
        [
         "9",
         "3.74",
         "0",
         "152",
         "19",
         "1",
         "2005"
        ],
        [
         "10",
         "4.73",
         "0",
         "3342",
         "28242",
         "808",
         "2005"
        ],
        [
         "12",
         "4.38",
         "0",
         "815",
         "3628",
         "254",
         "2005"
        ],
        [
         "13",
         "4.38",
         "0",
         "815",
         "249558",
         "4080",
         "2002"
        ],
        [
         "14",
         "4.22",
         "0",
         "215",
         "4930",
         "460",
         "2004"
        ],
        [
         "16",
         "4.22",
         "0",
         "6",
         "1266",
         "253",
         "2005"
        ],
        [
         "18",
         "4.38",
         "0",
         "815",
         "2877",
         "195",
         "1996"
        ],
        [
         "21",
         "4.21",
         "0",
         "544",
         "248558",
         "9396",
         "2004"
        ],
        [
         "22",
         "3.44",
         "0",
         "55",
         "7270",
         "499",
         "2002"
        ],
        [
         "23",
         "3.87",
         "0",
         "256",
         "2088",
         "131",
         "2004"
        ],
        [
         "24",
         "4.07",
         "0",
         "335",
         "72451",
         "4245",
         "2001"
        ],
        [
         "25",
         "3.9",
         "0",
         "304",
         "49240",
         "2211",
         "2000"
        ],
        [
         "26",
         "3.83",
         "0",
         "299",
         "45712",
         "2257",
         "1990"
        ],
        [
         "27",
         "3.86",
         "0",
         "254",
         "48701",
         "2238",
         "1993"
        ],
        [
         "28",
         "3.91",
         "0",
         "324",
         "80609",
         "3301",
         "1997"
        ],
        [
         "29",
         "3.93",
         "0",
         "270",
         "28489",
         "2085",
         "1991"
        ],
        [
         "30",
         "4.59",
         "0",
         "1728",
         "101233",
         "1550",
         "2012"
        ],
        [
         "31",
         "4.5",
         "0",
         "1184",
         "1710",
         "91",
         "2004"
        ],
        [
         "34",
         "4.36",
         "0",
         "398",
         "2128944",
         "13670",
         "2003"
        ],
        [
         "35",
         "4.5",
         "0",
         "1216",
         "1618",
         "140",
         "2002"
        ],
        [
         "36",
         "4.53",
         "0",
         "218",
         "19822",
         "46",
         "2003"
        ],
        [
         "37",
         "4.5",
         "0",
         "224",
         "359",
         "6",
         "2004"
        ],
        [
         "45",
         "3.84",
         "0",
         "558",
         "1430",
         "59",
         "2005"
        ],
        [
         "50",
         "3.72",
         "0",
         "208",
         "270244",
         "12017",
         "2000"
        ],
        [
         "51",
         "4.0",
         "0",
         "48",
         "36",
         "2",
         "1994"
        ],
        [
         "53",
         "3.88",
         "0",
         "144",
         "2067",
         "334",
         "2001"
        ],
        [
         "54",
         "4.33",
         "0",
         "56",
         "6",
         "0",
         "2003"
        ],
        [
         "55",
         "3.45",
         "0",
         "228",
         "99",
         "16",
         "2005"
        ],
        [
         "57",
         "3.76",
         "0",
         "304",
         "167",
         "4",
         "2005"
        ],
        [
         "58",
         "3.6",
         "0",
         "256",
         "978",
         "111",
         "2006"
        ],
        [
         "59",
         "4.06",
         "0",
         "137",
         "4454",
         "302",
         "2003"
        ],
        [
         "61",
         "4.17",
         "0",
         "228",
         "1176",
         "96",
         "2004"
        ],
        [
         "63",
         "3.55",
         "0",
         "339",
         "301",
         "43",
         "2005"
        ],
        [
         "66",
         "3.98",
         "0",
         "369",
         "345",
         "12",
         "1990"
        ],
        [
         "67",
         "3.83",
         "0",
         "388",
         "29686",
         "2626",
         "2006"
        ],
        [
         "68",
         "3.83",
         "0",
         "14",
         "55",
         "12",
         "2004"
        ],
        [
         "69",
         "3.83",
         "0",
         "576",
         "22",
         "3",
         "2004"
        ],
        [
         "71",
         "3.83",
         "0",
         "334",
         "1456",
         "82",
         "2006"
        ],
        [
         "72",
         "4.13",
         "0",
         "352",
         "52",
         "4",
         "2005"
        ],
        [
         "74",
         "4.42",
         "0",
         "416",
         "562",
         "37",
         "1982"
        ],
        [
         "75",
         "3.95",
         "0",
         "248",
         "1630",
         "203",
         "2006"
        ],
        [
         "76",
         "4.17",
         "0",
         "128",
         "268",
         "22",
         "1986"
        ],
        [
         "77",
         "4.24",
         "0",
         "288",
         "3498",
         "305",
         "1990"
        ],
        [
         "78",
         "4.34",
         "0",
         "720",
         "3115",
         "228",
         "1999"
        ],
        [
         "79",
         "4.22",
         "0",
         "448",
         "5704",
         "261",
         "1991"
        ]
       ],
       "shape": {
        "columns": 6,
        "rows": 11042
       }
      },
      "text/html": [
       "<div>\n",
       "<style scoped>\n",
       "    .dataframe tbody tr th:only-of-type {\n",
       "        vertical-align: middle;\n",
       "    }\n",
       "\n",
       "    .dataframe tbody tr th {\n",
       "        vertical-align: top;\n",
       "    }\n",
       "\n",
       "    .dataframe thead th {\n",
       "        text-align: right;\n",
       "    }\n",
       "</style>\n",
       "<table border=\"1\" class=\"dataframe\">\n",
       "  <thead>\n",
       "    <tr style=\"text-align: right;\">\n",
       "      <th></th>\n",
       "      <th>average_rating</th>\n",
       "      <th>language_code</th>\n",
       "      <th>num_pages</th>\n",
       "      <th>ratings_count</th>\n",
       "      <th>text_reviews_count</th>\n",
       "      <th>publication_date</th>\n",
       "    </tr>\n",
       "    <tr>\n",
       "      <th>bookID</th>\n",
       "      <th></th>\n",
       "      <th></th>\n",
       "      <th></th>\n",
       "      <th></th>\n",
       "      <th></th>\n",
       "      <th></th>\n",
       "    </tr>\n",
       "  </thead>\n",
       "  <tbody>\n",
       "    <tr>\n",
       "      <th>1</th>\n",
       "      <td>4.57</td>\n",
       "      <td>0</td>\n",
       "      <td>652</td>\n",
       "      <td>2095690</td>\n",
       "      <td>27591</td>\n",
       "      <td>2006</td>\n",
       "    </tr>\n",
       "    <tr>\n",
       "      <th>2</th>\n",
       "      <td>4.49</td>\n",
       "      <td>0</td>\n",
       "      <td>870</td>\n",
       "      <td>2153167</td>\n",
       "      <td>29221</td>\n",
       "      <td>2004</td>\n",
       "    </tr>\n",
       "    <tr>\n",
       "      <th>4</th>\n",
       "      <td>4.42</td>\n",
       "      <td>0</td>\n",
       "      <td>352</td>\n",
       "      <td>6333</td>\n",
       "      <td>244</td>\n",
       "      <td>2003</td>\n",
       "    </tr>\n",
       "    <tr>\n",
       "      <th>5</th>\n",
       "      <td>4.56</td>\n",
       "      <td>0</td>\n",
       "      <td>435</td>\n",
       "      <td>2339585</td>\n",
       "      <td>36325</td>\n",
       "      <td>2004</td>\n",
       "    </tr>\n",
       "    <tr>\n",
       "      <th>8</th>\n",
       "      <td>4.78</td>\n",
       "      <td>0</td>\n",
       "      <td>2690</td>\n",
       "      <td>41428</td>\n",
       "      <td>164</td>\n",
       "      <td>2004</td>\n",
       "    </tr>\n",
       "    <tr>\n",
       "      <th>...</th>\n",
       "      <td>...</td>\n",
       "      <td>...</td>\n",
       "      <td>...</td>\n",
       "      <td>...</td>\n",
       "      <td>...</td>\n",
       "      <td>...</td>\n",
       "    </tr>\n",
       "    <tr>\n",
       "      <th>45631</th>\n",
       "      <td>4.06</td>\n",
       "      <td>0</td>\n",
       "      <td>512</td>\n",
       "      <td>156</td>\n",
       "      <td>20</td>\n",
       "      <td>2004</td>\n",
       "    </tr>\n",
       "    <tr>\n",
       "      <th>45633</th>\n",
       "      <td>4.08</td>\n",
       "      <td>0</td>\n",
       "      <td>635</td>\n",
       "      <td>783</td>\n",
       "      <td>56</td>\n",
       "      <td>1988</td>\n",
       "    </tr>\n",
       "    <tr>\n",
       "      <th>45634</th>\n",
       "      <td>3.96</td>\n",
       "      <td>0</td>\n",
       "      <td>415</td>\n",
       "      <td>820</td>\n",
       "      <td>95</td>\n",
       "      <td>1993</td>\n",
       "    </tr>\n",
       "    <tr>\n",
       "      <th>45639</th>\n",
       "      <td>3.72</td>\n",
       "      <td>0</td>\n",
       "      <td>434</td>\n",
       "      <td>769</td>\n",
       "      <td>139</td>\n",
       "      <td>2007</td>\n",
       "    </tr>\n",
       "    <tr>\n",
       "      <th>45641</th>\n",
       "      <td>3.91</td>\n",
       "      <td>2</td>\n",
       "      <td>272</td>\n",
       "      <td>113</td>\n",
       "      <td>12</td>\n",
       "      <td>2006</td>\n",
       "    </tr>\n",
       "  </tbody>\n",
       "</table>\n",
       "<p>11042 rows × 6 columns</p>\n",
       "</div>"
      ],
      "text/plain": [
       "        average_rating  language_code  num_pages  ratings_count  \\\n",
       "bookID                                                            \n",
       "1                 4.57              0        652        2095690   \n",
       "2                 4.49              0        870        2153167   \n",
       "4                 4.42              0        352           6333   \n",
       "5                 4.56              0        435        2339585   \n",
       "8                 4.78              0       2690          41428   \n",
       "...                ...            ...        ...            ...   \n",
       "45631             4.06              0        512            156   \n",
       "45633             4.08              0        635            783   \n",
       "45634             3.96              0        415            820   \n",
       "45639             3.72              0        434            769   \n",
       "45641             3.91              2        272            113   \n",
       "\n",
       "        text_reviews_count  publication_date  \n",
       "bookID                                        \n",
       "1                    27591              2006  \n",
       "2                    29221              2004  \n",
       "4                      244              2003  \n",
       "5                    36325              2004  \n",
       "8                      164              2004  \n",
       "...                    ...               ...  \n",
       "45631                   20              2004  \n",
       "45633                   56              1988  \n",
       "45634                   95              1993  \n",
       "45639                  139              2007  \n",
       "45641                   12              2006  \n",
       "\n",
       "[11042 rows x 6 columns]"
      ]
     },
     "execution_count": 38,
     "metadata": {},
     "output_type": "execute_result"
    }
   ],
   "source": [
    "df_processed"
   ]
  },
  {
   "cell_type": "code",
   "execution_count": 39,
   "id": "217571c2",
   "metadata": {},
   "outputs": [
    {
     "data": {
      "image/png": "[encoded data removed]",
      "text/plain": [
       "<Figure size 1000x800 with 2 Axes>"
      ]
     },
     "metadata": {},
     "output_type": "display_data"
    }
   ],
   "source": [
    "plt.figure(figsize=(10,8))\n",
    "sns.heatmap(df_processed.corr(), annot=True, cmap=\"coolwarm\", fmt=\".2f\")\n",
    "plt.show()"
   ]
  },
  {
   "cell_type": "markdown",
   "id": "905cb579",
   "metadata": {},
   "source": [
    "## 4. Modeling Stage"
   ]
  },
  {
   "cell_type": "code",
   "execution_count": 40,
   "id": "432beb19",
   "metadata": {},
   "outputs": [],
   "source": [
    "from sklearn.model_selection import train_test_split"
   ]
  },
  {
   "cell_type": "code",
   "execution_count": 41,
   "id": "c4896921",
   "metadata": {},
   "outputs": [],
   "source": [
    "df_train, df_test = train_test_split(df_processed, test_size=0.20, random_state=42)"
   ]
  },
  {
   "cell_type": "code",
   "execution_count": 42,
   "id": "58571f84",
   "metadata": {},
   "outputs": [
    {
     "name": "stdout",
     "output_type": "stream",
     "text": [
      "11042\n",
      "8833\n",
      "2209\n"
     ]
    }
   ],
   "source": [
    "print(len(df_processed))\n",
    "print(len(df_train))\n",
    "print(len(df_test))"
   ]
  },
  {
   "cell_type": "code",
   "execution_count": 43,
   "id": "b57a89e8",
   "metadata": {},
   "outputs": [],
   "source": [
    "X_train = df_train.drop(\"average_rating\", axis=1)\n",
    "y_train = df_train[\"average_rating\"]"
   ]
  },
  {
   "cell_type": "code",
   "execution_count": 44,
   "id": "e835c587",
   "metadata": {},
   "outputs": [],
   "source": [
    "X_test = df_test.drop(\"average_rating\", axis=1)\n",
    "y_test = df_test[\"average_rating\"]"
   ]
  },
  {
   "cell_type": "markdown",
   "id": "89afeefe",
   "metadata": {},
   "source": [
    "Since our aim is to predict a float value between 0 and 5, Regressor models are our best choices."
   ]
  },
  {
   "cell_type": "code",
   "execution_count": 45,
   "id": "5ff9e102",
   "metadata": {},
   "outputs": [],
   "source": [
    "from sklearn.ensemble import RandomForestRegressor, GradientBoostingRegressor\n",
    "from sklearn.tree import DecisionTreeRegressor\n",
    "from sklearn.linear_model import LinearRegression\n",
    "from sklearn.neighbors import KNeighborsRegressor\n",
    "from sklearn.metrics import r2_score, mean_squared_error"
   ]
  },
  {
   "cell_type": "code",
   "execution_count": 46,
   "id": "c9b68391",
   "metadata": {},
   "outputs": [],
   "source": [
    "models = {\"LinearRegression\": LinearRegression(),\n",
    "             \"DecisionTree\": DecisionTreeRegressor(random_state=42), \"RandomForest\": RandomForestRegressor(random_state=42),\n",
    "             \"GradientBoosting\": GradientBoostingRegressor(random_state=42),\n",
    "             \"KNeighbors\": KNeighborsRegressor()}"
   ]
  },
  {
   "cell_type": "code",
   "execution_count": 47,
   "id": "e21376dc",
   "metadata": {},
   "outputs": [],
   "source": [
    "results = {}\n",
    "mean_sq_error = {}\n",
    "\n",
    "for name, model in models.items():\n",
    "    model.fit(X_train, y_train)\n",
    "    y_predicted = np.round(model.predict(X_test), 2)\n",
    "    score = r2_score(y_test, y_predicted)\n",
    "    error = np.sqrt(mean_squared_error(y_test, y_predicted))\n",
    "    results[name] = score\n",
    "    mean_sq_error[name] = error"
   ]
  },
  {
   "cell_type": "code",
   "execution_count": 48,
   "id": "8b5a7ffc",
   "metadata": {},
   "outputs": [
    {
     "name": "stdout",
     "output_type": "stream",
     "text": [
      "dict_values([0.02797054261915699, -0.5642721312335328, 0.10214538317383848, 0.18262676787549703, -0.09455041215495963])\n",
      "dict_values([np.float64(0.3505802601213898), np.float64(0.44473765289258727), np.float64(0.3369385912968644), np.float64(0.32148295472163135), np.float64(0.3720194361078598)])\n"
     ]
    }
   ],
   "source": [
    "print(results.values())\n",
    "print(mean_sq_error.values())"
   ]
  },
  {
   "cell_type": "code",
   "execution_count": 49,
   "id": "b2c8ebe5",
   "metadata": {},
   "outputs": [
    {
     "name": "stderr",
     "output_type": "stream",
     "text": [
      "C:\\Users\\Kaan\\AppData\\Local\\Temp\\ipykernel_27416\\3017961657.py:2: FutureWarning: \n",
      "\n",
      "Passing `palette` without assigning `hue` is deprecated and will be removed in v0.14.0. Assign the `y` variable to `hue` and set `legend=False` for the same effect.\n",
      "\n",
      "  sns.barplot(x=list(results.values()), y=list(results.keys()), palette='viridis')\n"
     ]
    },
    {
     "data": {
      "image/png": "[encoded data removed]",
      "text/plain": [
       "<Figure size 1000x600 with 1 Axes>"
      ]
     },
     "metadata": {},
     "output_type": "display_data"
    }
   ],
   "source": [
    "plt.figure(figsize=(10, 6))\n",
    "sns.barplot(x=list(results.values()), y=list(results.keys()), palette='viridis')\n",
    "plt.xlabel('R2 Score')\n",
    "plt.title('Regressor Model Accuracy (R2 Score)')\n",
    "plt.xlim(0, 1)\n",
    "plt.show()"
   ]
  },
  {
   "cell_type": "markdown",
   "id": "e0276612",
   "metadata": {},
   "source": [
    "As can be seen from above plot, the models performed poorly. We can go back to the Feature Engineering stage and add new feature to improve performance."
   ]
  },
  {
   "cell_type": "markdown",
   "id": "c5365dfe",
   "metadata": {},
   "source": [
    "### 5. Fine-Tuning Stage"
   ]
  },
  {
   "cell_type": "markdown",
   "id": "f4c289e8",
   "metadata": {},
   "source": [
    "Let's \"copy\" our dataframe with a different name."
   ]
  },
  {
   "cell_type": "code",
   "execution_count": 50,
   "id": "2705223e",
   "metadata": {},
   "outputs": [],
   "source": [
    "df2 = df"
   ]
  },
  {
   "cell_type": "markdown",
   "id": "10195f40",
   "metadata": {},
   "source": [
    "Recall that in the data preparation stage, we noticed that the number of UNIQUE book titles is lower than total number of books in the dataset. So, we can see the number of times a book is entered in the dataset. These different occurences are most likely caused by:\n",
    "1. Different language of the book\n",
    "2. Different publisher\n",
    "3. Different edition\n",
    "4. Multiple Authors (editors, translators)"
   ]
  },
  {
   "cell_type": "markdown",
   "id": "1508df1c",
   "metadata": {},
   "source": [
    "Hence, we add a new column to our dataframe that stores the number of occurences each unique book has in total with the below code."
   ]
  },
  {
   "cell_type": "code",
   "execution_count": 51,
   "id": "a32ef473",
   "metadata": {},
   "outputs": [],
   "source": [
    "df2[\"occurence_count\"] = df2.groupby(\"title\")[\"title\"].transform(\"count\")"
   ]
  },
  {
   "cell_type": "code",
   "execution_count": 52,
   "id": "0c02ad47",
   "metadata": {},
   "outputs": [
    {
     "data": {
      "application/vnd.microsoft.datawrangler.viewer.v0+json": {
       "columns": [
        {
         "name": "occurence_count",
         "rawType": "int64",
         "type": "integer"
        },
        {
         "name": "count",
         "rawType": "int64",
         "type": "integer"
        }
       ],
       "ref": "0f1d910f-2c8d-44cd-8e78-844dec581bf4",
       "rows": [
        [
         "8",
         "16"
        ],
        [
         "9",
         "18"
        ],
        [
         "7",
         "28"
        ],
        [
         "6",
         "66"
        ],
        [
         "5",
         "95"
        ],
        [
         "4",
         "120"
        ],
        [
         "3",
         "225"
        ],
        [
         "2",
         "670"
        ],
        [
         "1",
         "9804"
        ]
       ],
       "shape": {
        "columns": 1,
        "rows": 9
       }
      },
      "text/plain": [
       "occurence_count\n",
       "8      16\n",
       "9      18\n",
       "7      28\n",
       "6      66\n",
       "5      95\n",
       "4     120\n",
       "3     225\n",
       "2     670\n",
       "1    9804\n",
       "Name: count, dtype: int64"
      ]
     },
     "execution_count": 52,
     "metadata": {},
     "output_type": "execute_result"
    }
   ],
   "source": [
    "df2.occurence_count.value_counts(ascending=True)"
   ]
  },
  {
   "cell_type": "markdown",
   "id": "884f2903",
   "metadata": {},
   "source": [
    "By above, we can see that, for example, 18 books can be seen in 9 different rows."
   ]
  },
  {
   "cell_type": "markdown",
   "id": "841c0773",
   "metadata": {},
   "source": [
    "Next we add new features. Namely, we do four multiplications by the average rating of each book with their occurence count, rating and text review count, and page number respectively to get four total new columns in our dataframe to feed into our models."
   ]
  },
  {
   "cell_type": "code",
   "execution_count": 53,
   "id": "2d06d88d",
   "metadata": {},
   "outputs": [],
   "source": [
    "df2[\"occ_weighted\"] = df2[\"average_rating\"] * df2[\"occurence_count\"]"
   ]
  },
  {
   "cell_type": "code",
   "execution_count": 54,
   "id": "1fe5bf3f",
   "metadata": {},
   "outputs": [],
   "source": [
    "df2[\"rating_count_weighted\"] = df2[\"average_rating\"] * df2[\"ratings_count\"]\n",
    "df2[\"text_review_count_weighted\"] = df2[\"average_rating\"] * df2[\"text_reviews_count\"]"
   ]
  },
  {
   "cell_type": "code",
   "execution_count": 55,
   "id": "d4d1f6dc",
   "metadata": {},
   "outputs": [],
   "source": [
    "df2[\"page_weighted\"] = df2[\"average_rating\"] * df2[\"num_pages\"]"
   ]
  },
  {
   "cell_type": "code",
   "execution_count": 56,
   "id": "ce349c7c",
   "metadata": {},
   "outputs": [
    {
     "data": {
      "application/vnd.microsoft.datawrangler.viewer.v0+json": {
       "columns": [
        {
         "name": "bookID",
         "rawType": "int64",
         "type": "integer"
        },
        {
         "name": "title",
         "rawType": "object",
         "type": "string"
        },
        {
         "name": "authors",
         "rawType": "object",
         "type": "string"
        },
        {
         "name": "average_rating",
         "rawType": "float64",
         "type": "float"
        },
        {
         "name": "isbn",
         "rawType": "object",
         "type": "string"
        },
        {
         "name": "isbn13",
         "rawType": "int64",
         "type": "integer"
        },
        {
         "name": "language_code",
         "rawType": "int64",
         "type": "integer"
        },
        {
         "name": "num_pages",
         "rawType": "int64",
         "type": "integer"
        },
        {
         "name": "ratings_count",
         "rawType": "int64",
         "type": "integer"
        },
        {
         "name": "text_reviews_count",
         "rawType": "int64",
         "type": "integer"
        },
        {
         "name": "publication_date",
         "rawType": "int32",
         "type": "integer"
        },
        {
         "name": "publisher",
         "rawType": "object",
         "type": "string"
        },
        {
         "name": "occurence_count",
         "rawType": "int64",
         "type": "integer"
        },
        {
         "name": "occ_weighted",
         "rawType": "float64",
         "type": "float"
        },
        {
         "name": "rating_count_weighted",
         "rawType": "float64",
         "type": "float"
        },
        {
         "name": "text_review_count_weighted",
         "rawType": "float64",
         "type": "float"
        },
        {
         "name": "page_weighted",
         "rawType": "float64",
         "type": "float"
        }
       ],
       "ref": "4b038002-0296-47d0-aa7e-95e5421dcf7e",
       "rows": [
        [
         "1",
         "Harry Potter and the Half-Blood Prince (Harry Potter  #6)",
         "J.K. Rowling/Mary GrandPré",
         "4.57",
         "0439785960",
         "9780439785969",
         "0",
         "652",
         "2095690",
         "27591",
         "2006",
         "Scholastic Inc.",
         "2",
         "9.14",
         "9577303.3",
         "126090.87000000001",
         "2979.6400000000003"
        ],
        [
         "2",
         "Harry Potter and the Order of the Phoenix (Harry Potter  #5)",
         "J.K. Rowling/Mary GrandPré",
         "4.49",
         "0439358078",
         "9780439358071",
         "0",
         "870",
         "2153167",
         "29221",
         "2004",
         "Scholastic Inc.",
         "1",
         "4.49",
         "9667719.83",
         "131202.29",
         "3906.3"
        ],
        [
         "4",
         "Harry Potter and the Chamber of Secrets (Harry Potter  #2)",
         "J.K. Rowling",
         "4.42",
         "0439554896",
         "9780439554893",
         "0",
         "352",
         "6333",
         "244",
         "2003",
         "Scholastic",
         "2",
         "8.84",
         "27991.86",
         "1078.48",
         "1555.84"
        ],
        [
         "5",
         "Harry Potter and the Prisoner of Azkaban (Harry Potter  #3)",
         "J.K. Rowling/Mary GrandPré",
         "4.56",
         "043965548X",
         "9780439655484",
         "0",
         "435",
         "2339585",
         "36325",
         "2004",
         "Scholastic Inc.",
         "2",
         "9.12",
         "10668507.6",
         "165642.0",
         "1983.6"
        ],
        [
         "8",
         "Harry Potter Boxed Set  Books 1-5 (Harry Potter  #1-5)",
         "J.K. Rowling/Mary GrandPré",
         "4.78",
         "0439682584",
         "9780439682589",
         "0",
         "2690",
         "41428",
         "164",
         "2004",
         "Scholastic",
         "1",
         "4.78",
         "198025.84",
         "783.9200000000001",
         "12858.2"
        ],
        [
         "9",
         "Unauthorized Harry Potter Book Seven News: \"Half-Blood Prince\" Analysis and Speculation",
         "W. Frederick Zimmerman",
         "3.74",
         "0976540606",
         "9780976540601",
         "0",
         "152",
         "19",
         "1",
         "2005",
         "Nimble Books",
         "1",
         "3.74",
         "71.06",
         "3.74",
         "568.48"
        ],
        [
         "10",
         "Harry Potter Collection (Harry Potter  #1-6)",
         "J.K. Rowling",
         "4.73",
         "0439827604",
         "9780439827607",
         "0",
         "3342",
         "28242",
         "808",
         "2005",
         "Scholastic",
         "1",
         "4.73",
         "133584.66",
         "3821.84",
         "15807.660000000002"
        ],
        [
         "12",
         "The Ultimate Hitchhiker's Guide: Five Complete Novels and One Story (Hitchhiker's Guide to the Galaxy  #1-5)",
         "Douglas Adams",
         "4.38",
         "0517226952",
         "9780517226957",
         "0",
         "815",
         "3628",
         "254",
         "2005",
         "Gramercy Books",
         "1",
         "4.38",
         "15890.64",
         "1112.52",
         "3569.7"
        ],
        [
         "13",
         "The Ultimate Hitchhiker's Guide to the Galaxy (Hitchhiker's Guide to the Galaxy  #1-5)",
         "Douglas Adams",
         "4.38",
         "0345453743",
         "9780345453747",
         "0",
         "815",
         "249558",
         "4080",
         "2002",
         "Del Rey Books",
         "1",
         "4.38",
         "1093064.04",
         "17870.399999999998",
         "3569.7"
        ],
        [
         "14",
         "The Hitchhiker's Guide to the Galaxy (Hitchhiker's Guide to the Galaxy  #1)",
         "Douglas Adams",
         "4.22",
         "1400052920",
         "9781400052929",
         "0",
         "215",
         "4930",
         "460",
         "2004",
         "Crown",
         "4",
         "16.88",
         "20804.6",
         "1941.1999999999998",
         "907.3"
        ],
        [
         "16",
         "The Hitchhiker's Guide to the Galaxy (Hitchhiker's Guide to the Galaxy  #1)",
         "Douglas Adams/Stephen Fry",
         "4.22",
         "0739322206",
         "9780739322208",
         "0",
         "6",
         "1266",
         "253",
         "2005",
         "Random House Audio",
         "4",
         "16.88",
         "5342.5199999999995",
         "1067.6599999999999",
         "25.32"
        ],
        [
         "18",
         "The Ultimate Hitchhiker's Guide (Hitchhiker's Guide to the Galaxy  #1-5)",
         "Douglas Adams",
         "4.38",
         "0517149257",
         "9780517149256",
         "0",
         "815",
         "2877",
         "195",
         "1996",
         "Wings Books",
         "1",
         "4.38",
         "12601.26",
         "854.1",
         "3569.7"
        ],
        [
         "21",
         "A Short History of Nearly Everything",
         "Bill Bryson",
         "4.21",
         "076790818X",
         "9780767908184",
         "0",
         "544",
         "248558",
         "9396",
         "2004",
         "Broadway Books",
         "2",
         "8.42",
         "1046429.1799999999",
         "39557.159999999996",
         "2290.24"
        ],
        [
         "22",
         "Bill Bryson's African Diary",
         "Bill Bryson",
         "3.44",
         "0767915062",
         "9780767915069",
         "0",
         "55",
         "7270",
         "499",
         "2002",
         "Broadway Books",
         "2",
         "6.88",
         "25008.8",
         "1716.56",
         "189.2"
        ],
        [
         "23",
         "Bryson's Dictionary of Troublesome Words: A Writer's Guide to Getting It Right",
         "Bill Bryson",
         "3.87",
         "0767910435",
         "9780767910439",
         "0",
         "256",
         "2088",
         "131",
         "2004",
         "Broadway Books",
         "1",
         "3.87",
         "8080.56",
         "506.97",
         "990.72"
        ],
        [
         "24",
         "In a Sunburned Country",
         "Bill Bryson",
         "4.07",
         "0767903862",
         "9780767903868",
         "0",
         "335",
         "72451",
         "4245",
         "2001",
         "Broadway Books",
         "1",
         "4.07",
         "294875.57",
         "17277.15",
         "1363.45"
        ],
        [
         "25",
         "I'm a Stranger Here Myself: Notes on Returning to America After Twenty Years Away",
         "Bill Bryson",
         "3.9",
         "076790382X",
         "9780767903820",
         "0",
         "304",
         "49240",
         "2211",
         "2000",
         "Broadway Books",
         "1",
         "3.9",
         "192036.0",
         "8622.9",
         "1185.6"
        ],
        [
         "26",
         "The Lost Continent: Travels in Small Town America",
         "Bill Bryson",
         "3.83",
         "0060920084",
         "9780060920081",
         "0",
         "299",
         "45712",
         "2257",
         "1990",
         "William Morrow Paperbacks",
         "1",
         "3.83",
         "175076.96",
         "8644.31",
         "1145.17"
        ],
        [
         "27",
         "Neither Here nor There: Travels in Europe",
         "Bill Bryson",
         "3.86",
         "0380713802",
         "9780380713806",
         "0",
         "254",
         "48701",
         "2238",
         "1993",
         "William Morrow Paperbacks",
         "1",
         "3.86",
         "187985.86",
         "8638.68",
         "980.4399999999999"
        ],
        [
         "28",
         "Notes from a Small Island",
         "Bill Bryson",
         "3.91",
         "0380727501",
         "9780380727506",
         "0",
         "324",
         "80609",
         "3301",
         "1997",
         "William Morrow Paperbacks",
         "1",
         "3.91",
         "315181.19",
         "12906.91",
         "1266.8400000000001"
        ],
        [
         "29",
         "The Mother Tongue: English and How It Got That Way",
         "Bill Bryson",
         "3.93",
         "0380715430",
         "9780380715435",
         "0",
         "270",
         "28489",
         "2085",
         "1991",
         "William Morrow Paperbacks",
         "1",
         "3.93",
         "111961.77",
         "8194.050000000001",
         "1061.1000000000001"
        ],
        [
         "30",
         "J.R.R. Tolkien 4-Book Boxed Set: The Hobbit and The Lord of the Rings",
         "J.R.R. Tolkien",
         "4.59",
         "0345538374",
         "9780345538376",
         "0",
         "1728",
         "101233",
         "1550",
         "2012",
         "Ballantine Books",
         "1",
         "4.59",
         "464659.47",
         "7114.5",
         "7931.5199999999995"
        ],
        [
         "31",
         "The Lord of the Rings (The Lord of the Rings  #1-3)",
         "J.R.R. Tolkien",
         "4.5",
         "0618517650",
         "9780618517657",
         "0",
         "1184",
         "1710",
         "91",
         "2004",
         "Houghton Mifflin Harcourt",
         "4",
         "18.0",
         "7695.0",
         "409.5",
         "5328.0"
        ],
        [
         "34",
         "The Fellowship of the Ring (The Lord of the Rings  #1)",
         "J.R.R. Tolkien",
         "4.36",
         "0618346252",
         "9780618346257",
         "0",
         "398",
         "2128944",
         "13670",
         "2003",
         "Houghton Mifflin Harcourt",
         "2",
         "8.72",
         "9282195.84",
         "59601.200000000004",
         "1735.2800000000002"
        ],
        [
         "35",
         "The Lord of the Rings (The Lord of the Rings  #1-3)",
         "J.R.R. Tolkien/Alan  Lee",
         "4.5",
         "0618260587",
         "9780618260584",
         "0",
         "1216",
         "1618",
         "140",
         "2002",
         "Houghton Mifflin Harcourt",
         "4",
         "18.0",
         "7281.0",
         "630.0",
         "5472.0"
        ],
        [
         "36",
         "The Lord of the Rings: Weapons and Warfare",
         "Chris   Smith/Christopher  Lee/Richard Taylor",
         "4.53",
         "0618391002",
         "9780618391004",
         "0",
         "218",
         "19822",
         "46",
         "2003",
         "Houghton Mifflin Harcourt",
         "1",
         "4.53",
         "89793.66",
         "208.38000000000002",
         "987.5400000000001"
        ],
        [
         "37",
         "The Lord of the Rings: Complete Visual Companion",
         "Jude Fisher",
         "4.5",
         "0618510826",
         "9780618510825",
         "0",
         "224",
         "359",
         "6",
         "2004",
         "Houghton Mifflin Harcourt",
         "1",
         "4.5",
         "1615.5",
         "27.0",
         "1008.0"
        ],
        [
         "45",
         "Agile Web Development with Rails: A Pragmatic Guide",
         "Dave Thomas/David Heinemeier Hansson/Leon Breedt/Mike Clark/Thomas  Fuchs/Andreas  Schwarz",
         "3.84",
         "097669400X",
         "9780976694007",
         "0",
         "558",
         "1430",
         "59",
         "2005",
         "Pragmatic Bookshelf",
         "1",
         "3.84",
         "5491.2",
         "226.56",
         "2142.72"
        ],
        [
         "50",
         "Hatchet (Brian's Saga  #1)",
         "Gary Paulsen",
         "3.72",
         "0689840926",
         "9780689840920",
         "0",
         "208",
         "270244",
         "12017",
         "2000",
         "Atheneum Books for Young Readers: Richard Jackson Books",
         "1",
         "3.72",
         "1005307.68",
         "44703.240000000005",
         "773.76"
        ],
        [
         "51",
         "Hatchet: A Guide for Using \"Hatchet\" in the Classroom",
         "Donna Ickes/Edward Sciranko/Keith Vasconcelles",
         "4.0",
         "1557344493",
         "9781557344496",
         "0",
         "48",
         "36",
         "2",
         "1994",
         "Teacher Created Resources",
         "1",
         "4.0",
         "144.0",
         "8.0",
         "192.0"
        ],
        [
         "53",
         "Guts: The True Stories behind Hatchet and the Brian Books",
         "Gary Paulsen",
         "3.88",
         "0385326505",
         "9780385326506",
         "0",
         "144",
         "2067",
         "334",
         "2001",
         "Delacorte Press",
         "1",
         "3.88",
         "8019.96",
         "1295.92",
         "558.72"
        ],
        [
         "54",
         "Molly Hatchet - 5 of the Best",
         "Molly Hatchet",
         "4.33",
         "1575606240",
         "9781575606248",
         "0",
         "56",
         "6",
         "0",
         "2003",
         "Cherry Lane Music Company",
         "1",
         "4.33",
         "25.98",
         "0.0",
         "242.48000000000002"
        ],
        [
         "55",
         "Hatchet Jobs: Writings on Contemporary Fiction",
         "Dale Peck",
         "3.45",
         "1595580271",
         "9781595580276",
         "0",
         "228",
         "99",
         "16",
         "2005",
         "The New Press",
         "1",
         "3.45",
         "341.55",
         "55.2",
         "786.6"
        ],
        [
         "57",
         "A Changeling for All Seasons (Changeling Seasons #1)",
         "Angela Knight/Sahara Kelly/Judy Mays/Marteeka Karland/Kate Douglas/Shelby Morgen/Lacey Savage/Kate Hill/Willa Okati",
         "3.76",
         "1595962808",
         "9781595962805",
         "0",
         "304",
         "167",
         "4",
         "2005",
         "Changeling Press",
         "1",
         "3.76",
         "627.92",
         "15.04",
         "1143.04"
        ],
        [
         "58",
         "Changeling (Changeling  #1)",
         "Delia Sherman",
         "3.6",
         "0670059676",
         "9780670059676",
         "0",
         "256",
         "978",
         "111",
         "2006",
         "Viking Juvenile",
         "1",
         "3.6",
         "3520.8",
         "399.6",
         "921.6"
        ],
        [
         "59",
         "The Changeling Sea",
         "Patricia A. McKillip",
         "4.06",
         "0141312629",
         "9780141312620",
         "0",
         "137",
         "4454",
         "302",
         "2003",
         "Firebird",
         "1",
         "4.06",
         "18083.239999999998",
         "1226.12",
         "556.2199999999999"
        ],
        [
         "61",
         "The Changeling",
         "Zilpha Keatley Snyder",
         "4.17",
         "0595321801",
         "9780595321803",
         "0",
         "228",
         "1176",
         "96",
         "2004",
         "iUniverse",
         "2",
         "8.34",
         "4903.92",
         "400.32",
         "950.76"
        ],
        [
         "63",
         "The Changeling",
         "Kate Horsley",
         "3.55",
         "1590301943",
         "9781590301944",
         "0",
         "339",
         "301",
         "43",
         "2005",
         "Shambhala",
         "2",
         "7.1",
         "1068.55",
         "152.65",
         "1203.45"
        ],
        [
         "66",
         "The Changeling (Daughters of England  #15)",
         "Philippa Carr",
         "3.98",
         "0449146979",
         "9780449146972",
         "0",
         "369",
         "345",
         "12",
         "1990",
         "Ivy Books",
         "1",
         "3.98",
         "1373.1",
         "47.76",
         "1468.62"
        ],
        [
         "67",
         "The Known World",
         "Edward P. Jones",
         "3.83",
         "0061159174",
         "9780061159176",
         "0",
         "388",
         "29686",
         "2626",
         "2006",
         "Amistad",
         "4",
         "15.32",
         "113697.38",
         "10057.58",
         "1486.04"
        ],
        [
         "68",
         "The Known World",
         "Edward P. Jones/Kevin R. Free",
         "3.83",
         "006076273X",
         "9780060762735",
         "0",
         "14",
         "55",
         "12",
         "2004",
         "HarperAudio",
         "4",
         "15.32",
         "210.65",
         "45.96",
         "53.620000000000005"
        ],
        [
         "69",
         "The Known World",
         "Edward P. Jones",
         "3.83",
         "0060749911",
         "9780060749910",
         "0",
         "576",
         "22",
         "3",
         "2004",
         "Harper",
         "4",
         "15.32",
         "84.26",
         "11.49",
         "2206.08"
        ],
        [
         "71",
         "Traders  Guns & Money: Knowns and Unknowns in the Dazzling World of Derivatives",
         "Satyajit Das",
         "3.83",
         "0273704745",
         "9780273704744",
         "0",
         "334",
         "1456",
         "82",
         "2006",
         "FT Press",
         "1",
         "3.83",
         "5576.4800000000005",
         "314.06",
         "1279.22"
        ],
        [
         "72",
         "Artesia: Adventures in the Known World",
         "Mark Smylie",
         "4.13",
         "1932386106",
         "9781932386103",
         "0",
         "352",
         "52",
         "4",
         "2005",
         "Archaia",
         "1",
         "4.13",
         "214.76",
         "16.52",
         "1453.76"
        ],
        [
         "74",
         "The John McPhee Reader (John McPhee Reader  #1)",
         "John McPhee/William Howarth",
         "4.42",
         "0374517193",
         "9780374517199",
         "0",
         "416",
         "562",
         "37",
         "1982",
         "Farrar  Straus and Giroux",
         "1",
         "4.42",
         "2484.04",
         "163.54",
         "1838.72"
        ],
        [
         "75",
         "Uncommon Carriers",
         "John McPhee",
         "3.95",
         "0374280398",
         "9780374280390",
         "0",
         "248",
         "1630",
         "203",
         "2006",
         "Farrar Straus Giroux",
         "1",
         "3.95",
         "6438.5",
         "801.85",
         "979.6"
        ],
        [
         "76",
         "Heirs of General Practice",
         "John McPhee",
         "4.17",
         "0374519749",
         "9780374519742",
         "0",
         "128",
         "268",
         "22",
         "1986",
         "Farrar  Straus and Giroux",
         "1",
         "4.17",
         "1117.56",
         "91.74",
         "533.76"
        ],
        [
         "77",
         "The Control of Nature",
         "John McPhee",
         "4.24",
         "0374522596",
         "9780374522599",
         "0",
         "288",
         "3498",
         "305",
         "1990",
         "Farrar  Straus and Giroux",
         "1",
         "4.24",
         "14831.52",
         "1293.2",
         "1221.1200000000001"
        ],
        [
         "78",
         "Annals of the Former World",
         "John McPhee",
         "4.34",
         "0374518734",
         "9780374518738",
         "0",
         "720",
         "3115",
         "228",
         "1999",
         "Farrar  Straus and Giroux",
         "1",
         "4.34",
         "13519.1",
         "989.52",
         "3124.7999999999997"
        ],
        [
         "79",
         "Coming Into the Country",
         "John McPhee",
         "4.22",
         "0374522871",
         "9780374522872",
         "0",
         "448",
         "5704",
         "261",
         "1991",
         "Farrar  Straus and Giroux",
         "1",
         "4.22",
         "24070.879999999997",
         "1101.4199999999998",
         "1890.56"
        ]
       ],
       "shape": {
        "columns": 16,
        "rows": 11042
       }
      },
      "text/html": [
       "<div>\n",
       "<style scoped>\n",
       "    .dataframe tbody tr th:only-of-type {\n",
       "        vertical-align: middle;\n",
       "    }\n",
       "\n",
       "    .dataframe tbody tr th {\n",
       "        vertical-align: top;\n",
       "    }\n",
       "\n",
       "    .dataframe thead th {\n",
       "        text-align: right;\n",
       "    }\n",
       "</style>\n",
       "<table border=\"1\" class=\"dataframe\">\n",
       "  <thead>\n",
       "    <tr style=\"text-align: right;\">\n",
       "      <th></th>\n",
       "      <th>title</th>\n",
       "      <th>authors</th>\n",
       "      <th>average_rating</th>\n",
       "      <th>isbn</th>\n",
       "      <th>isbn13</th>\n",
       "      <th>language_code</th>\n",
       "      <th>num_pages</th>\n",
       "      <th>ratings_count</th>\n",
       "      <th>text_reviews_count</th>\n",
       "      <th>publication_date</th>\n",
       "      <th>publisher</th>\n",
       "      <th>occurence_count</th>\n",
       "      <th>occ_weighted</th>\n",
       "      <th>rating_count_weighted</th>\n",
       "      <th>text_review_count_weighted</th>\n",
       "      <th>page_weighted</th>\n",
       "    </tr>\n",
       "    <tr>\n",
       "      <th>bookID</th>\n",
       "      <th></th>\n",
       "      <th></th>\n",
       "      <th></th>\n",
       "      <th></th>\n",
       "      <th></th>\n",
       "      <th></th>\n",
       "      <th></th>\n",
       "      <th></th>\n",
       "      <th></th>\n",
       "      <th></th>\n",
       "      <th></th>\n",
       "      <th></th>\n",
       "      <th></th>\n",
       "      <th></th>\n",
       "      <th></th>\n",
       "      <th></th>\n",
       "    </tr>\n",
       "  </thead>\n",
       "  <tbody>\n",
       "    <tr>\n",
       "      <th>1</th>\n",
       "      <td>Harry Potter and the Half-Blood Prince (Harry ...</td>\n",
       "      <td>J.K. Rowling/Mary GrandPré</td>\n",
       "      <td>4.57</td>\n",
       "      <td>0439785960</td>\n",
       "      <td>9780439785969</td>\n",
       "      <td>0</td>\n",
       "      <td>652</td>\n",
       "      <td>2095690</td>\n",
       "      <td>27591</td>\n",
       "      <td>2006</td>\n",
       "      <td>Scholastic Inc.</td>\n",
       "      <td>2</td>\n",
       "      <td>9.14</td>\n",
       "      <td>9577303.30</td>\n",
       "      <td>126090.87</td>\n",
       "      <td>2979.64</td>\n",
       "    </tr>\n",
       "    <tr>\n",
       "      <th>2</th>\n",
       "      <td>Harry Potter and the Order of the Phoenix (Har...</td>\n",
       "      <td>J.K. Rowling/Mary GrandPré</td>\n",
       "      <td>4.49</td>\n",
       "      <td>0439358078</td>\n",
       "      <td>9780439358071</td>\n",
       "      <td>0</td>\n",
       "      <td>870</td>\n",
       "      <td>2153167</td>\n",
       "      <td>29221</td>\n",
       "      <td>2004</td>\n",
       "      <td>Scholastic Inc.</td>\n",
       "      <td>1</td>\n",
       "      <td>4.49</td>\n",
       "      <td>9667719.83</td>\n",
       "      <td>131202.29</td>\n",
       "      <td>3906.30</td>\n",
       "    </tr>\n",
       "    <tr>\n",
       "      <th>4</th>\n",
       "      <td>Harry Potter and the Chamber of Secrets (Harry...</td>\n",
       "      <td>J.K. Rowling</td>\n",
       "      <td>4.42</td>\n",
       "      <td>0439554896</td>\n",
       "      <td>9780439554893</td>\n",
       "      <td>0</td>\n",
       "      <td>352</td>\n",
       "      <td>6333</td>\n",
       "      <td>244</td>\n",
       "      <td>2003</td>\n",
       "      <td>Scholastic</td>\n",
       "      <td>2</td>\n",
       "      <td>8.84</td>\n",
       "      <td>27991.86</td>\n",
       "      <td>1078.48</td>\n",
       "      <td>1555.84</td>\n",
       "    </tr>\n",
       "    <tr>\n",
       "      <th>5</th>\n",
       "      <td>Harry Potter and the Prisoner of Azkaban (Harr...</td>\n",
       "      <td>J.K. Rowling/Mary GrandPré</td>\n",
       "      <td>4.56</td>\n",
       "      <td>043965548X</td>\n",
       "      <td>9780439655484</td>\n",
       "      <td>0</td>\n",
       "      <td>435</td>\n",
       "      <td>2339585</td>\n",
       "      <td>36325</td>\n",
       "      <td>2004</td>\n",
       "      <td>Scholastic Inc.</td>\n",
       "      <td>2</td>\n",
       "      <td>9.12</td>\n",
       "      <td>10668507.60</td>\n",
       "      <td>165642.00</td>\n",
       "      <td>1983.60</td>\n",
       "    </tr>\n",
       "    <tr>\n",
       "      <th>8</th>\n",
       "      <td>Harry Potter Boxed Set  Books 1-5 (Harry Potte...</td>\n",
       "      <td>J.K. Rowling/Mary GrandPré</td>\n",
       "      <td>4.78</td>\n",
       "      <td>0439682584</td>\n",
       "      <td>9780439682589</td>\n",
       "      <td>0</td>\n",
       "      <td>2690</td>\n",
       "      <td>41428</td>\n",
       "      <td>164</td>\n",
       "      <td>2004</td>\n",
       "      <td>Scholastic</td>\n",
       "      <td>1</td>\n",
       "      <td>4.78</td>\n",
       "      <td>198025.84</td>\n",
       "      <td>783.92</td>\n",
       "      <td>12858.20</td>\n",
       "    </tr>\n",
       "    <tr>\n",
       "      <th>...</th>\n",
       "      <td>...</td>\n",
       "      <td>...</td>\n",
       "      <td>...</td>\n",
       "      <td>...</td>\n",
       "      <td>...</td>\n",
       "      <td>...</td>\n",
       "      <td>...</td>\n",
       "      <td>...</td>\n",
       "      <td>...</td>\n",
       "      <td>...</td>\n",
       "      <td>...</td>\n",
       "      <td>...</td>\n",
       "      <td>...</td>\n",
       "      <td>...</td>\n",
       "      <td>...</td>\n",
       "      <td>...</td>\n",
       "    </tr>\n",
       "    <tr>\n",
       "      <th>45631</th>\n",
       "      <td>Expelled from Eden: A William T. Vollmann Reader</td>\n",
       "      <td>William T. Vollmann/Larry McCaffery/Michael He...</td>\n",
       "      <td>4.06</td>\n",
       "      <td>1560254416</td>\n",
       "      <td>9781560254416</td>\n",
       "      <td>0</td>\n",
       "      <td>512</td>\n",
       "      <td>156</td>\n",
       "      <td>20</td>\n",
       "      <td>2004</td>\n",
       "      <td>Da Capo Press</td>\n",
       "      <td>1</td>\n",
       "      <td>4.06</td>\n",
       "      <td>633.36</td>\n",
       "      <td>81.20</td>\n",
       "      <td>2078.72</td>\n",
       "    </tr>\n",
       "    <tr>\n",
       "      <th>45633</th>\n",
       "      <td>You Bright and Risen Angels</td>\n",
       "      <td>William T. Vollmann</td>\n",
       "      <td>4.08</td>\n",
       "      <td>0140110879</td>\n",
       "      <td>9780140110876</td>\n",
       "      <td>0</td>\n",
       "      <td>635</td>\n",
       "      <td>783</td>\n",
       "      <td>56</td>\n",
       "      <td>1988</td>\n",
       "      <td>Penguin Books</td>\n",
       "      <td>1</td>\n",
       "      <td>4.08</td>\n",
       "      <td>3194.64</td>\n",
       "      <td>228.48</td>\n",
       "      <td>2590.80</td>\n",
       "    </tr>\n",
       "    <tr>\n",
       "      <th>45634</th>\n",
       "      <td>The Ice-Shirt (Seven Dreams #1)</td>\n",
       "      <td>William T. Vollmann</td>\n",
       "      <td>3.96</td>\n",
       "      <td>0140131965</td>\n",
       "      <td>9780140131963</td>\n",
       "      <td>0</td>\n",
       "      <td>415</td>\n",
       "      <td>820</td>\n",
       "      <td>95</td>\n",
       "      <td>1993</td>\n",
       "      <td>Penguin Books</td>\n",
       "      <td>1</td>\n",
       "      <td>3.96</td>\n",
       "      <td>3247.20</td>\n",
       "      <td>376.20</td>\n",
       "      <td>1643.40</td>\n",
       "    </tr>\n",
       "    <tr>\n",
       "      <th>45639</th>\n",
       "      <td>Poor People</td>\n",
       "      <td>William T. Vollmann</td>\n",
       "      <td>3.72</td>\n",
       "      <td>0060878827</td>\n",
       "      <td>9780060878825</td>\n",
       "      <td>0</td>\n",
       "      <td>434</td>\n",
       "      <td>769</td>\n",
       "      <td>139</td>\n",
       "      <td>2007</td>\n",
       "      <td>Ecco</td>\n",
       "      <td>1</td>\n",
       "      <td>3.72</td>\n",
       "      <td>2860.68</td>\n",
       "      <td>517.08</td>\n",
       "      <td>1614.48</td>\n",
       "    </tr>\n",
       "    <tr>\n",
       "      <th>45641</th>\n",
       "      <td>Las aventuras de Tom Sawyer</td>\n",
       "      <td>Mark Twain</td>\n",
       "      <td>3.91</td>\n",
       "      <td>8497646983</td>\n",
       "      <td>9788497646987</td>\n",
       "      <td>2</td>\n",
       "      <td>272</td>\n",
       "      <td>113</td>\n",
       "      <td>12</td>\n",
       "      <td>2006</td>\n",
       "      <td>Edimat Libros</td>\n",
       "      <td>1</td>\n",
       "      <td>3.91</td>\n",
       "      <td>441.83</td>\n",
       "      <td>46.92</td>\n",
       "      <td>1063.52</td>\n",
       "    </tr>\n",
       "  </tbody>\n",
       "</table>\n",
       "<p>11042 rows × 16 columns</p>\n",
       "</div>"
      ],
      "text/plain": [
       "                                                    title  \\\n",
       "bookID                                                      \n",
       "1       Harry Potter and the Half-Blood Prince (Harry ...   \n",
       "2       Harry Potter and the Order of the Phoenix (Har...   \n",
       "4       Harry Potter and the Chamber of Secrets (Harry...   \n",
       "5       Harry Potter and the Prisoner of Azkaban (Harr...   \n",
       "8       Harry Potter Boxed Set  Books 1-5 (Harry Potte...   \n",
       "...                                                   ...   \n",
       "45631    Expelled from Eden: A William T. Vollmann Reader   \n",
       "45633                         You Bright and Risen Angels   \n",
       "45634                     The Ice-Shirt (Seven Dreams #1)   \n",
       "45639                                         Poor People   \n",
       "45641                         Las aventuras de Tom Sawyer   \n",
       "\n",
       "                                                  authors  average_rating  \\\n",
       "bookID                                                                      \n",
       "1                              J.K. Rowling/Mary GrandPré            4.57   \n",
       "2                              J.K. Rowling/Mary GrandPré            4.49   \n",
       "4                                            J.K. Rowling            4.42   \n",
       "5                              J.K. Rowling/Mary GrandPré            4.56   \n",
       "8                              J.K. Rowling/Mary GrandPré            4.78   \n",
       "...                                                   ...             ...   \n",
       "45631   William T. Vollmann/Larry McCaffery/Michael He...            4.06   \n",
       "45633                                 William T. Vollmann            4.08   \n",
       "45634                                 William T. Vollmann            3.96   \n",
       "45639                                 William T. Vollmann            3.72   \n",
       "45641                                          Mark Twain            3.91   \n",
       "\n",
       "              isbn         isbn13  language_code  num_pages  ratings_count  \\\n",
       "bookID                                                                       \n",
       "1       0439785960  9780439785969              0        652        2095690   \n",
       "2       0439358078  9780439358071              0        870        2153167   \n",
       "4       0439554896  9780439554893              0        352           6333   \n",
       "5       043965548X  9780439655484              0        435        2339585   \n",
       "8       0439682584  9780439682589              0       2690          41428   \n",
       "...            ...            ...            ...        ...            ...   \n",
       "45631   1560254416  9781560254416              0        512            156   \n",
       "45633   0140110879  9780140110876              0        635            783   \n",
       "45634   0140131965  9780140131963              0        415            820   \n",
       "45639   0060878827  9780060878825              0        434            769   \n",
       "45641   8497646983  9788497646987              2        272            113   \n",
       "\n",
       "        text_reviews_count  publication_date        publisher  \\\n",
       "bookID                                                          \n",
       "1                    27591              2006  Scholastic Inc.   \n",
       "2                    29221              2004  Scholastic Inc.   \n",
       "4                      244              2003       Scholastic   \n",
       "5                    36325              2004  Scholastic Inc.   \n",
       "8                      164              2004       Scholastic   \n",
       "...                    ...               ...              ...   \n",
       "45631                   20              2004    Da Capo Press   \n",
       "45633                   56              1988    Penguin Books   \n",
       "45634                   95              1993    Penguin Books   \n",
       "45639                  139              2007             Ecco   \n",
       "45641                   12              2006    Edimat Libros   \n",
       "\n",
       "        occurence_count  occ_weighted  rating_count_weighted  \\\n",
       "bookID                                                         \n",
       "1                     2          9.14             9577303.30   \n",
       "2                     1          4.49             9667719.83   \n",
       "4                     2          8.84               27991.86   \n",
       "5                     2          9.12            10668507.60   \n",
       "8                     1          4.78              198025.84   \n",
       "...                 ...           ...                    ...   \n",
       "45631                 1          4.06                 633.36   \n",
       "45633                 1          4.08                3194.64   \n",
       "45634                 1          3.96                3247.20   \n",
       "45639                 1          3.72                2860.68   \n",
       "45641                 1          3.91                 441.83   \n",
       "\n",
       "        text_review_count_weighted  page_weighted  \n",
       "bookID                                             \n",
       "1                        126090.87        2979.64  \n",
       "2                        131202.29        3906.30  \n",
       "4                          1078.48        1555.84  \n",
       "5                        165642.00        1983.60  \n",
       "8                           783.92       12858.20  \n",
       "...                            ...            ...  \n",
       "45631                        81.20        2078.72  \n",
       "45633                       228.48        2590.80  \n",
       "45634                       376.20        1643.40  \n",
       "45639                       517.08        1614.48  \n",
       "45641                        46.92        1063.52  \n",
       "\n",
       "[11042 rows x 16 columns]"
      ]
     },
     "execution_count": 56,
     "metadata": {},
     "output_type": "execute_result"
    }
   ],
   "source": [
    "df2"
   ]
  },
  {
   "cell_type": "markdown",
   "id": "7003bd8c",
   "metadata": {},
   "source": [
    "After dropping non-numeric columns, the dataframe is ready to be fitted into the models again."
   ]
  },
  {
   "cell_type": "code",
   "execution_count": 57,
   "id": "10924882",
   "metadata": {},
   "outputs": [],
   "source": [
    "df2_processed = df2.drop(columns=[\"title\", \"authors\", \"isbn\", \"isbn13\", \"publisher\"])"
   ]
  },
  {
   "cell_type": "code",
   "execution_count": 58,
   "id": "2b4da36c",
   "metadata": {},
   "outputs": [
    {
     "data": {
      "application/vnd.microsoft.datawrangler.viewer.v0+json": {
       "columns": [
        {
         "name": "bookID",
         "rawType": "int64",
         "type": "integer"
        },
        {
         "name": "average_rating",
         "rawType": "float64",
         "type": "float"
        },
        {
         "name": "language_code",
         "rawType": "int64",
         "type": "integer"
        },
        {
         "name": "num_pages",
         "rawType": "int64",
         "type": "integer"
        },
        {
         "name": "ratings_count",
         "rawType": "int64",
         "type": "integer"
        },
        {
         "name": "text_reviews_count",
         "rawType": "int64",
         "type": "integer"
        },
        {
         "name": "publication_date",
         "rawType": "int32",
         "type": "integer"
        },
        {
         "name": "occurence_count",
         "rawType": "int64",
         "type": "integer"
        },
        {
         "name": "occ_weighted",
         "rawType": "float64",
         "type": "float"
        },
        {
         "name": "rating_count_weighted",
         "rawType": "float64",
         "type": "float"
        },
        {
         "name": "text_review_count_weighted",
         "rawType": "float64",
         "type": "float"
        },
        {
         "name": "page_weighted",
         "rawType": "float64",
         "type": "float"
        }
       ],
       "ref": "d2ae6396-7065-45b1-87cd-b128c4f3c2f2",
       "rows": [
        [
         "1",
         "4.57",
         "0",
         "652",
         "2095690",
         "27591",
         "2006",
         "2",
         "9.14",
         "9577303.3",
         "126090.87000000001",
         "2979.6400000000003"
        ],
        [
         "2",
         "4.49",
         "0",
         "870",
         "2153167",
         "29221",
         "2004",
         "1",
         "4.49",
         "9667719.83",
         "131202.29",
         "3906.3"
        ],
        [
         "4",
         "4.42",
         "0",
         "352",
         "6333",
         "244",
         "2003",
         "2",
         "8.84",
         "27991.86",
         "1078.48",
         "1555.84"
        ],
        [
         "5",
         "4.56",
         "0",
         "435",
         "2339585",
         "36325",
         "2004",
         "2",
         "9.12",
         "10668507.6",
         "165642.0",
         "1983.6"
        ],
        [
         "8",
         "4.78",
         "0",
         "2690",
         "41428",
         "164",
         "2004",
         "1",
         "4.78",
         "198025.84",
         "783.9200000000001",
         "12858.2"
        ],
        [
         "9",
         "3.74",
         "0",
         "152",
         "19",
         "1",
         "2005",
         "1",
         "3.74",
         "71.06",
         "3.74",
         "568.48"
        ],
        [
         "10",
         "4.73",
         "0",
         "3342",
         "28242",
         "808",
         "2005",
         "1",
         "4.73",
         "133584.66",
         "3821.84",
         "15807.660000000002"
        ],
        [
         "12",
         "4.38",
         "0",
         "815",
         "3628",
         "254",
         "2005",
         "1",
         "4.38",
         "15890.64",
         "1112.52",
         "3569.7"
        ],
        [
         "13",
         "4.38",
         "0",
         "815",
         "249558",
         "4080",
         "2002",
         "1",
         "4.38",
         "1093064.04",
         "17870.399999999998",
         "3569.7"
        ],
        [
         "14",
         "4.22",
         "0",
         "215",
         "4930",
         "460",
         "2004",
         "4",
         "16.88",
         "20804.6",
         "1941.1999999999998",
         "907.3"
        ],
        [
         "16",
         "4.22",
         "0",
         "6",
         "1266",
         "253",
         "2005",
         "4",
         "16.88",
         "5342.5199999999995",
         "1067.6599999999999",
         "25.32"
        ],
        [
         "18",
         "4.38",
         "0",
         "815",
         "2877",
         "195",
         "1996",
         "1",
         "4.38",
         "12601.26",
         "854.1",
         "3569.7"
        ],
        [
         "21",
         "4.21",
         "0",
         "544",
         "248558",
         "9396",
         "2004",
         "2",
         "8.42",
         "1046429.1799999999",
         "39557.159999999996",
         "2290.24"
        ],
        [
         "22",
         "3.44",
         "0",
         "55",
         "7270",
         "499",
         "2002",
         "2",
         "6.88",
         "25008.8",
         "1716.56",
         "189.2"
        ],
        [
         "23",
         "3.87",
         "0",
         "256",
         "2088",
         "131",
         "2004",
         "1",
         "3.87",
         "8080.56",
         "506.97",
         "990.72"
        ],
        [
         "24",
         "4.07",
         "0",
         "335",
         "72451",
         "4245",
         "2001",
         "1",
         "4.07",
         "294875.57",
         "17277.15",
         "1363.45"
        ],
        [
         "25",
         "3.9",
         "0",
         "304",
         "49240",
         "2211",
         "2000",
         "1",
         "3.9",
         "192036.0",
         "8622.9",
         "1185.6"
        ],
        [
         "26",
         "3.83",
         "0",
         "299",
         "45712",
         "2257",
         "1990",
         "1",
         "3.83",
         "175076.96",
         "8644.31",
         "1145.17"
        ],
        [
         "27",
         "3.86",
         "0",
         "254",
         "48701",
         "2238",
         "1993",
         "1",
         "3.86",
         "187985.86",
         "8638.68",
         "980.4399999999999"
        ],
        [
         "28",
         "3.91",
         "0",
         "324",
         "80609",
         "3301",
         "1997",
         "1",
         "3.91",
         "315181.19",
         "12906.91",
         "1266.8400000000001"
        ],
        [
         "29",
         "3.93",
         "0",
         "270",
         "28489",
         "2085",
         "1991",
         "1",
         "3.93",
         "111961.77",
         "8194.050000000001",
         "1061.1000000000001"
        ],
        [
         "30",
         "4.59",
         "0",
         "1728",
         "101233",
         "1550",
         "2012",
         "1",
         "4.59",
         "464659.47",
         "7114.5",
         "7931.5199999999995"
        ],
        [
         "31",
         "4.5",
         "0",
         "1184",
         "1710",
         "91",
         "2004",
         "4",
         "18.0",
         "7695.0",
         "409.5",
         "5328.0"
        ],
        [
         "34",
         "4.36",
         "0",
         "398",
         "2128944",
         "13670",
         "2003",
         "2",
         "8.72",
         "9282195.84",
         "59601.200000000004",
         "1735.2800000000002"
        ],
        [
         "35",
         "4.5",
         "0",
         "1216",
         "1618",
         "140",
         "2002",
         "4",
         "18.0",
         "7281.0",
         "630.0",
         "5472.0"
        ],
        [
         "36",
         "4.53",
         "0",
         "218",
         "19822",
         "46",
         "2003",
         "1",
         "4.53",
         "89793.66",
         "208.38000000000002",
         "987.5400000000001"
        ],
        [
         "37",
         "4.5",
         "0",
         "224",
         "359",
         "6",
         "2004",
         "1",
         "4.5",
         "1615.5",
         "27.0",
         "1008.0"
        ],
        [
         "45",
         "3.84",
         "0",
         "558",
         "1430",
         "59",
         "2005",
         "1",
         "3.84",
         "5491.2",
         "226.56",
         "2142.72"
        ],
        [
         "50",
         "3.72",
         "0",
         "208",
         "270244",
         "12017",
         "2000",
         "1",
         "3.72",
         "1005307.68",
         "44703.240000000005",
         "773.76"
        ],
        [
         "51",
         "4.0",
         "0",
         "48",
         "36",
         "2",
         "1994",
         "1",
         "4.0",
         "144.0",
         "8.0",
         "192.0"
        ],
        [
         "53",
         "3.88",
         "0",
         "144",
         "2067",
         "334",
         "2001",
         "1",
         "3.88",
         "8019.96",
         "1295.92",
         "558.72"
        ],
        [
         "54",
         "4.33",
         "0",
         "56",
         "6",
         "0",
         "2003",
         "1",
         "4.33",
         "25.98",
         "0.0",
         "242.48000000000002"
        ],
        [
         "55",
         "3.45",
         "0",
         "228",
         "99",
         "16",
         "2005",
         "1",
         "3.45",
         "341.55",
         "55.2",
         "786.6"
        ],
        [
         "57",
         "3.76",
         "0",
         "304",
         "167",
         "4",
         "2005",
         "1",
         "3.76",
         "627.92",
         "15.04",
         "1143.04"
        ],
        [
         "58",
         "3.6",
         "0",
         "256",
         "978",
         "111",
         "2006",
         "1",
         "3.6",
         "3520.8",
         "399.6",
         "921.6"
        ],
        [
         "59",
         "4.06",
         "0",
         "137",
         "4454",
         "302",
         "2003",
         "1",
         "4.06",
         "18083.239999999998",
         "1226.12",
         "556.2199999999999"
        ],
        [
         "61",
         "4.17",
         "0",
         "228",
         "1176",
         "96",
         "2004",
         "2",
         "8.34",
         "4903.92",
         "400.32",
         "950.76"
        ],
        [
         "63",
         "3.55",
         "0",
         "339",
         "301",
         "43",
         "2005",
         "2",
         "7.1",
         "1068.55",
         "152.65",
         "1203.45"
        ],
        [
         "66",
         "3.98",
         "0",
         "369",
         "345",
         "12",
         "1990",
         "1",
         "3.98",
         "1373.1",
         "47.76",
         "1468.62"
        ],
        [
         "67",
         "3.83",
         "0",
         "388",
         "29686",
         "2626",
         "2006",
         "4",
         "15.32",
         "113697.38",
         "10057.58",
         "1486.04"
        ],
        [
         "68",
         "3.83",
         "0",
         "14",
         "55",
         "12",
         "2004",
         "4",
         "15.32",
         "210.65",
         "45.96",
         "53.620000000000005"
        ],
        [
         "69",
         "3.83",
         "0",
         "576",
         "22",
         "3",
         "2004",
         "4",
         "15.32",
         "84.26",
         "11.49",
         "2206.08"
        ],
        [
         "71",
         "3.83",
         "0",
         "334",
         "1456",
         "82",
         "2006",
         "1",
         "3.83",
         "5576.4800000000005",
         "314.06",
         "1279.22"
        ],
        [
         "72",
         "4.13",
         "0",
         "352",
         "52",
         "4",
         "2005",
         "1",
         "4.13",
         "214.76",
         "16.52",
         "1453.76"
        ],
        [
         "74",
         "4.42",
         "0",
         "416",
         "562",
         "37",
         "1982",
         "1",
         "4.42",
         "2484.04",
         "163.54",
         "1838.72"
        ],
        [
         "75",
         "3.95",
         "0",
         "248",
         "1630",
         "203",
         "2006",
         "1",
         "3.95",
         "6438.5",
         "801.85",
         "979.6"
        ],
        [
         "76",
         "4.17",
         "0",
         "128",
         "268",
         "22",
         "1986",
         "1",
         "4.17",
         "1117.56",
         "91.74",
         "533.76"
        ],
        [
         "77",
         "4.24",
         "0",
         "288",
         "3498",
         "305",
         "1990",
         "1",
         "4.24",
         "14831.52",
         "1293.2",
         "1221.1200000000001"
        ],
        [
         "78",
         "4.34",
         "0",
         "720",
         "3115",
         "228",
         "1999",
         "1",
         "4.34",
         "13519.1",
         "989.52",
         "3124.7999999999997"
        ],
        [
         "79",
         "4.22",
         "0",
         "448",
         "5704",
         "261",
         "1991",
         "1",
         "4.22",
         "24070.879999999997",
         "1101.4199999999998",
         "1890.56"
        ]
       ],
       "shape": {
        "columns": 11,
        "rows": 11042
       }
      },
      "text/html": [
       "<div>\n",
       "<style scoped>\n",
       "    .dataframe tbody tr th:only-of-type {\n",
       "        vertical-align: middle;\n",
       "    }\n",
       "\n",
       "    .dataframe tbody tr th {\n",
       "        vertical-align: top;\n",
       "    }\n",
       "\n",
       "    .dataframe thead th {\n",
       "        text-align: right;\n",
       "    }\n",
       "</style>\n",
       "<table border=\"1\" class=\"dataframe\">\n",
       "  <thead>\n",
       "    <tr style=\"text-align: right;\">\n",
       "      <th></th>\n",
       "      <th>average_rating</th>\n",
       "      <th>language_code</th>\n",
       "      <th>num_pages</th>\n",
       "      <th>ratings_count</th>\n",
       "      <th>text_reviews_count</th>\n",
       "      <th>publication_date</th>\n",
       "      <th>occurence_count</th>\n",
       "      <th>occ_weighted</th>\n",
       "      <th>rating_count_weighted</th>\n",
       "      <th>text_review_count_weighted</th>\n",
       "      <th>page_weighted</th>\n",
       "    </tr>\n",
       "    <tr>\n",
       "      <th>bookID</th>\n",
       "      <th></th>\n",
       "      <th></th>\n",
       "      <th></th>\n",
       "      <th></th>\n",
       "      <th></th>\n",
       "      <th></th>\n",
       "      <th></th>\n",
       "      <th></th>\n",
       "      <th></th>\n",
       "      <th></th>\n",
       "      <th></th>\n",
       "    </tr>\n",
       "  </thead>\n",
       "  <tbody>\n",
       "    <tr>\n",
       "      <th>1</th>\n",
       "      <td>4.57</td>\n",
       "      <td>0</td>\n",
       "      <td>652</td>\n",
       "      <td>2095690</td>\n",
       "      <td>27591</td>\n",
       "      <td>2006</td>\n",
       "      <td>2</td>\n",
       "      <td>9.14</td>\n",
       "      <td>9577303.30</td>\n",
       "      <td>126090.87</td>\n",
       "      <td>2979.64</td>\n",
       "    </tr>\n",
       "    <tr>\n",
       "      <th>2</th>\n",
       "      <td>4.49</td>\n",
       "      <td>0</td>\n",
       "      <td>870</td>\n",
       "      <td>2153167</td>\n",
       "      <td>29221</td>\n",
       "      <td>2004</td>\n",
       "      <td>1</td>\n",
       "      <td>4.49</td>\n",
       "      <td>9667719.83</td>\n",
       "      <td>131202.29</td>\n",
       "      <td>3906.30</td>\n",
       "    </tr>\n",
       "    <tr>\n",
       "      <th>4</th>\n",
       "      <td>4.42</td>\n",
       "      <td>0</td>\n",
       "      <td>352</td>\n",
       "      <td>6333</td>\n",
       "      <td>244</td>\n",
       "      <td>2003</td>\n",
       "      <td>2</td>\n",
       "      <td>8.84</td>\n",
       "      <td>27991.86</td>\n",
       "      <td>1078.48</td>\n",
       "      <td>1555.84</td>\n",
       "    </tr>\n",
       "    <tr>\n",
       "      <th>5</th>\n",
       "      <td>4.56</td>\n",
       "      <td>0</td>\n",
       "      <td>435</td>\n",
       "      <td>2339585</td>\n",
       "      <td>36325</td>\n",
       "      <td>2004</td>\n",
       "      <td>2</td>\n",
       "      <td>9.12</td>\n",
       "      <td>10668507.60</td>\n",
       "      <td>165642.00</td>\n",
       "      <td>1983.60</td>\n",
       "    </tr>\n",
       "    <tr>\n",
       "      <th>8</th>\n",
       "      <td>4.78</td>\n",
       "      <td>0</td>\n",
       "      <td>2690</td>\n",
       "      <td>41428</td>\n",
       "      <td>164</td>\n",
       "      <td>2004</td>\n",
       "      <td>1</td>\n",
       "      <td>4.78</td>\n",
       "      <td>198025.84</td>\n",
       "      <td>783.92</td>\n",
       "      <td>12858.20</td>\n",
       "    </tr>\n",
       "    <tr>\n",
       "      <th>...</th>\n",
       "      <td>...</td>\n",
       "      <td>...</td>\n",
       "      <td>...</td>\n",
       "      <td>...</td>\n",
       "      <td>...</td>\n",
       "      <td>...</td>\n",
       "      <td>...</td>\n",
       "      <td>...</td>\n",
       "      <td>...</td>\n",
       "      <td>...</td>\n",
       "      <td>...</td>\n",
       "    </tr>\n",
       "    <tr>\n",
       "      <th>45631</th>\n",
       "      <td>4.06</td>\n",
       "      <td>0</td>\n",
       "      <td>512</td>\n",
       "      <td>156</td>\n",
       "      <td>20</td>\n",
       "      <td>2004</td>\n",
       "      <td>1</td>\n",
       "      <td>4.06</td>\n",
       "      <td>633.36</td>\n",
       "      <td>81.20</td>\n",
       "      <td>2078.72</td>\n",
       "    </tr>\n",
       "    <tr>\n",
       "      <th>45633</th>\n",
       "      <td>4.08</td>\n",
       "      <td>0</td>\n",
       "      <td>635</td>\n",
       "      <td>783</td>\n",
       "      <td>56</td>\n",
       "      <td>1988</td>\n",
       "      <td>1</td>\n",
       "      <td>4.08</td>\n",
       "      <td>3194.64</td>\n",
       "      <td>228.48</td>\n",
       "      <td>2590.80</td>\n",
       "    </tr>\n",
       "    <tr>\n",
       "      <th>45634</th>\n",
       "      <td>3.96</td>\n",
       "      <td>0</td>\n",
       "      <td>415</td>\n",
       "      <td>820</td>\n",
       "      <td>95</td>\n",
       "      <td>1993</td>\n",
       "      <td>1</td>\n",
       "      <td>3.96</td>\n",
       "      <td>3247.20</td>\n",
       "      <td>376.20</td>\n",
       "      <td>1643.40</td>\n",
       "    </tr>\n",
       "    <tr>\n",
       "      <th>45639</th>\n",
       "      <td>3.72</td>\n",
       "      <td>0</td>\n",
       "      <td>434</td>\n",
       "      <td>769</td>\n",
       "      <td>139</td>\n",
       "      <td>2007</td>\n",
       "      <td>1</td>\n",
       "      <td>3.72</td>\n",
       "      <td>2860.68</td>\n",
       "      <td>517.08</td>\n",
       "      <td>1614.48</td>\n",
       "    </tr>\n",
       "    <tr>\n",
       "      <th>45641</th>\n",
       "      <td>3.91</td>\n",
       "      <td>2</td>\n",
       "      <td>272</td>\n",
       "      <td>113</td>\n",
       "      <td>12</td>\n",
       "      <td>2006</td>\n",
       "      <td>1</td>\n",
       "      <td>3.91</td>\n",
       "      <td>441.83</td>\n",
       "      <td>46.92</td>\n",
       "      <td>1063.52</td>\n",
       "    </tr>\n",
       "  </tbody>\n",
       "</table>\n",
       "<p>11042 rows × 11 columns</p>\n",
       "</div>"
      ],
      "text/plain": [
       "        average_rating  language_code  num_pages  ratings_count  \\\n",
       "bookID                                                            \n",
       "1                 4.57              0        652        2095690   \n",
       "2                 4.49              0        870        2153167   \n",
       "4                 4.42              0        352           6333   \n",
       "5                 4.56              0        435        2339585   \n",
       "8                 4.78              0       2690          41428   \n",
       "...                ...            ...        ...            ...   \n",
       "45631             4.06              0        512            156   \n",
       "45633             4.08              0        635            783   \n",
       "45634             3.96              0        415            820   \n",
       "45639             3.72              0        434            769   \n",
       "45641             3.91              2        272            113   \n",
       "\n",
       "        text_reviews_count  publication_date  occurence_count  occ_weighted  \\\n",
       "bookID                                                                        \n",
       "1                    27591              2006                2          9.14   \n",
       "2                    29221              2004                1          4.49   \n",
       "4                      244              2003                2          8.84   \n",
       "5                    36325              2004                2          9.12   \n",
       "8                      164              2004                1          4.78   \n",
       "...                    ...               ...              ...           ...   \n",
       "45631                   20              2004                1          4.06   \n",
       "45633                   56              1988                1          4.08   \n",
       "45634                   95              1993                1          3.96   \n",
       "45639                  139              2007                1          3.72   \n",
       "45641                   12              2006                1          3.91   \n",
       "\n",
       "        rating_count_weighted  text_review_count_weighted  page_weighted  \n",
       "bookID                                                                    \n",
       "1                  9577303.30                   126090.87        2979.64  \n",
       "2                  9667719.83                   131202.29        3906.30  \n",
       "4                    27991.86                     1078.48        1555.84  \n",
       "5                 10668507.60                   165642.00        1983.60  \n",
       "8                   198025.84                      783.92       12858.20  \n",
       "...                       ...                         ...            ...  \n",
       "45631                  633.36                       81.20        2078.72  \n",
       "45633                 3194.64                      228.48        2590.80  \n",
       "45634                 3247.20                      376.20        1643.40  \n",
       "45639                 2860.68                      517.08        1614.48  \n",
       "45641                  441.83                       46.92        1063.52  \n",
       "\n",
       "[11042 rows x 11 columns]"
      ]
     },
     "execution_count": 58,
     "metadata": {},
     "output_type": "execute_result"
    }
   ],
   "source": [
    "df2_processed"
   ]
  },
  {
   "cell_type": "code",
   "execution_count": 59,
   "id": "e629b32e",
   "metadata": {},
   "outputs": [
    {
     "data": {
      "image/png": "[encoded data removed]",
      "text/plain": [
       "<Figure size 1000x800 with 2 Axes>"
      ]
     },
     "metadata": {},
     "output_type": "display_data"
    }
   ],
   "source": [
    "plt.figure(figsize=(10,8))\n",
    "sns.heatmap(df2_processed.corr(), annot=True, cmap=\"coolwarm\", fmt=\".2f\")\n",
    "plt.show()"
   ]
  },
  {
   "cell_type": "code",
   "execution_count": 60,
   "id": "3ce072a7",
   "metadata": {},
   "outputs": [],
   "source": [
    "df2_train, df2_test = train_test_split(df2_processed, test_size=0.20, random_state=42)\n",
    "\n",
    "X_train2 = df2_train.drop(\"average_rating\", axis=1)\n",
    "y_train2 = df2_train[\"average_rating\"]\n",
    "\n",
    "X_test2 = df2_test.drop(\"average_rating\", axis=1)\n",
    "y_test2 = df2_test[\"average_rating\"]"
   ]
  },
  {
   "cell_type": "code",
   "execution_count": 61,
   "id": "e409223e",
   "metadata": {},
   "outputs": [
    {
     "name": "stdout",
     "output_type": "stream",
     "text": [
      "11042\n",
      "8833\n",
      "2209\n"
     ]
    }
   ],
   "source": [
    "print(len(df2_processed))\n",
    "print(len(X_train2))\n",
    "print(len(X_test2))"
   ]
  },
  {
   "cell_type": "code",
   "execution_count": 62,
   "id": "5e38abb5",
   "metadata": {},
   "outputs": [],
   "source": [
    "results2 = {}\n",
    "mean_sq_error2 = {}\n",
    "\n",
    "for name, model in models.items():\n",
    "    model.fit(X_train2, y_train2)\n",
    "    y_predicted = np.round(model.predict(X_test2),2)\n",
    "    score = r2_score(y_test2, y_predicted)\n",
    "    error = np.sqrt(mean_squared_error(y_test2, y_predicted))\n",
    "    results2[name] = score\n",
    "    mean_sq_error2[name] = error"
   ]
  },
  {
   "cell_type": "code",
   "execution_count": 63,
   "id": "821c1475",
   "metadata": {},
   "outputs": [
    {
     "name": "stdout",
     "output_type": "stream",
     "text": [
      "dict_values([0.8147444153821022, 0.9940385883286225, 0.994373696209495, 0.993304644786113, 0.6050417083950768])\n",
      "dict_values([np.float64(0.15305002333345824), np.float64(0.027455054014627795), np.float64(0.02667223044417847), np.float64(0.029096085026598627), np.float64(0.2234721274812092)])\n"
     ]
    }
   ],
   "source": [
    "print(results2.values())\n",
    "print(mean_sq_error2.values())"
   ]
  },
  {
   "cell_type": "code",
   "execution_count": 64,
   "id": "665f5730",
   "metadata": {},
   "outputs": [
    {
     "name": "stderr",
     "output_type": "stream",
     "text": [
      "C:\\Users\\Kaan\\AppData\\Local\\Temp\\ipykernel_27416\\1802304089.py:2: FutureWarning: \n",
      "\n",
      "Passing `palette` without assigning `hue` is deprecated and will be removed in v0.14.0. Assign the `y` variable to `hue` and set `legend=False` for the same effect.\n",
      "\n",
      "  sns.barplot(x=list(results2.values()), y=list(results2.keys()), palette='viridis')\n"
     ]
    },
    {
     "data": {
      "image/png": "[encoded data removed]",
      "text/plain": [
       "<Figure size 1000x600 with 1 Axes>"
      ]
     },
     "metadata": {},
     "output_type": "display_data"
    }
   ],
   "source": [
    "plt.figure(figsize=(10, 6))\n",
    "sns.barplot(x=list(results2.values()), y=list(results2.keys()), palette='viridis')\n",
    "plt.xlabel('R2 Score')\n",
    "plt.title('Regressor Model Accuracy (R2 Score) - Revised')\n",
    "plt.xlim(0, 1)\n",
    "plt.show()"
   ]
  },
  {
   "cell_type": "markdown",
   "id": "20587591",
   "metadata": {},
   "source": [
    "### 6. Conclusion"
   ]
  },
  {
   "cell_type": "markdown",
   "id": "9fcf55fd",
   "metadata": {},
   "source": [
    "As can be seen from the above plot, models performed significantly better after the addition of the new features, with three of our five models performing in the 99.33 - 99.45 range. Furthermore, the RandomForestRegressor model performed the best in this iteration with an R2 score of 99.44% (when rounded to two decimals). Therefore, we select it for our main model to be used in the final application. Finally, below we run the prediction again but this time seperately for the RandomForestRegressor model."
   ]
  },
  {
   "cell_type": "code",
   "execution_count": 65,
   "id": "ea04c535",
   "metadata": {},
   "outputs": [
    {
     "data": {
      "text/html": [
       "<style>#sk-container-id-1 {\n",
       "  /* Definition of color scheme common for light and dark mode */\n",
       "  --sklearn-color-text: #000;\n",
       "  --sklearn-color-text-muted: #666;\n",
       "  --sklearn-color-line: gray;\n",
       "  /* Definition of color scheme for unfitted estimators */\n",
       "  --sklearn-color-unfitted-level-0: #fff5e6;\n",
       "  --sklearn-color-unfitted-level-1: #f6e4d2;\n",
       "  --sklearn-color-unfitted-level-2: #ffe0b3;\n",
       "  --sklearn-color-unfitted-level-3: chocolate;\n",
       "  /* Definition of color scheme for fitted estimators */\n",
       "  --sklearn-color-fitted-level-0: #f0f8ff;\n",
       "  --sklearn-color-fitted-level-1: #d4ebff;\n",
       "  --sklearn-color-fitted-level-2: #b3dbfd;\n",
       "  --sklearn-color-fitted-level-3: cornflowerblue;\n",
       "\n",
       "  /* Specific color for light theme */\n",
       "  --sklearn-color-text-on-default-background: var(--sg-text-color, var(--theme-code-foreground, var(--jp-content-font-color1, black)));\n",
       "  --sklearn-color-background: var(--sg-background-color, var(--theme-background, var(--jp-layout-color0, white)));\n",
       "  --sklearn-color-border-box: var(--sg-text-color, var(--theme-code-foreground, var(--jp-content-font-color1, black)));\n",
       "  --sklearn-color-icon: #696969;\n",
       "\n",
       "  @media (prefers-color-scheme: dark) {\n",
       "    /* Redefinition of color scheme for dark theme */\n",
       "    --sklearn-color-text-on-default-background: var(--sg-text-color, var(--theme-code-foreground, var(--jp-content-font-color1, white)));\n",
       "    --sklearn-color-background: var(--sg-background-color, var(--theme-background, var(--jp-layout-color0, #111)));\n",
       "    --sklearn-color-border-box: var(--sg-text-color, var(--theme-code-foreground, var(--jp-content-font-color1, white)));\n",
       "    --sklearn-color-icon: #878787;\n",
       "  }\n",
       "}\n",
       "\n",
       "#sk-container-id-1 {\n",
       "  color: var(--sklearn-color-text);\n",
       "}\n",
       "\n",
       "#sk-container-id-1 pre {\n",
       "  padding: 0;\n",
       "}\n",
       "\n",
       "#sk-container-id-1 input.sk-hidden--visually {\n",
       "  border: 0;\n",
       "  clip: rect(1px 1px 1px 1px);\n",
       "  clip: rect(1px, 1px, 1px, 1px);\n",
       "  height: 1px;\n",
       "  margin: -1px;\n",
       "  overflow: hidden;\n",
       "  padding: 0;\n",
       "  position: absolute;\n",
       "  width: 1px;\n",
       "}\n",
       "\n",
       "#sk-container-id-1 div.sk-dashed-wrapped {\n",
       "  border: 1px dashed var(--sklearn-color-line);\n",
       "  margin: 0 0.4em 0.5em 0.4em;\n",
       "  box-sizing: border-box;\n",
       "  padding-bottom: 0.4em;\n",
       "  background-color: var(--sklearn-color-background);\n",
       "}\n",
       "\n",
       "#sk-container-id-1 div.sk-container {\n",
       "  /* jupyter's `normalize.less` sets `[hidden] { display: none; }`\n",
       "     but bootstrap.min.css set `[hidden] { display: none !important; }`\n",
       "     so we also need the `!important` here to be able to override the\n",
       "     default hidden behavior on the sphinx rendered scikit-learn.org.\n",
       "     See: https://github.com/scikit-learn/scikit-learn/issues/21755 */\n",
       "  display: inline-block !important;\n",
       "  position: relative;\n",
       "}\n",
       "\n",
       "#sk-container-id-1 div.sk-text-repr-fallback {\n",
       "  display: none;\n",
       "}\n",
       "\n",
       "div.sk-parallel-item,\n",
       "div.sk-serial,\n",
       "div.sk-item {\n",
       "  /* draw centered vertical line to link estimators */\n",
       "  background-image: linear-gradient(var(--sklearn-color-text-on-default-background), var(--sklearn-color-text-on-default-background));\n",
       "  background-size: 2px 100%;\n",
       "  background-repeat: no-repeat;\n",
       "  background-position: center center;\n",
       "}\n",
       "\n",
       "/* Parallel-specific style estimator block */\n",
       "\n",
       "#sk-container-id-1 div.sk-parallel-item::after {\n",
       "  content: \"\";\n",
       "  width: 100%;\n",
       "  border-bottom: 2px solid var(--sklearn-color-text-on-default-background);\n",
       "  flex-grow: 1;\n",
       "}\n",
       "\n",
       "#sk-container-id-1 div.sk-parallel {\n",
       "  display: flex;\n",
       "  align-items: stretch;\n",
       "  justify-content: center;\n",
       "  background-color: var(--sklearn-color-background);\n",
       "  position: relative;\n",
       "}\n",
       "\n",
       "#sk-container-id-1 div.sk-parallel-item {\n",
       "  display: flex;\n",
       "  flex-direction: column;\n",
       "}\n",
       "\n",
       "#sk-container-id-1 div.sk-parallel-item:first-child::after {\n",
       "  align-self: flex-end;\n",
       "  width: 50%;\n",
       "}\n",
       "\n",
       "#sk-container-id-1 div.sk-parallel-item:last-child::after {\n",
       "  align-self: flex-start;\n",
       "  width: 50%;\n",
       "}\n",
       "\n",
       "#sk-container-id-1 div.sk-parallel-item:only-child::after {\n",
       "  width: 0;\n",
       "}\n",
       "\n",
       "/* Serial-specific style estimator block */\n",
       "\n",
       "#sk-container-id-1 div.sk-serial {\n",
       "  display: flex;\n",
       "  flex-direction: column;\n",
       "  align-items: center;\n",
       "  background-color: var(--sklearn-color-background);\n",
       "  padding-right: 1em;\n",
       "  padding-left: 1em;\n",
       "}\n",
       "\n",
       "\n",
       "/* Toggleable style: style used for estimator/Pipeline/ColumnTransformer box that is\n",
       "clickable and can be expanded/collapsed.\n",
       "- Pipeline and ColumnTransformer use this feature and define the default style\n",
       "- Estimators will overwrite some part of the style using the `sk-estimator` class\n",
       "*/\n",
       "\n",
       "/* Pipeline and ColumnTransformer style (default) */\n",
       "\n",
       "#sk-container-id-1 div.sk-toggleable {\n",
       "  /* Default theme specific background. It is overwritten whether we have a\n",
       "  specific estimator or a Pipeline/ColumnTransformer */\n",
       "  background-color: var(--sklearn-color-background);\n",
       "}\n",
       "\n",
       "/* Toggleable label */\n",
       "#sk-container-id-1 label.sk-toggleable__label {\n",
       "  cursor: pointer;\n",
       "  display: flex;\n",
       "  width: 100%;\n",
       "  margin-bottom: 0;\n",
       "  padding: 0.5em;\n",
       "  box-sizing: border-box;\n",
       "  text-align: center;\n",
       "  align-items: start;\n",
       "  justify-content: space-between;\n",
       "  gap: 0.5em;\n",
       "}\n",
       "\n",
       "#sk-container-id-1 label.sk-toggleable__label .caption {\n",
       "  font-size: 0.6rem;\n",
       "  font-weight: lighter;\n",
       "  color: var(--sklearn-color-text-muted);\n",
       "}\n",
       "\n",
       "#sk-container-id-1 label.sk-toggleable__label-arrow:before {\n",
       "  /* Arrow on the left of the label */\n",
       "  content: \"▸\";\n",
       "  float: left;\n",
       "  margin-right: 0.25em;\n",
       "  color: var(--sklearn-color-icon);\n",
       "}\n",
       "\n",
       "#sk-container-id-1 label.sk-toggleable__label-arrow:hover:before {\n",
       "  color: var(--sklearn-color-text);\n",
       "}\n",
       "\n",
       "/* Toggleable content - dropdown */\n",
       "\n",
       "#sk-container-id-1 div.sk-toggleable__content {\n",
       "  max-height: 0;\n",
       "  max-width: 0;\n",
       "  overflow: hidden;\n",
       "  text-align: left;\n",
       "  /* unfitted */\n",
       "  background-color: var(--sklearn-color-unfitted-level-0);\n",
       "}\n",
       "\n",
       "#sk-container-id-1 div.sk-toggleable__content.fitted {\n",
       "  /* fitted */\n",
       "  background-color: var(--sklearn-color-fitted-level-0);\n",
       "}\n",
       "\n",
       "#sk-container-id-1 div.sk-toggleable__content pre {\n",
       "  margin: 0.2em;\n",
       "  border-radius: 0.25em;\n",
       "  color: var(--sklearn-color-text);\n",
       "  /* unfitted */\n",
       "  background-color: var(--sklearn-color-unfitted-level-0);\n",
       "}\n",
       "\n",
       "#sk-container-id-1 div.sk-toggleable__content.fitted pre {\n",
       "  /* unfitted */\n",
       "  background-color: var(--sklearn-color-fitted-level-0);\n",
       "}\n",
       "\n",
       "#sk-container-id-1 input.sk-toggleable__control:checked~div.sk-toggleable__content {\n",
       "  /* Expand drop-down */\n",
       "  max-height: 200px;\n",
       "  max-width: 100%;\n",
       "  overflow: auto;\n",
       "}\n",
       "\n",
       "#sk-container-id-1 input.sk-toggleable__control:checked~label.sk-toggleable__label-arrow:before {\n",
       "  content: \"▾\";\n",
       "}\n",
       "\n",
       "/* Pipeline/ColumnTransformer-specific style */\n",
       "\n",
       "#sk-container-id-1 div.sk-label input.sk-toggleable__control:checked~label.sk-toggleable__label {\n",
       "  color: var(--sklearn-color-text);\n",
       "  background-color: var(--sklearn-color-unfitted-level-2);\n",
       "}\n",
       "\n",
       "#sk-container-id-1 div.sk-label.fitted input.sk-toggleable__control:checked~label.sk-toggleable__label {\n",
       "  background-color: var(--sklearn-color-fitted-level-2);\n",
       "}\n",
       "\n",
       "/* Estimator-specific style */\n",
       "\n",
       "/* Colorize estimator box */\n",
       "#sk-container-id-1 div.sk-estimator input.sk-toggleable__control:checked~label.sk-toggleable__label {\n",
       "  /* unfitted */\n",
       "  background-color: var(--sklearn-color-unfitted-level-2);\n",
       "}\n",
       "\n",
       "#sk-container-id-1 div.sk-estimator.fitted input.sk-toggleable__control:checked~label.sk-toggleable__label {\n",
       "  /* fitted */\n",
       "  background-color: var(--sklearn-color-fitted-level-2);\n",
       "}\n",
       "\n",
       "#sk-container-id-1 div.sk-label label.sk-toggleable__label,\n",
       "#sk-container-id-1 div.sk-label label {\n",
       "  /* The background is the default theme color */\n",
       "  color: var(--sklearn-color-text-on-default-background);\n",
       "}\n",
       "\n",
       "/* On hover, darken the color of the background */\n",
       "#sk-container-id-1 div.sk-label:hover label.sk-toggleable__label {\n",
       "  color: var(--sklearn-color-text);\n",
       "  background-color: var(--sklearn-color-unfitted-level-2);\n",
       "}\n",
       "\n",
       "/* Label box, darken color on hover, fitted */\n",
       "#sk-container-id-1 div.sk-label.fitted:hover label.sk-toggleable__label.fitted {\n",
       "  color: var(--sklearn-color-text);\n",
       "  background-color: var(--sklearn-color-fitted-level-2);\n",
       "}\n",
       "\n",
       "/* Estimator label */\n",
       "\n",
       "#sk-container-id-1 div.sk-label label {\n",
       "  font-family: monospace;\n",
       "  font-weight: bold;\n",
       "  display: inline-block;\n",
       "  line-height: 1.2em;\n",
       "}\n",
       "\n",
       "#sk-container-id-1 div.sk-label-container {\n",
       "  text-align: center;\n",
       "}\n",
       "\n",
       "/* Estimator-specific */\n",
       "#sk-container-id-1 div.sk-estimator {\n",
       "  font-family: monospace;\n",
       "  border: 1px dotted var(--sklearn-color-border-box);\n",
       "  border-radius: 0.25em;\n",
       "  box-sizing: border-box;\n",
       "  margin-bottom: 0.5em;\n",
       "  /* unfitted */\n",
       "  background-color: var(--sklearn-color-unfitted-level-0);\n",
       "}\n",
       "\n",
       "#sk-container-id-1 div.sk-estimator.fitted {\n",
       "  /* fitted */\n",
       "  background-color: var(--sklearn-color-fitted-level-0);\n",
       "}\n",
       "\n",
       "/* on hover */\n",
       "#sk-container-id-1 div.sk-estimator:hover {\n",
       "  /* unfitted */\n",
       "  background-color: var(--sklearn-color-unfitted-level-2);\n",
       "}\n",
       "\n",
       "#sk-container-id-1 div.sk-estimator.fitted:hover {\n",
       "  /* fitted */\n",
       "  background-color: var(--sklearn-color-fitted-level-2);\n",
       "}\n",
       "\n",
       "/* Specification for estimator info (e.g. \"i\" and \"?\") */\n",
       "\n",
       "/* Common style for \"i\" and \"?\" */\n",
       "\n",
       ".sk-estimator-doc-link,\n",
       "a:link.sk-estimator-doc-link,\n",
       "a:visited.sk-estimator-doc-link {\n",
       "  float: right;\n",
       "  font-size: smaller;\n",
       "  line-height: 1em;\n",
       "  font-family: monospace;\n",
       "  background-color: var(--sklearn-color-background);\n",
       "  border-radius: 1em;\n",
       "  height: 1em;\n",
       "  width: 1em;\n",
       "  text-decoration: none !important;\n",
       "  margin-left: 0.5em;\n",
       "  text-align: center;\n",
       "  /* unfitted */\n",
       "  border: var(--sklearn-color-unfitted-level-1) 1pt solid;\n",
       "  color: var(--sklearn-color-unfitted-level-1);\n",
       "}\n",
       "\n",
       ".sk-estimator-doc-link.fitted,\n",
       "a:link.sk-estimator-doc-link.fitted,\n",
       "a:visited.sk-estimator-doc-link.fitted {\n",
       "  /* fitted */\n",
       "  border: var(--sklearn-color-fitted-level-1) 1pt solid;\n",
       "  color: var(--sklearn-color-fitted-level-1);\n",
       "}\n",
       "\n",
       "/* On hover */\n",
       "div.sk-estimator:hover .sk-estimator-doc-link:hover,\n",
       ".sk-estimator-doc-link:hover,\n",
       "div.sk-label-container:hover .sk-estimator-doc-link:hover,\n",
       ".sk-estimator-doc-link:hover {\n",
       "  /* unfitted */\n",
       "  background-color: var(--sklearn-color-unfitted-level-3);\n",
       "  color: var(--sklearn-color-background);\n",
       "  text-decoration: none;\n",
       "}\n",
       "\n",
       "div.sk-estimator.fitted:hover .sk-estimator-doc-link.fitted:hover,\n",
       ".sk-estimator-doc-link.fitted:hover,\n",
       "div.sk-label-container:hover .sk-estimator-doc-link.fitted:hover,\n",
       ".sk-estimator-doc-link.fitted:hover {\n",
       "  /* fitted */\n",
       "  background-color: var(--sklearn-color-fitted-level-3);\n",
       "  color: var(--sklearn-color-background);\n",
       "  text-decoration: none;\n",
       "}\n",
       "\n",
       "/* Span, style for the box shown on hovering the info icon */\n",
       ".sk-estimator-doc-link span {\n",
       "  display: none;\n",
       "  z-index: 9999;\n",
       "  position: relative;\n",
       "  font-weight: normal;\n",
       "  right: .2ex;\n",
       "  padding: .5ex;\n",
       "  margin: .5ex;\n",
       "  width: min-content;\n",
       "  min-width: 20ex;\n",
       "  max-width: 50ex;\n",
       "  color: var(--sklearn-color-text);\n",
       "  box-shadow: 2pt 2pt 4pt #999;\n",
       "  /* unfitted */\n",
       "  background: var(--sklearn-color-unfitted-level-0);\n",
       "  border: .5pt solid var(--sklearn-color-unfitted-level-3);\n",
       "}\n",
       "\n",
       ".sk-estimator-doc-link.fitted span {\n",
       "  /* fitted */\n",
       "  background: var(--sklearn-color-fitted-level-0);\n",
       "  border: var(--sklearn-color-fitted-level-3);\n",
       "}\n",
       "\n",
       ".sk-estimator-doc-link:hover span {\n",
       "  display: block;\n",
       "}\n",
       "\n",
       "/* \"?\"-specific style due to the `<a>` HTML tag */\n",
       "\n",
       "#sk-container-id-1 a.estimator_doc_link {\n",
       "  float: right;\n",
       "  font-size: 1rem;\n",
       "  line-height: 1em;\n",
       "  font-family: monospace;\n",
       "  background-color: var(--sklearn-color-background);\n",
       "  border-radius: 1rem;\n",
       "  height: 1rem;\n",
       "  width: 1rem;\n",
       "  text-decoration: none;\n",
       "  /* unfitted */\n",
       "  color: var(--sklearn-color-unfitted-level-1);\n",
       "  border: var(--sklearn-color-unfitted-level-1) 1pt solid;\n",
       "}\n",
       "\n",
       "#sk-container-id-1 a.estimator_doc_link.fitted {\n",
       "  /* fitted */\n",
       "  border: var(--sklearn-color-fitted-level-1) 1pt solid;\n",
       "  color: var(--sklearn-color-fitted-level-1);\n",
       "}\n",
       "\n",
       "/* On hover */\n",
       "#sk-container-id-1 a.estimator_doc_link:hover {\n",
       "  /* unfitted */\n",
       "  background-color: var(--sklearn-color-unfitted-level-3);\n",
       "  color: var(--sklearn-color-background);\n",
       "  text-decoration: none;\n",
       "}\n",
       "\n",
       "#sk-container-id-1 a.estimator_doc_link.fitted:hover {\n",
       "  /* fitted */\n",
       "  background-color: var(--sklearn-color-fitted-level-3);\n",
       "}\n",
       "</style><div id=\"sk-container-id-1\" class=\"sk-top-container\"><div class=\"sk-text-repr-fallback\"><pre>RandomForestRegressor(random_state=42)</pre><b>In a Jupyter environment, please rerun this cell to show the HTML representation or trust the notebook. <br />On GitHub, the HTML representation is unable to render, please try loading this page with nbviewer.org.</b></div><div class=\"sk-container\" hidden><div class=\"sk-item\"><div class=\"sk-estimator fitted sk-toggleable\"><input class=\"sk-toggleable__control sk-hidden--visually\" id=\"sk-estimator-id-1\" type=\"checkbox\" checked><label for=\"sk-estimator-id-1\" class=\"sk-toggleable__label fitted sk-toggleable__label-arrow\"><div><div>RandomForestRegressor</div></div><div><a class=\"sk-estimator-doc-link fitted\" rel=\"noreferrer\" target=\"_blank\" href=\"https://scikit-learn.org/1.6/modules/generated/sklearn.ensemble.RandomForestRegressor.html\">?<span>Documentation for RandomForestRegressor</span></a><span class=\"sk-estimator-doc-link fitted\">i<span>Fitted</span></span></div></label><div class=\"sk-toggleable__content fitted\"><pre>RandomForestRegressor(random_state=42)</pre></div> </div></div></div></div>"
      ],
      "text/plain": [
       "RandomForestRegressor(random_state=42)"
      ]
     },
     "execution_count": 65,
     "metadata": {},
     "output_type": "execute_result"
    }
   ],
   "source": [
    "random_forest_reg = RandomForestRegressor(random_state=42)\n",
    "random_forest_reg.fit(X_train2, y_train2)"
   ]
  },
  {
   "cell_type": "code",
   "execution_count": 66,
   "id": "40a3c25c",
   "metadata": {},
   "outputs": [],
   "source": [
    "y_predicted = np.round(random_forest_reg.predict(X_test2), 2)"
   ]
  },
  {
   "cell_type": "markdown",
   "id": "95d32836",
   "metadata": {},
   "source": [
    "#### Final Model Evaluation for RandomForestRegressor"
   ]
  },
  {
   "cell_type": "code",
   "execution_count": 67,
   "id": "424a3b9c",
   "metadata": {},
   "outputs": [
    {
     "name": "stdout",
     "output_type": "stream",
     "text": [
      "Accuracy of RandomForestRegressor calculated by hand: 93.39 %\n"
     ]
    }
   ],
   "source": [
    "accuracy = (y_predicted == y_test2).sum()/len(y_test2)\n",
    "print(\"Accuracy of RandomForestRegressor calculated by hand:\", np.round((accuracy * 100), 2), \"%\")"
   ]
  },
  {
   "cell_type": "code",
   "execution_count": 68,
   "id": "a9e7c258",
   "metadata": {},
   "outputs": [
    {
     "name": "stdout",
     "output_type": "stream",
     "text": [
      "R2 Score of RandomForestRegressor: 99.44\n"
     ]
    }
   ],
   "source": [
    "score = r2_score(y_test2, y_predicted)\n",
    "print(\"R2 Score of RandomForestRegressor:\", np.round((score * 100), 2))"
   ]
  },
  {
   "cell_type": "code",
   "execution_count": 69,
   "id": "68c82a76",
   "metadata": {},
   "outputs": [
    {
     "name": "stdout",
     "output_type": "stream",
     "text": [
      "MSE for RandomForestRegressor: 0.027\n"
     ]
    }
   ],
   "source": [
    "error = np.sqrt(mean_squared_error(y_test2, y_predicted))\n",
    "print(\"MSE for RandomForestRegressor:\", np.round(error, 3))"
   ]
  }
 ],
 "metadata": {
  "kernelspec": {
   "display_name": "Python 3",
   "language": "python",
   "name": "python3"
  },
  "language_info": {
   "codemirror_mode": {
    "name": "ipython",
    "version": 3
   },
   "file_extension": ".py",
   "mimetype": "text/x-python",
   "name": "python",
   "nbconvert_exporter": "python",
   "pygments_lexer": "ipython3",
   "version": "3.13.3"
  }
 },
 "nbformat": 4,
 "nbformat_minor": 5
}
